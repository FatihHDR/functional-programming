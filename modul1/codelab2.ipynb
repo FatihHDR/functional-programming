{
 "cells": [
  {
   "cell_type": "markdown",
   "id": "d72d464d",
   "metadata": {},
   "source": [
    "# CODELAB 2 — Total Belanja dari Dictionary\n",
    "\n",
    "Sebuah program menghitung total belanja berdasarkan data barang dan harga.\n",
    "\n",
    "Tugas:\n",
    "1. Buat sebuah dictionary yang menyimpan data nama barang dan harganya.\n",
    "2. Lengkapi fungsi untuk menghitung total belanja berdasarkan isi dictionary.\n",
    "3. Tampilkan total belanja.\n",
    "4. Lengkapi dan perbaiki kode berikut agar dapat berjalan dengan benar."
   ]
  },
  {
   "cell_type": "code",
   "execution_count": null,
   "id": "87ea93c3",
   "metadata": {},
   "outputs": [],
   "source": [
    "# Fatih - 132\n",
    "\n",
    "# TO DO 1: Lengkapi dictionary berikut dengan nama barang dan harganya (minimal 3 data)\n",
    "barang = {\n",
    "    \"apel\": 10000,\n",
    "    \"susu\": 18000,\n",
    "    \"roti\": 15000,\n",
    "    \"kopi\": 25000,\n",
    "}\n",
    "\n",
    "# Fatih - 132\n",
    "# TO DO 2\n",
    "def hitung_total(data):\n",
    "    total = 0\n",
    "    for item in data:\n",
    "        harga = data[item]\n",
    "        if not isinstance(harga, (int, float)):\n",
    "            raise TypeError(f\"Harga untuk '{item}' harus angka, dapat: {type(harga)}\")\n",
    "        if harga < 0:\n",
    "            raise ValueError(f\"Harga untuk '{item}' tidak boleh negatif\")\n",
    "        total += harga\n",
    "    return total"
   ]
  },
  {
   "cell_type": "code",
   "execution_count": null,
   "id": "3611e300",
   "metadata": {},
   "outputs": [],
   "source": [
    "def hitung_total(data: dict[str, int | float]) -> float:\n",
    "    if not isinstance(data, dict):\n",
    "        raise TypeError(\"Parameter 'data' harus dictionary: nama_barang -> harga\")\n",
    "\n",
    "    if not all(isinstance(k, str) for k in data.keys()):\n",
    "        raise TypeError(\"Semua kunci dictionary harus bertipe string\")\n",
    "    if not all(isinstance(v, (int, float)) for v in data.values()):\n",
    "        raise TypeError(\"Semua harga harus bertipe int atau float\")\n",
    "    if not all(v >= 0 for v in data.values()):\n",
    "        raise ValueError(\"Tidak boleh ada harga bernilai negatif\")\n",
    "\n",
    "    return float(sum(data.values()))"
   ]
  },
  {
   "cell_type": "code",
   "execution_count": 5,
   "id": "dfaf49de",
   "metadata": {},
   "outputs": [
    {
     "ename": "NameError",
     "evalue": "name 'hitungTotal' is not defined",
     "output_type": "error",
     "traceback": [
      "\u001b[31m---------------------------------------------------------------------------\u001b[39m",
      "\u001b[31mNameError\u001b[39m                                 Traceback (most recent call last)",
      "\u001b[36mCell\u001b[39m\u001b[36m \u001b[39m\u001b[32mIn[5]\u001b[39m\u001b[32m, line 1\u001b[39m\n\u001b[32m----> \u001b[39m\u001b[32m1\u001b[39m hasil = \u001b[43mhitungTotal\u001b[49m(harga)\n\u001b[32m      2\u001b[39m \u001b[38;5;28mprint\u001b[39m(\u001b[33m\"\u001b[39m\u001b[33mTotal belanja Anda adalah:\u001b[39m\u001b[33m\"\u001b[39m, hasil)\n",
      "\u001b[31mNameError\u001b[39m: name 'hitungTotal' is not defined"
     ]
    }
   ],
   "source": [
    "hasil = hitungTotal(harga)\n",
    "print(\"Total belanja Anda adalah:\", hasil)"
   ]
  },
  {
   "cell_type": "code",
   "execution_count": null,
   "id": "ad08434d",
   "metadata": {},
   "outputs": [
    {
     "name": "stdout",
     "output_type": "stream",
     "text": [
      "Daftar barang:\n",
      "- apel: Rp10.000\n",
      "- susu: Rp18.000\n",
      "- roti: Rp15.000\n",
      "- kopi: Rp25.000\n",
      "\n",
      "Total belanja Anda adalah: Rp68.000.0\n"
     ]
    }
   ],
   "source": [
    "# Fatih - 132\n",
    "try:\n",
    "    hasil = hitung_total(barang)\n",
    "    print(\"Daftar barang:\")\n",
    "    for k, v in barang.items():\n",
    "        print(f\"- {k}: Rp{v:,.0f}\".replace(\",\", \".\"))\n",
    "    print(\"\\nTotal belanja Anda adalah: Rp{:,}\".format(hasil).replace(\",\", \".\"))\n",
    "except Exception as e:\n",
    "    print(\"Terjadi kesalahan:\", e)"
   ]
  }
 ],
 "metadata": {
  "kernelspec": {
   "display_name": ".venv",
   "language": "python",
   "name": "python3"
  },
  "language_info": {
   "codemirror_mode": {
    "name": "ipython",
    "version": 3
   },
   "file_extension": ".py",
   "mimetype": "text/x-python",
   "name": "python",
   "nbconvert_exporter": "python",
   "pygments_lexer": "ipython3",
   "version": "3.13.2"
  }
 },
 "nbformat": 4,
 "nbformat_minor": 5
}
