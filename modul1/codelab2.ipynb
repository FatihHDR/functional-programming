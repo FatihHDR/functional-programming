{
 "cells": [
  {
   "cell_type": "markdown",
   "id": "d72d464d",
   "metadata": {},
   "source": [
    "# CODELAB 2 — Total Belanja dari Dictionary\n",
    "\n",
    "Sebuah program menghitung total belanja berdasarkan data barang dan harga.\n",
    "\n",
    "Tugas:\n",
    "1. Buat sebuah dictionary yang menyimpan data nama barang dan harganya.\n",
    "2. Lengkapi fungsi untuk menghitung total belanja berdasarkan isi dictionary.\n",
    "3. Tampilkan total belanja.\n",
    "4. Lengkapi dan perbaiki kode berikut agar dapat berjalan dengan benar."
   ]
  },
  {
   "cell_type": "code",
   "execution_count": 11,
   "id": "4cb41d3a",
   "metadata": {},
   "outputs": [
    {
     "name": "stdout",
     "output_type": "stream",
     "text": [
      "Data barang dan harga:\n",
      "- apel: Rp10.000\n",
      "- pisang: Rp12.000\n",
      "- susu: Rp18.000\n",
      "- roti: Rp15.000\n",
      "\n",
      "Total belanja: Rp55.000\n"
     ]
    }
   ],
   "source": [
    "from typing import Dict\n",
    "\n",
    "barang_dan_harga: Dict[str, float] = {\n",
    "    \"apel\": 10000,\n",
    "    \"pisang\": 12000,\n",
    "    \"susu\": 18000,\n",
    "    \"roti\": 15000,\n",
    "}\n",
    "\n",
    "def format_rupiah(n: float) -> str:\n",
    "    if not isinstance(n, (int, float)):\n",
    "        raise TypeError(\"n harus bertipe int/float\")\n",
    "    if n < 0:\n",
    "        raise ValueError(\"n tidak boleh negatif\")\n",
    "    return f\"Rp{n:,.0f}\".replace(\",\", \".\")\n",
    "\n",
    "\n",
    "def hitung_total_belanja(data: Dict[str, float]) -> float:\n",
    "    \"\"\"\n",
    "    Menghitung total belanja dari dictionary nama->harga.\n",
    "    Validasi:\n",
    "    - data harus dict\n",
    "    - setiap kunci string\n",
    "    - setiap nilai angka (int/float) dan >= 0\n",
    "    \"\"\"\n",
    "    if not isinstance(data, dict):\n",
    "        raise TypeError(\"data harus bertipe dict\")\n",
    "\n",
    "    total = 0.0\n",
    "    for k, v in data.items():\n",
    "        if not isinstance(k, str):\n",
    "            raise TypeError(\"kunci dictionary harus string (nama barang)\")\n",
    "        if not isinstance(v, (int, float)):\n",
    "            raise TypeError(f\"Harga untuk '{k}' harus angka (int/float)\")\n",
    "        if v < 0:\n",
    "            raise ValueError(f\"Harga untuk '{k}' tidak boleh negatif\")\n",
    "        total += float(v)\n",
    "\n",
    "    return total\n",
    "\n",
    "# 3) Tampilkan data dan total\n",
    "print(\"Data barang dan harga:\")\n",
    "for nama, harga in barang_dan_harga.items():\n",
    "    print(f\"- {nama}: {format_rupiah(harga)}\")\n",
    "\n",
    "total = hitung_total_belanja(barang_dan_harga)\n",
    "print(\"\\nTotal belanja:\", format_rupiah(total))"
   ]
  },
  {
   "cell_type": "code",
   "execution_count": 12,
   "id": "87ea93c3",
   "metadata": {},
   "outputs": [
    {
     "name": "stdout",
     "output_type": "stream",
     "text": [
      "Contoh data: {'teh': 7000, 'gula': 14000, 'beras': 52000}\n",
      "Total: 73000.0\n"
     ]
    }
   ],
   "source": [
    "contoh_data = {\"teh\": 7000, \"gula\": 14000, \"beras\": 52000}\n",
    "print(\"Contoh data:\", contoh_data)\n",
    "print(\"Total:\", hitung_total_belanja(contoh_data))"
   ]
  }
 ],
 "metadata": {
  "kernelspec": {
   "display_name": ".venv",
   "language": "python",
   "name": "python3"
  },
  "language_info": {
   "codemirror_mode": {
    "name": "ipython",
    "version": 3
   },
   "file_extension": ".py",
   "mimetype": "text/x-python",
   "name": "python",
   "nbconvert_exporter": "python",
   "pygments_lexer": "ipython3",
   "version": "3.13.2"
  }
 },
 "nbformat": 4,
 "nbformat_minor": 5
}
