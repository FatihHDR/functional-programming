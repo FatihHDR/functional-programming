{
 "cells": [
  {
   "cell_type": "markdown",
   "id": "d3e15acf",
   "metadata": {},
   "source": [
    "## LATIHAN 1"
   ]
  },
  {
   "cell_type": "code",
   "execution_count": 1,
   "id": "246d06c0",
   "metadata": {},
   "outputs": [],
   "source": [
    "NIM = \"202310370311132\"\n",
    "ipk = False"
   ]
  },
  {
   "cell_type": "markdown",
   "id": "de0c248d",
   "metadata": {},
   "source": [
    "## LATIHAN 2"
   ]
  },
  {
   "cell_type": "code",
   "execution_count": 2,
   "id": "04fc7678",
   "metadata": {},
   "outputs": [
    {
     "name": "stdout",
     "output_type": "stream",
     "text": [
      "28\n",
      "32\n"
     ]
    }
   ],
   "source": [
    "import sys\n",
    "print(sys.getsizeof(-123456789))\n",
    "print(sys.getsizeof(1234567890))"
   ]
  },
  {
   "cell_type": "markdown",
   "id": "eeac4557",
   "metadata": {},
   "source": [
    "## LATIHAN 3"
   ]
  },
  {
   "cell_type": "code",
   "execution_count": 3,
   "id": "6bc4c006",
   "metadata": {},
   "outputs": [
    {
     "name": "stdout",
     "output_type": "stream",
     "text": [
      "nilainya =  1.1234567890123457\n",
      "tipenya =  <class 'float'>\n",
      "ukuran =  24\n",
      "nilainya =  100000.123456789\n",
      "tipenya =  <class 'float'>\n",
      "ukuran =  24\n"
     ]
    }
   ],
   "source": [
    "data1 = 1.123456789012345678\n",
    "data2 = 100000.123456789012345678\n",
    "\n",
    "print('nilainya = ', data1)\n",
    "print('tipenya = ', type(data1))\n",
    "print('ukuran = ', sys.getsizeof(data1))\n",
    "\n",
    "print('nilainya = ', data2)\n",
    "print('tipenya = ', type(data2))\n",
    "print('ukuran = ', sys.getsizeof(data2))"
   ]
  },
  {
   "cell_type": "markdown",
   "id": "702154eb",
   "metadata": {},
   "source": [
    "float Python adalah pembungkus (wrapper) untuk tipe C double (IEEE 754 64-bit). Nilai disimpan dalam 8 byte (1 bit sign, 11 bit exponent, 52 bit fraction/mantissa), dan di luar itu ada overhead objek Python (reference count + pointer ke tipe, dll) sehingga total jadi 24 byte. Karena representasinya tetap 64-bit untuk bagian nilai, ukuran objeknya konstan.\n",
    "\n",
    " karena tidak semua bilangan desimal dapat direpresentasikan persis dalam biner 64-bit. Python menampilkan pembulatan terdekat yang mewakili nilai sebenarnya dalam representasi floating-point.\n",
    "\n",
    "int di Python itu panjang tak terbatas secara konseptual, sehingga ukuran memorinya bertambah saat angka makin besar.\n",
    "\n",
    "\n"
   ]
  },
  {
   "cell_type": "markdown",
   "id": "19a76f99",
   "metadata": {},
   "source": [
    "## LATIHAN 4"
   ]
  },
  {
   "cell_type": "code",
   "execution_count": 6,
   "id": "4da6fe87",
   "metadata": {},
   "outputs": [
    {
     "ename": "TypeError",
     "evalue": "'tuple' object does not support item assignment",
     "output_type": "error",
     "traceback": [
      "\u001b[31m---------------------------------------------------------------------------\u001b[39m",
      "\u001b[31mTypeError\u001b[39m                                 Traceback (most recent call last)",
      "\u001b[36mCell\u001b[39m\u001b[36m \u001b[39m\u001b[32mIn[6]\u001b[39m\u001b[32m, line 2\u001b[39m\n\u001b[32m      1\u001b[39m contoh_tuple1 = (\u001b[32m1\u001b[39m, \u001b[32m2\u001b[39m, \u001b[32m3\u001b[39m)\n\u001b[32m----> \u001b[39m\u001b[32m2\u001b[39m \u001b[43mcontoh_tuple1\u001b[49m\u001b[43m[\u001b[49m\u001b[32;43m0\u001b[39;49m\u001b[43m]\u001b[49m = \u001b[32m10\u001b[39m\n",
      "\u001b[31mTypeError\u001b[39m: 'tuple' object does not support item assignment"
     ]
    }
   ],
   "source": [
    "\n",
    "contoh_tuple1 = (1, 2, 3)\n",
    "contoh_tuple1[0] = 10\n"
   ]
  },
  {
   "cell_type": "code",
   "execution_count": 5,
   "id": "2f83b4cd",
   "metadata": {},
   "outputs": [
    {
     "name": "stdout",
     "output_type": "stream",
     "text": [
      "<class 'tuple'>\n",
      "64\n"
     ]
    }
   ],
   "source": [
    "contoh_tuple1 = 1, 2, 3\n",
    "print(type(contoh_tuple1))\n",
    "print(sys.getsizeof(contoh_tuple1))"
   ]
  },
  {
   "cell_type": "markdown",
   "id": "67950692",
   "metadata": {},
   "source": [
    "## LATIHAN 5"
   ]
  },
  {
   "cell_type": "code",
   "execution_count": 9,
   "id": "9b82a13e",
   "metadata": {},
   "outputs": [
    {
     "name": "stdout",
     "output_type": "stream",
     "text": [
      "NIM: 132\n",
      "Dua digit terakhir: 32\n",
      "Paritas: genap\n",
      "Hasil (tipe tuple): (0, 2, 4, 6, 8, 10, 12, 14, 16, 18, 20, 22, 24, 26, 28, 30, 32)\n"
     ]
    }
   ],
   "source": [
    "nim = 132\n",
    "last_two = nim % 100\n",
    "\n",
    "end = last_two + (nim * 10 - last_two) * (last_two < 9)\n",
    "\n",
    "paritas = nim % 2\n",
    "\n",
    "angka_iter = range(paritas, end + 1, 2)\n",
    "\n",
    "Container = (tuple, list)[paritas]\n",
    "hasil = Container(angka_iter)\n",
    "\n",
    "print(\"NIM:\", nim)\n",
    "print(\"Dua digit terakhir:\", last_two)\n",
    "print(\"Paritas:\", \"genap\" if paritas == 0 else \"ganjil\")\n",
    "print(\"Hasil (tipe {}):\".format(type(hasil).__name__), hasil)"
   ]
  },
  {
   "cell_type": "markdown",
   "id": "2820c53b",
   "metadata": {},
   "source": [
    "## LATIHAN 6"
   ]
  },
  {
   "cell_type": "code",
   "execution_count": 10,
   "id": "1fddb955",
   "metadata": {},
   "outputs": [
    {
     "name": "stdout",
     "output_type": "stream",
     "text": [
      "NIM (string): 202310370311132 <class 'str'>\n",
      "Ke int: 202310370311132 <class 'int'>\n",
      "Ke float: 202310370311132.0 <class 'float'>\n",
      "Gagal cast int('hello') -> ValueError: invalid literal for int() with base 10: 'hello'\n",
      "Gagal cast float('hello') -> ValueError: could not convert string to float: 'hello'\n",
      "String ilmiah: 1.23e4 -> float: 12300.0\n"
     ]
    }
   ],
   "source": [
    "nim_str = \"202310370311132\"\n",
    "print(\"NIM (string):\", nim_str, type(nim_str))\n",
    "\n",
    "nim_int = int(nim_str)\n",
    "print(\"Ke int:\", nim_int, type(nim_int))\n",
    "\n",
    "nim_float = float(nim_str)\n",
    "print(\"Ke float:\", nim_float, type(nim_float))\n",
    "\n",
    "s = \"hello\"\n",
    "for func in (int, float):\n",
    "    try:\n",
    "        func(s)\n",
    "    except ValueError as e:\n",
    "        print(f\"Gagal cast {func.__name__}('{s}') -> ValueError: {e}\")\n",
    "\n",
    "sci = \"1.23e4\"\n",
    "print(\"String ilmiah:\", sci, \"-> float:\", float(sci))"
   ]
  }
 ],
 "metadata": {
  "kernelspec": {
   "display_name": ".venv",
   "language": "python",
   "name": "python3"
  },
  "language_info": {
   "codemirror_mode": {
    "name": "ipython",
    "version": 3
   },
   "file_extension": ".py",
   "mimetype": "text/x-python",
   "name": "python",
   "nbconvert_exporter": "python",
   "pygments_lexer": "ipython3",
   "version": "3.13.2"
  }
 },
 "nbformat": 4,
 "nbformat_minor": 5
}
