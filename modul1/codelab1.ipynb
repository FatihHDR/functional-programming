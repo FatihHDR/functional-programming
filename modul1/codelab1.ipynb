{
 "cells": [
  {
   "cell_type": "markdown",
   "id": "78c5daf0",
   "metadata": {},
   "source": [
    "# CODELAB 1\n",
    "\n",
    "Lengkapi program untuk memisahkan harga yang diinput user (dipisahkan spasi) menjadi:\n",
    "- Harga murah: < 50.000, disimpan dalam list\n",
    "- Harga mahal: ≥ 50.000, disimpan dalam tuple\n",
    "\n",
    "Ketentuan:\n",
    "- Input berupa angka bulat dipisahkan spasi, contoh: `10000 75000 30000 50000`\n",
    "- Lakukan casting ke tipe data yang sesuai (int)\n",
    "- Tampilkan hasil kedua kategori dan tipenya"
   ]
  },
  {
   "cell_type": "code",
   "execution_count": 3,
   "id": "9df08a65",
   "metadata": {},
   "outputs": [
    {
     "name": "stdout",
     "output_type": "stream",
     "text": [
      "Harga murah: [10000, 30000, 45000] <class 'list'>\n",
      "Harga mahal: (75000,) <class 'tuple'>\n"
     ]
    }
   ],
   "source": [
    "# Fatih - 132\n",
    "\n",
    "def pisahkan_harga(input_harga):\n",
    "    list_murah = []\n",
    "    list_mahal = ()\n",
    "\n",
    "    for x in input_harga.split():\n",
    "        # TODO 1 (done): casting ke int\n",
    "        harga = int(x)\n",
    "        # TODO 2 (done): kondisi harga murah (< 50000)\n",
    "        if harga < 50000:\n",
    "            # TODO 3 (done): tambahkan ke list murah\n",
    "            list_murah.append(harga)\n",
    "        else:\n",
    "            # TODO 4 (done): tambahkan ke tuple mahal (tuple immutable ⇒ buat tuple baru)\n",
    "            list_mahal = list_mahal + (harga,)\n",
    "    return list_murah, list_mahal\n",
    "\n",
    "input_harga = input(\"Masukkan daftar harga (pisahkan dengan spasi): \")\n",
    "\n",
    "murah, mahal = pisahkan_harga(input_harga)\n",
    "\n",
    "print(\"Harga murah:\", murah, type(murah))\n",
    "print(\"Harga mahal:\", mahal, type(mahal))"
   ]
  }
 ],
 "metadata": {
  "kernelspec": {
   "display_name": ".venv",
   "language": "python",
   "name": "python3"
  },
  "language_info": {
   "codemirror_mode": {
    "name": "ipython",
    "version": 3
   },
   "file_extension": ".py",
   "mimetype": "text/x-python",
   "name": "python",
   "nbconvert_exporter": "python",
   "pygments_lexer": "ipython3",
   "version": "3.13.2"
  }
 },
 "nbformat": 4,
 "nbformat_minor": 5
}
