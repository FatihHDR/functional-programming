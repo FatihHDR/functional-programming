{
 "cells": [
  {
   "cell_type": "markdown",
   "id": "78c5daf0",
   "metadata": {},
   "source": [
    "# CODELAB 1 — Pisahkan Harga Menjadi List dan Tuple\n",
    "\n",
    "Lengkapi program untuk memisahkan harga yang diinput user (dipisahkan spasi) menjadi:\n",
    "- Harga murah: < 50.000, disimpan dalam list\n",
    "- Harga mahal: ≥ 50.000, disimpan dalam tuple\n",
    "\n",
    "Ketentuan:\n",
    "- Input berupa angka bulat dipisahkan spasi, contoh: `10000 75000 30000 50000`\n",
    "- Lakukan casting ke tipe data yang sesuai (int)\n",
    "- Tampilkan hasil kedua kategori dan tipenya"
   ]
  },
  {
   "cell_type": "code",
   "execution_count": null,
   "id": "9df08a65",
   "metadata": {},
   "outputs": [],
   "source": [
    "from typing import List, Tuple\n",
    "\n",
    "def pisahkan_harga(input_text: str, batas: int = 50000) -> Tuple[List[int], Tuple[int, ...]]:\n",
    "    \"\"\"\n",
    "    Memisahkan harga menjadi dua kategori berdasarkan batas.\n",
    "    - Harga murah: < batas -> list[int]\n",
    "    - Harga mahal: >= batas -> tuple[int, ...]\n",
    "\n",
    "    Parameter:\n",
    "        input_text: string input berisi angka dipisahkan spasi\n",
    "        batas: nilai batas pemisah (default 50000)\n",
    "\n",
    "    Return:\n",
    "        (murah_list, mahal_tuple)\n",
    "    \"\"\"\n",
    "    if not isinstance(input_text, str):\n",
    "        raise TypeError(\"input_text harus bertipe str\")\n",
    "\n",
    "    tokens = [t for t in input_text.strip().split(\" \") if t != \"\"]\n",
    "    try:\n",
    "        angka = [int(t) for t in tokens]\n",
    "    except ValueError as e:\n",
    "        raise ValueError(\"Pastikan semua input adalah angka bulat yang valid.\") from e\n",
    "\n",
    "    murah = [n for n in angka if n < batas]\n",
    "    mahal = tuple(n for n in angka if n >= batas)\n",
    "    return murah, mahal\n",
    "\n",
    "# murah, mahal = pisahkan_harga(\"10000 75000 30000 50000\")\n",
    "# print(\"Murah (list):\", murah, type(murah))\n",
    "# print(\"Mahal (tuple):\", mahal, type(mahal))"
   ]
  },
  {
   "cell_type": "code",
   "execution_count": 11,
   "id": "726e9769",
   "metadata": {},
   "outputs": [
    {
     "name": "stdout",
     "output_type": "stream",
     "text": [
      "Murah (list): [10000, 30000] <class 'list'>\n",
      "Mahal (tuple): (75000, 50000) <class 'tuple'>\n"
     ]
    }
   ],
   "source": [
    "raw = input(\"Masukkan harga dipisahkan spasi (misal: 10000 75000 30000 50000): \")\n",
    "try:\n",
    "    murah, mahal = pisahkan_harga(raw)\n",
    "    print(\"Murah (list):\", murah, type(murah))\n",
    "    print(\"Mahal (tuple):\", mahal, type(mahal))\n",
    "except Exception as e:\n",
    "    print(\"Terjadi kesalahan:\", e)"
   ]
  },
  {
   "cell_type": "code",
   "execution_count": 12,
   "id": "d382e662",
   "metadata": {},
   "outputs": [
    {
     "name": "stdout",
     "output_type": "stream",
     "text": [
      "Input:       10000 75000 30000 50000 120000 49999\n",
      "Murah (list): [10000, 30000, 49999] <class 'list'>\n",
      "Mahal (tuple): (75000, 50000, 120000) <class 'tuple'>\n"
     ]
    }
   ],
   "source": [
    "contoh = \"10000 75000 30000 50000 120000 49999\"\n",
    "murah, mahal = pisahkan_harga(contoh)\n",
    "print(\"Input:      \", contoh)\n",
    "print(\"Murah (list):\", murah, type(murah))\n",
    "print(\"Mahal (tuple):\", mahal, type(mahal))"
   ]
  }
 ],
 "metadata": {
  "kernelspec": {
   "display_name": ".venv",
   "language": "python",
   "name": "python3"
  },
  "language_info": {
   "codemirror_mode": {
    "name": "ipython",
    "version": 3
   },
   "file_extension": ".py",
   "mimetype": "text/x-python",
   "name": "python",
   "nbconvert_exporter": "python",
   "pygments_lexer": "ipython3",
   "version": "3.13.2"
  }
 },
 "nbformat": 4,
 "nbformat_minor": 5
}
