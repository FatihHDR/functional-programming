{
 "cells": [
  {
   "cell_type": "markdown",
   "id": "f9a1a5b5",
   "metadata": {},
   "source": [
    "## Data Karyawan"
   ]
  },
  {
   "cell_type": "code",
   "execution_count": null,
   "id": "56ba6c7a",
   "metadata": {},
   "outputs": [
    {
     "name": "stdout",
     "output_type": "stream",
     "text": [
      "Total data karyawan: 10\n",
      "Data siap diproses dengan generator!\n"
     ]
    }
   ],
   "source": [
    "karyawan = [\n",
    "    {'nama': 'Zaky', 'gaji': 5000000, 'bonus': 1000000, 'status_aktif': True},\n",
    "    {'nama': 'Fitra', 'gaji': 4500000, 'bonus': None, 'status_aktif': True},\n",
    "    {'nama': 'Fia', 'gaji': 5200000, 'bonus': 500000, 'status_aktif': True},\n",
    "    {'nama': 'Adit', 'gaji': 6000000, 'bonus': 1000000, 'status_aktif': False},\n",
    "    {'nama': 'Faizal', 'gaji': 4000000, 'bonus': 700000, 'status_aktif': True},\n",
    "    {'nama': 'Radan', 'gaji': 5500000, 'bonus': 'tidak ada', 'status_aktif': True},\n",
    "    {'nama': 'Wempy', 'gaji': 4800000, 'bonus': 600000, 'status_aktif': True},\n",
    "    {'nama': 'Alfi', 'gaji': 5000000, 'bonus': 800000, 'status_aktif': False},\n",
    "    {'nama': 'Hakim', 'gaji': 5200000, 'bonus': 1000000, 'status_aktif': True},\n",
    "    {'nama': 'Rama', 'gaji': None, 'bonus': 750000, 'status_aktif': True}\n",
    "]\n",
    "\n",
    "print(f\"Total data karyawan: {len(karyawan)}\")\n",
    "print(\"Data siap diproses dengan generator\")"
   ]
  },
  {
   "cell_type": "code",
   "execution_count": null,
   "id": "bba191ec",
   "metadata": {},
   "outputs": [
    {
     "name": "stdout",
     "output_type": "stream",
     "text": [
      "=== SOAL 1: Karyawan Aktif (Generator Expression) ===\n",
      "\n",
      "Generator dibuat (belum dievaluasi): <generator object <genexpr> at 0x00000150439B2E90>\n",
      "\n",
      "Mengambil data dengan while + next():\n",
      "\n",
      "✓ Zaky       | Gaji: 5000000 | Bonus: 1000000\n",
      "✓ Fitra      | Gaji: 4500000 | Bonus: None\n",
      "✓ Fia        | Gaji: 5200000 | Bonus: 500000\n",
      "✓ Faizal     | Gaji: 4000000 | Bonus: 700000\n",
      "✓ Radan      | Gaji: 5500000 | Bonus: tidak ada\n",
      "✓ Wempy      | Gaji: 4800000 | Bonus: 600000\n",
      "✓ Hakim      | Gaji: 5200000 | Bonus: 1000000\n",
      "✓ Rama       | Gaji: None | Bonus: 750000\n",
      "\n",
      "--- Generator habis (StopIteration) ---\n",
      "Selesai.\n",
      "\n",
      "Total karyawan aktif: 8\n",
      "\n",
      "Hasil lengkap:\n",
      "[{'nama': 'Zaky', 'gaji': 5000000, 'bonus': 1000000, 'status_aktif': True}, {'nama': 'Fitra', 'gaji': 4500000, 'bonus': None, 'status_aktif': True}, {'nama': 'Fia', 'gaji': 5200000, 'bonus': 500000, 'status_aktif': True}, {'nama': 'Faizal', 'gaji': 4000000, 'bonus': 700000, 'status_aktif': True}, {'nama': 'Radan', 'gaji': 5500000, 'bonus': 'tidak ada', 'status_aktif': True}, {'nama': 'Wempy', 'gaji': 4800000, 'bonus': 600000, 'status_aktif': True}, {'nama': 'Hakim', 'gaji': 5200000, 'bonus': 1000000, 'status_aktif': True}, {'nama': 'Rama', 'gaji': None, 'bonus': 750000, 'status_aktif': True}]\n"
     ]
    }
   ],
   "source": [
    "karyawan_aktif_gen = (k for k in karyawan if k['status_aktif'] == True)\n",
    "\n",
    "print(\"=== SOAL 1: Karyawan Aktif (Generator Expression) ===\\n\")\n",
    "print(\"Generator dibuat (belum dievaluasi):\", karyawan_aktif_gen)\n",
    "print(\"\\nMengambil data dengan while + next():\\n\")\n",
    "\n",
    "hasil_soal1 = []\n",
    "try:\n",
    "    while True:\n",
    "        karyawan_item = next(karyawan_aktif_gen)\n",
    "        hasil_soal1.append(karyawan_item)\n",
    "        print(f\"✓ {karyawan_item['nama']:<10} | Gaji: {karyawan_item['gaji']} | Bonus: {karyawan_item['bonus']}\")\n",
    "except StopIteration:\n",
    "    print(\"\\n--- Generator habis (StopIteration) ---\")\n",
    "    print(\"Selesai.\")\n",
    "\n",
    "print(f\"\\nTotal karyawan aktif: {len(hasil_soal1)}\")\n",
    "print(\"\\nHasil lengkap:\")\n",
    "print(hasil_soal1)"
   ]
  },
  {
   "cell_type": "code",
   "execution_count": null,
   "id": "0f8b2c2a",
   "metadata": {},
   "outputs": [
    {
     "name": "stdout",
     "output_type": "stream",
     "text": [
      "=== SOAL 2: Karyawan Data Tidak Valid (Fungsi Generator) ===\n",
      "\n",
      "Generator function dibuat: <generator object karyawan_data_invalid at 0x000001504373B3D0>\n",
      "\n",
      "Mengambil data dengan while + next():\n",
      "\n",
      "Fitra\n",
      "Radan\n",
      "Rama\n",
      "\n",
      "--- Generator habis (StopIteration) ---\n",
      "Selesai.\n",
      "\n",
      "Total karyawan dengan data tidak valid: 3\n"
     ]
    }
   ],
   "source": [
    "def karyawan_data_invalid(data_karyawan):\n",
    "    for k in data_karyawan:\n",
    "        gaji_valid = isinstance(k['gaji'], int)\n",
    "        bonus_valid = isinstance(k['bonus'], int)\n",
    "        \n",
    "        if not gaji_valid or not bonus_valid:\n",
    "            yield k['nama']\n",
    "\n",
    "print(\"=== SOAL 2: Karyawan Data Tidak Valid (Fungsi Generator) ===\\n\")\n",
    "\n",
    "gen_invalid = karyawan_data_invalid(karyawan)\n",
    "print(\"Generator function dibuat:\", gen_invalid)\n",
    "print(\"\\nMengambil data dengan while + next():\\n\")\n",
    "\n",
    "hasil_soal2 = []\n",
    "try:\n",
    "    while True:\n",
    "        nama_invalid = next(gen_invalid)\n",
    "        hasil_soal2.append(nama_invalid)\n",
    "        print(nama_invalid)\n",
    "except StopIteration:\n",
    "    print(\"\\n--- Generator habis (StopIteration) ---\")\n",
    "    print(\"Selesai.\")\n",
    "\n",
    "print(f\"\\nTotal karyawan dengan data tidak valid: {len(hasil_soal2)}\")"
   ]
  },
  {
   "cell_type": "code",
   "execution_count": null,
   "id": "114a7425",
   "metadata": {},
   "outputs": [
    {
     "name": "stdout",
     "output_type": "stream",
     "text": [
      "=== SOAL 3: Kontribusi Karyawan Aktif Valid (Fungsi Generator) ===\n",
      "\n",
      "Generator function dibuat: <generator object kontribusi_karyawan at 0x000001504394D9C0>\n",
      "\n",
      "Mengambil data dengan while + next():\n",
      "\n",
      "✓ Zaky       | Kompensasi: Rp 6,000,000 | Kontribusi:  21.43%\n",
      "✓ Fia        | Kompensasi: Rp 5,700,000 | Kontribusi:  20.36%\n",
      "✓ Faizal     | Kompensasi: Rp 4,700,000 | Kontribusi:  16.79%\n",
      "✓ Wempy      | Kompensasi: Rp 5,400,000 | Kontribusi:  19.29%\n",
      "✓ Hakim      | Kompensasi: Rp 6,200,000 | Kontribusi:  22.14%\n",
      "\n",
      "--- Generator habis (StopIteration) ---\n",
      "Selesai.\n",
      "\n",
      "Total karyawan valid: 5\n",
      "\n",
      "Hasil lengkap:\n",
      "[{'nama': 'Zaky', 'kompensasi': 6000000, 'kontribusi': '21.43%'}, {'nama': 'Fia', 'kompensasi': 5700000, 'kontribusi': '20.36%'}, {'nama': 'Faizal', 'kompensasi': 4700000, 'kontribusi': '16.79%'}, {'nama': 'Wempy', 'kompensasi': 5400000, 'kontribusi': '19.29%'}, {'nama': 'Hakim', 'kompensasi': 6200000, 'kontribusi': '22.14%'}]\n"
     ]
    }
   ],
   "source": [
    "def kontribusi_karyawan(data_karyawan):\n",
    "    karyawan_valid = [\n",
    "        k for k in data_karyawan\n",
    "        if k['status_aktif'] == True\n",
    "        and isinstance(k['gaji'], int)\n",
    "        and isinstance(k['bonus'], int)\n",
    "    ]\n",
    "    \n",
    "    total_kompensasi = sum(k['gaji'] + k['bonus'] for k in karyawan_valid)\n",
    "    \n",
    "    for k in karyawan_valid:\n",
    "        kompensasi = k['gaji'] + k['bonus']\n",
    "        kontribusi_pct = (kompensasi / total_kompensasi) * 100\n",
    "        \n",
    "        yield {\n",
    "            'nama': k['nama'],\n",
    "            'kompensasi': kompensasi,\n",
    "            'kontribusi': f\"{kontribusi_pct:.2f}%\"\n",
    "        }\n",
    "\n",
    "print(\"=== SOAL 3: Kontribusi Karyawan Aktif Valid (Fungsi Generator) ===\\n\")\n",
    "\n",
    "gen_kontribusi = kontribusi_karyawan(karyawan)\n",
    "print(\"Generator function dibuat:\", gen_kontribusi)\n",
    "print(\"\\nMengambil data dengan while + next():\\n\")\n",
    "\n",
    "hasil_soal3 = []\n",
    "try:\n",
    "    while True:\n",
    "        kontribusi_item = next(gen_kontribusi)\n",
    "        hasil_soal3.append(kontribusi_item)\n",
    "        print(f\"✓ {kontribusi_item['nama']:<10} | Kompensasi: Rp{kontribusi_item['kompensasi']:>10,} | Kontribusi: {kontribusi_item['kontribusi']:>7}\")\n",
    "except StopIteration:\n",
    "    print(\"\\n--- Generator habis (StopIteration) ---\")\n",
    "    print(\"Selesai.\")\n",
    "\n",
    "print(f\"\\nTotal karyawan valid: {len(hasil_soal3)}\")\n",
    "print(\"\\nHasil lengkap:\")\n",
    "print(hasil_soal3)"
   ]
  },
  {
   "cell_type": "code",
   "execution_count": null,
   "id": "ac476c89",
   "metadata": {},
   "outputs": [
    {
     "name": "stdout",
     "output_type": "stream",
     "text": [
      "=== Demo Lazy Evaluation ===\n",
      "\n",
      "1. Membuat generator object:\n",
      "   Generator dibuat: <generator object demo_lazy_generator at 0x00000150439B0520>\n",
      "   (Belum ada output dari generator!)\n",
      "\n",
      "2. Mengambil nilai dengan next():\n",
      "  [Generator] Mulai iterasi...\n",
      "  [Generator] Menghasilkan nilai 0\n",
      "   Nilai 1: 0\n",
      "  [Generator] Menghasilkan nilai 1\n",
      "   Nilai 2: 2\n",
      "\n",
      "3. Ambil sisa dengan while + next():\n",
      "  [Generator] Menghasilkan nilai 2\n",
      "   Nilai: 4\n",
      "  [Generator] Menghasilkan nilai 3\n",
      "   Nilai: 6\n",
      "  [Generator] Menghasilkan nilai 4\n",
      "   Nilai: 8\n",
      "  [Generator] Selesai!\n",
      "   [StopIteration] Generator habis!\n",
      "\n",
      "✓ Terbukti: Generator hanya execute saat next() dipanggil (lazy!)\n"
     ]
    }
   ],
   "source": [
    "def demo_lazy_generator():\n",
    "    print(\"  [Generator] Mulai iterasi...\")\n",
    "    for i in range(5):\n",
    "        print(f\"  [Generator] Menghasilkan nilai {i}\")\n",
    "        yield i * 2\n",
    "    print(\"  [Generator] Selesai!\")\n",
    "\n",
    "print(\"=== Demo Lazy Evaluation ===\\n\")\n",
    "print(\"1. Membuat generator object:\")\n",
    "gen = demo_lazy_generator()\n",
    "print(f\"   Generator dibuat: {gen}\")\n",
    "print(\"   (Belum ada output dari generator!)\\n\")\n",
    "\n",
    "print(\"2. Mengambil nilai dengan next():\")\n",
    "print(f\"   Nilai 1: {next(gen)}\")\n",
    "print(f\"   Nilai 2: {next(gen)}\")\n",
    "print(\"\\n3. Ambil sisa dengan while + next():\")\n",
    "\n",
    "try:\n",
    "    while True:\n",
    "        val = next(gen)\n",
    "        print(f\"   Nilai: {val}\")\n",
    "except StopIteration:\n",
    "    print(\"   [StopIteration] Generator habis!\\n\")\n",
    "\n",
    "print(\"✓ Terbukti: Generator hanya execute saat next() dipanggil (lazy!)\")"
   ]
  }
 ],
 "metadata": {
  "kernelspec": {
   "display_name": ".venv",
   "language": "python",
   "name": "python3"
  },
  "language_info": {
   "codemirror_mode": {
    "name": "ipython",
    "version": 3
   },
   "file_extension": ".py",
   "mimetype": "text/x-python",
   "name": "python",
   "nbconvert_exporter": "python",
   "pygments_lexer": "ipython3",
   "version": "3.13.2"
  }
 },
 "nbformat": 4,
 "nbformat_minor": 5
}
