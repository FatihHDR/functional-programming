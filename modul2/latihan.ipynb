{
 "cells": [
  {
   "cell_type": "markdown",
   "id": "c2d2fadc",
   "metadata": {},
   "source": [
    "### Latihan 1"
   ]
  },
  {
   "cell_type": "code",
   "execution_count": 25,
   "id": "1f68357c",
   "metadata": {},
   "outputs": [
    {
     "name": "stdout",
     "output_type": "stream",
     "text": [
      "Hasil tambah nilai- 25\n",
      "nilai awal= {'web': 10, 'mobile': 20}\n"
     ]
    }
   ],
   "source": [
    "nilai = {'web': 10, 'mobile': 20}\n",
    "\n",
    "def tambah_nilai_pure(kategori, tambahan):\n",
    "\treturn nilai[kategori] + tambahan\n",
    "\n",
    "print(\"Hasil tambah nilai-\", tambah_nilai_pure('web', 15))\n",
    "\n",
    "print(\"nilai awal=\", nilai)"
   ]
  },
  {
   "cell_type": "markdown",
   "id": "f5cedf20",
   "metadata": {},
   "source": [
    "### Latihan 2"
   ]
  },
  {
   "cell_type": "code",
   "execution_count": 26,
   "id": "e76231f5",
   "metadata": {},
   "outputs": [],
   "source": [
    "class KelipatanTiga:\n",
    "    def __init__(self, limit):\n",
    "        self.limit = limit\n",
    "        self.current = 0\n",
    "\n",
    "    def __iter__(self):\n",
    "        return self\n",
    "\n",
    "    def __next__(self):\n",
    "        if self.current <= self.limit:\n",
    "            result = self.current\n",
    "            self.current += 3\n",
    "            return result\n",
    "        else:\n",
    "            raise StopIteration"
   ]
  },
  {
   "cell_type": "code",
   "execution_count": 27,
   "id": "81363a40",
   "metadata": {},
   "outputs": [
    {
     "name": "stdout",
     "output_type": "stream",
     "text": [
      "0\n",
      "3\n",
      "6\n",
      "9\n"
     ]
    }
   ],
   "source": [
    "kelipatan_tiga = KelipatanTiga(15)\n",
    "\n",
    "for i in range(4):\n",
    "    print(next(kelipatan_tiga))"
   ]
  },
  {
   "cell_type": "code",
   "execution_count": 28,
   "id": "9c78b42e",
   "metadata": {},
   "outputs": [
    {
     "name": "stdout",
     "output_type": "stream",
     "text": [
      "<__main__.KelipatanTiga object at 0x000001E56A0B23C0>\n",
      "<class '__main__.KelipatanTiga'>\n"
     ]
    }
   ],
   "source": [
    "# latihan 2a\n",
    "\n",
    "print(kelipatan_tiga)\n",
    "print(type(kelipatan_tiga))\n"
   ]
  },
  {
   "cell_type": "code",
   "execution_count": 29,
   "id": "591e6abe",
   "metadata": {},
   "outputs": [
    {
     "name": "stdout",
     "output_type": "stream",
     "text": [
      "12\n"
     ]
    }
   ],
   "source": [
    "# Latihan 2b\n",
    "print(next(kelipatan_tiga))"
   ]
  },
  {
   "cell_type": "code",
   "execution_count": 30,
   "id": "01916f89",
   "metadata": {},
   "outputs": [
    {
     "name": "stdout",
     "output_type": "stream",
     "text": [
      "<generator object kelipatn_tiga_generator at 0x000001E569EEDC00>\n",
      "0-3-6-9-12-15-"
     ]
    }
   ],
   "source": [
    "def kelipatn_tiga_generator(limit):\n",
    "    current = 0\n",
    "    while current <= limit:\n",
    "        yield current\n",
    "        current += 3\n",
    "\n",
    "generate = kelipatn_tiga_generator(15)\n",
    "print(generate)\n",
    "\n",
    "for angka in generate:\n",
    "    print(angka, end='-')"
   ]
  },
  {
   "cell_type": "code",
   "execution_count": 31,
   "id": "bedf9386",
   "metadata": {},
   "outputs": [
    {
     "name": "stdout",
     "output_type": "stream",
     "text": [
      "<class 'function'>\n",
      "<class 'generator'>\n",
      "<function kelipatan_tiga at 0x000001E56A706FC0>\n",
      "<generator object kelipatan_tiga at 0x000001E569EECF40>\n"
     ]
    }
   ],
   "source": [
    "def kelipatan_tiga(limit):\n",
    "    n = 0\n",
    "    while n <= limit:\n",
    "        yield n\n",
    "        n += 3\n",
    "\n",
    "generator_tiga = kelipatan_tiga(15)\n",
    "\n",
    "print(type(kelipatan_tiga))\n",
    "print(type(generator_tiga))\n",
    "print(kelipatan_tiga)\n",
    "print(generator_tiga)"
   ]
  }
 ],
 "metadata": {
  "kernelspec": {
   "display_name": ".venv",
   "language": "python",
   "name": "python3"
  },
  "language_info": {
   "codemirror_mode": {
    "name": "ipython",
    "version": 3
   },
   "file_extension": ".py",
   "mimetype": "text/x-python",
   "name": "python",
   "nbconvert_exporter": "python",
   "pygments_lexer": "ipython3",
   "version": "3.13.2"
  }
 },
 "nbformat": 4,
 "nbformat_minor": 5
}
