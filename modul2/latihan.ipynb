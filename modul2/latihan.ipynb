{
 "cells": [
  {
   "cell_type": "markdown",
   "id": "c2d2fadc",
   "metadata": {},
   "source": [
    "### Latihan 1"
   ]
  },
  {
   "cell_type": "code",
   "execution_count": 25,
   "id": "1f68357c",
   "metadata": {},
   "outputs": [
    {
     "name": "stdout",
     "output_type": "stream",
     "text": [
      "Hasil tambah nilai- 25\n",
      "nilai awal= {'web': 10, 'mobile': 20}\n"
     ]
    }
   ],
   "source": [
    "nilai = {'web': 10, 'mobile': 20}\n",
    "\n",
    "def tambah_nilai_pure(kategori, tambahan):\n",
    "\treturn nilai[kategori] + tambahan\n",
    "\n",
    "print(\"Hasil tambah nilai-\", tambah_nilai_pure('web', 15))\n",
    "\n",
    "print(\"nilai awal=\", nilai)"
   ]
  },
  {
   "cell_type": "markdown",
   "id": "f5cedf20",
   "metadata": {},
   "source": [
    "### Latihan 2"
   ]
  },
  {
   "cell_type": "code",
   "execution_count": 26,
   "id": "e76231f5",
   "metadata": {},
   "outputs": [],
   "source": [
    "class KelipatanTiga:\n",
    "    def __init__(self, limit):\n",
    "        self.limit = limit\n",
    "        self.current = 0\n",
    "\n",
    "    def __iter__(self):\n",
    "        return self\n",
    "\n",
    "    def __next__(self):\n",
    "        if self.current <= self.limit:\n",
    "            result = self.current\n",
    "            self.current += 3\n",
    "            return result\n",
    "        else:\n",
    "            raise StopIteration"
   ]
  },
  {
   "cell_type": "code",
   "execution_count": 27,
   "id": "81363a40",
   "metadata": {},
   "outputs": [
    {
     "name": "stdout",
     "output_type": "stream",
     "text": [
      "0\n",
      "3\n",
      "6\n",
      "9\n"
     ]
    }
   ],
   "source": [
    "kelipatan_tiga = KelipatanTiga(15)\n",
    "\n",
    "for i in range(4):\n",
    "    print(next(kelipatan_tiga))"
   ]
  },
  {
   "cell_type": "code",
   "execution_count": 28,
   "id": "9c78b42e",
   "metadata": {},
   "outputs": [
    {
     "name": "stdout",
     "output_type": "stream",
     "text": [
      "<__main__.KelipatanTiga object at 0x000001E56A0B23C0>\n",
      "<class '__main__.KelipatanTiga'>\n"
     ]
    }
   ],
   "source": [
    "# latihan 2a\n",
    "\n",
    "print(kelipatan_tiga)\n",
    "print(type(kelipatan_tiga))\n"
   ]
  },
  {
   "cell_type": "code",
   "execution_count": 29,
   "id": "591e6abe",
   "metadata": {},
   "outputs": [
    {
     "name": "stdout",
     "output_type": "stream",
     "text": [
      "12\n"
     ]
    }
   ],
   "source": [
    "# Latihan 2b\n",
    "print(next(kelipatan_tiga))"
   ]
  },
  {
   "cell_type": "markdown",
   "id": "99c8b880",
   "metadata": {},
   "source": [
    "### Latihan 3"
   ]
  },
  {
   "cell_type": "code",
   "execution_count": 30,
   "id": "01916f89",
   "metadata": {},
   "outputs": [
    {
     "name": "stdout",
     "output_type": "stream",
     "text": [
      "<generator object kelipatn_tiga_generator at 0x000001E569EEDC00>\n",
      "0-3-6-9-12-15-"
     ]
    }
   ],
   "source": [
    "def kelipatn_tiga_generator(limit):\n",
    "    current = 0\n",
    "    while current <= limit:\n",
    "        yield current\n",
    "        current += 3\n",
    "\n",
    "generate = kelipatn_tiga_generator(15)\n",
    "print(generate)\n",
    "\n",
    "for angka in generate:\n",
    "    print(angka, end='-')"
   ]
  },
  {
   "cell_type": "code",
   "execution_count": 31,
   "id": "bedf9386",
   "metadata": {},
   "outputs": [
    {
     "name": "stdout",
     "output_type": "stream",
     "text": [
      "<class 'function'>\n",
      "<class 'generator'>\n",
      "<function kelipatan_tiga at 0x000001E56A706FC0>\n",
      "<generator object kelipatan_tiga at 0x000001E569EECF40>\n"
     ]
    }
   ],
   "source": [
    "def kelipatan_tiga(limit):\n",
    "    n = 0\n",
    "    while n <= limit:\n",
    "        yield n\n",
    "        n += 3\n",
    "\n",
    "generator_tiga = kelipatan_tiga(15)\n",
    "\n",
    "print(type(kelipatan_tiga))\n",
    "print(type(generator_tiga))\n",
    "print(kelipatan_tiga)\n",
    "print(generator_tiga)"
   ]
  },
  {
   "cell_type": "code",
   "execution_count": null,
   "id": "da3affff",
   "metadata": {},
   "outputs": [
    {
     "name": "stdout",
     "output_type": "stream",
     "text": [
      "<generator object <genexpr> at 0x000001E56A6E45F0>\n",
      "0-3-6-9-12-15-"
     ]
    }
   ],
   "source": [
    "#  Generator expression untuk angka kelipatan 3\n",
    "gen_expr = (i for i in range(16) if i % 3 == 0)\n",
    "\n",
    "print(gen_expr)\n",
    "\n",
    "for val in gen_expr:\n",
    "    print(val, end='-')"
   ]
  },
  {
   "cell_type": "markdown",
   "id": "a4415dad",
   "metadata": {},
   "source": [
    "### Latihan 4"
   ]
  },
  {
   "cell_type": "code",
   "execution_count": 33,
   "id": "28c2df66",
   "metadata": {},
   "outputs": [
    {
     "name": "stdout",
     "output_type": "stream",
     "text": [
      "data range =  range(1, 100)\n",
      "data list =  [1, 2, 3, 4, 5, 6, 7, 8, 9, 10, 11, 12, 13, 14, 15, 16, 17, 18, 19, 20, 21, 22, 23, 24, 25, 26, 27, 28, 29, 30, 31, 32, 33, 34, 35, 36, 37, 38, 39, 40, 41, 42, 43, 44, 45, 46, 47, 48, 49, 50, 51, 52, 53, 54, 55, 56, 57, 58, 59, 60, 61, 62, 63, 64, 65, 66, 67, 68, 69, 70, 71, 72, 73, 74, 75, 76, 77, 78, 79, 80, 81, 82, 83, 84, 85, 86, 87, 88, 89, 90, 91, 92, 93, 94, 95, 96, 97, 98, 99]\n",
      "Size dari range:  48\n",
      "Size dari list: 856\n"
     ]
    }
   ],
   "source": [
    "ini_range = range(1, 100)\n",
    "ini_list = list(range(1, 100))\n",
    "#PERCOBAAN 4a\n",
    "\n",
    "print(\"data range = \",ini_range)\n",
    "print(\"data list = \",ini_list)\n",
    "\n",
    "from sys import getsizeof\n",
    "x = getsizeof(ini_range)\n",
    "print(\"Size dari range: \", x)\n",
    "\n",
    "y = getsizeof(ini_list)\n",
    "print(\"Size dari list:\", y)\n",
    "\n",
    "#PERCOBAAN 4b"
   ]
  },
  {
   "cell_type": "markdown",
   "id": "d3ab9cc3",
   "metadata": {},
   "source": [
    "### Latihan 5"
   ]
  },
  {
   "cell_type": "code",
   "execution_count": 1,
   "id": "472d9d26",
   "metadata": {},
   "outputs": [
    {
     "name": "stdout",
     "output_type": "stream",
     "text": [
      "Tidak bisa membagi dengan nol\n",
      "Program selesai\n"
     ]
    }
   ],
   "source": [
    "a=10\n",
    "b=0\n",
    "\n",
    "try:\n",
    "    hasil = a / b\n",
    "except ZeroDivisionError:\n",
    "    print(\"Tidak bisa membagi dengan nol\")\n",
    "else:\n",
    "    print(\"Hasil pembagian:\", hasil)\n",
    "finally:\n",
    "    print(\"Program selesai\")"
   ]
  },
  {
   "cell_type": "code",
   "execution_count": null,
   "id": "8c42b3b0",
   "metadata": {},
   "outputs": [
    {
     "name": "stdout",
     "output_type": "stream",
     "text": [
      "Memproses nilai: 10\n",
      "Hasil pembagian 100 / 10 = 10.0\n",
      "Satu proses selesai.\n",
      "\n",
      "Memproses nilai: 0\n",
      "Terjadi ZeroDivisionError: Tidak bisa membagi dengan nol.\n",
      "Satu proses selesai.\n",
      "\n",
      "Memproses nilai: abc\n",
      "Terjadi ValueError: Nilai tidak bisa dikonversi ke integer.\n",
      "Satu proses selesai.\n",
      "\n",
      "Memproses nilai: None\n",
      "Terjadi TypeError: Tipe data tidak valid.\n",
      "Satu proses selesai.\n",
      "\n",
      "Semua proses selesai\n"
     ]
    }
   ],
   "source": [
    "data = [\"10\", \"0\", \"abc\", None]\n",
    "\n",
    "for nilai in data:\n",
    "    try:\n",
    "        print(f\"Memproses nilai: {nilai}\")\n",
    "        angka = int(nilai)\n",
    "        hasil = 100 / angka\n",
    "    except ValueError:\n",
    "        print(\"Terjadi ValueError: Nilai tidak bisa dikonversi ke integer.\")\n",
    "    except ZeroDivisionError:\n",
    "        print(\"Terjadi ZeroDivisionError: Tidak bisa membagi dengan nol.\")\n",
    "    except TypeError:\n",
    "        print(\"Terjadi TypeError: Tipe data tidak valid.\")\n",
    "    except Exception as e:\n",
    "        print(f\"Terjadi kesalahan lain: {e}\")\n",
    "    else:\n",
    "        print(f\"Hasil pembagian 100 / {angka} = {hasil}\")\n",
    "    finally:\n",
    "        print(\"Satu proses selesai.\\n\")\n",
    "\n",
    "print(\"Semua proses selesai\")\n",
    "\n",
    "# PERCOBAAN 5"
   ]
  }
 ],
 "metadata": {
  "kernelspec": {
   "display_name": ".venv",
   "language": "python",
   "name": "python3"
  },
  "language_info": {
   "codemirror_mode": {
    "name": "ipython",
    "version": 3
   },
   "file_extension": ".py",
   "mimetype": "text/x-python",
   "name": "python",
   "nbconvert_exporter": "python",
   "pygments_lexer": "ipython3",
   "version": "3.13.2"
  }
 },
 "nbformat": 4,
 "nbformat_minor": 5
}
