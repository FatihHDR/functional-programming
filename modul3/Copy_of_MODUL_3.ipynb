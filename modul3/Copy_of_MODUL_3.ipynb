{
  "cells": [
    {
      "cell_type": "markdown",
      "metadata": {
        "id": "0fGFbn7051Y7"
      },
      "source": [
        "# **READ BEFORE CONTINUE**\n",
        "\n",
        "> Untuk mendapatkan akses edit kalian bisa membuat copy di perangkat kalian masing-masing dengan menggunakan akun gmail masing-masing (Menu File -> Save copy in Drive)"
      ]
    },
    {
      "cell_type": "markdown",
      "metadata": {
        "id": "zN5wuMWUrg9f"
      },
      "source": [
        "# **Modul 3 Pemrograman Fungsional 2025**\n",
        "\n",
        "---\n",
        "Processing Sequence Data in Functional Programming"
      ]
    },
    {
      "cell_type": "markdown",
      "metadata": {
        "id": "gfBuQrWd5Jzd"
      },
      "source": [
        "Disusun oleh:\n",
        "1. Fera Putri Ayu L., S.Kom., M.T.\n",
        "2. Alfi Aulia Azzahra\n",
        "3. Rahmatun Nikmah\n",
        "\n",
        "Presented by: Tim Laboratorium Informatika Universitas Muhammadiyah Malang"
      ]
    },
    {
      "cell_type": "markdown",
      "metadata": {
        "id": "PGdYh0JhW2Qp"
      },
      "source": [
        "# Tujuan Praktikum"
      ]
    },
    {
      "cell_type": "markdown",
      "metadata": {
        "id": "WHzCbip1XE__"
      },
      "source": [
        "<p align=\"justify\"> Sub-CPMK 7: Mahasiswa mampu mendesain program dengan teknik yang tepat untuk menyelesaikan masalah dengan menggunakan paradigma pemrograman fungsional (P6)"
      ]
    },
    {
      "cell_type": "markdown",
      "metadata": {
        "id": "6doUTD8bXLyh"
      },
      "source": [
        "# Target Modul"
      ]
    },
    {
      "cell_type": "markdown",
      "metadata": {
        "id": "mfQBbF6NXQJN"
      },
      "source": [
        "1. Praktikan mampu mengelola data berdasarkan proses yang tepat sebagai bentuk komputasi data dengan memanfaatkan teknik-teknik fungsional\n",
        "2. Praktikan diharap dapat memanfaatkan list comprehension guna membangun struktur data yang lebih efektif dan efisien"
      ]
    },
    {
      "cell_type": "markdown",
      "metadata": {
        "id": "r2XjD4e2MdNE"
      },
      "source": [
        "# **1. Teknik Pengolahan Data Sequence**"
      ]
    },
    {
      "cell_type": "markdown",
      "metadata": {
        "id": "tWIhT5fLMipB"
      },
      "source": [
        "Dalam paradigma fungsional, program kita merupakan sebuah urutan transformasi data dari suatu bentuk ke bentuk yang lain. Mari kita lihat beberapa contoh implementasi nyata tentang cara kerja paradigma fungsional ini dalam dunia kita (informatika) berikut:\n",
        "\n",
        "1. Untuk pemrograman back-end server, kita dapat memodelkannya sebagai proses transformasi sebuah HTTP request menjadi HTTP response.\n",
        "2. Untuk pemrograman front-end, kita dapat memodelkannya sebagai proses transformasi data dari server menjadi representasi UI.\n",
        "3. Compiler merupakan program yang mentransformasi kode sumber menjadi executable.\n"
      ]
    },
    {
      "cell_type": "markdown",
      "metadata": {
        "id": "YEt4qs4E4ten"
      },
      "source": [
        "<p align=\"justify\"> Konsep transformasi data ini biasanya didukung dengan konsep data immutability - kekekalan data. Data yang kekal mengatakan bahwa kita tidak akan bisa mengubah nilainya setelah dibuat. Semua fungsi yang bekerja pada sebuah struktur data akan mengembalikan nilai baru, bukan memutasi nilainya. Ini merupakan poin penting dalam konsep transformasi data, karena kita akan bisa yakin bahwa data akan selalu kekal dan tidak mungkin diubah di tempat lain kecuali melalui fungsi transformasi kita. Konsep ini telah kita pelajari sebelumnya pada modul 2 tentang pure function sebagai syarat pemrograman fungsional. Itulah karakteristik ketiga dari paradigma fungsional: transformasi data, gunakan immutability, jangan mutasi data. Hal-hal inilah yang akan menjadi bahasan kita pada modul 3 kali ini."
      ]
    },
    {
      "cell_type": "markdown",
      "metadata": {
        "id": "LRmo6i9u4x4U"
      },
      "source": [
        "Selain itu, saat kita bekerja dengan koleksi data (seperti range, list, tuple, dictionary, dll), terdapat dua pola pemrograman yang sangat umum muncul, antara lain:\n",
        "\n",
        "1. Melakukan **iterasi koleksi untuk membangun koleksi lain.** Pada setiap iterasi, terapkan beberapa transformasi atau beberapa tes ke item saat ini dan tambahkan hasilnya ke koleksi baru. Ini adalah konsep dari map() dan filter()\n",
        "\n",
        "2. Melakukan **iterasi dan proses akumulasi hasil untuk membangun nilai tunggal.** len(), min(), max(), sum(), dan reduce() adalah contoh dari konsep ini."
      ]
    },
    {
      "cell_type": "markdown",
      "metadata": {
        "id": "0vS2Vf0D4-kW"
      },
      "source": [
        "# **2. Lebih Lanjut tentang Data Sequence**"
      ]
    },
    {
      "cell_type": "markdown",
      "metadata": {
        "id": "JdAJkq-X5CX8"
      },
      "source": [
        "<p align=\"justify\"> Pemrograman fungsional sangat cocok untuk bekerja dengan data sequence, seperti list, tuple, dan range, yang mana telah kita pelajari di modul 1 (pada sub bab Sequence Type). Sebagaimana juga telah kita pelajari sebelumnya tentang iterator, kita dapat menggunakan iterable object seperti: range, list, tuple, dictionary, dll sebagai parameter input fungsi iter() dan menjadikannya lazy. Masih ingat apa keuntungan dari kita menggunakan lazy evaluation? Coba cek kembali bahasan modul 2 ya"
      ]
    },
    {
      "cell_type": "markdown",
      "metadata": {
        "id": "ipfb0rKZ5Fh2"
      },
      "source": [
        "<p align=\"justify\"> Pada topik kali ini kita tidak akan mengulang bahasan yang sama yang telah dibahas di modul sebelumnya. Pun kita tidak akan membahas jenis tipe data sequence baru. Namun kita akan mencoba salah satu cara yang lebih efektif dan efisien dalam membangun sebuah struktur data sequence, khususnya tipe list."
      ]
    },
    {
      "cell_type": "markdown",
      "metadata": {
        "id": "oo4JotTw5Hye"
      },
      "source": [
        "##**2.1 List Comprehension**"
      ]
    },
    {
      "cell_type": "markdown",
      "metadata": {
        "id": "BwUf612I5Ni2"
      },
      "source": [
        "Di modul-modul sebelumnya, kita mempelajari tentang list dan cara mendeklarasikannya. Seperti ini:"
      ]
    },
    {
      "cell_type": "code",
      "execution_count": 1,
      "metadata": {
        "colab": {
          "base_uri": "https://localhost:8080/"
        },
        "id": "wUpWsN515XEd",
        "outputId": "5f88d8de-3b77-49e8-e45f-4e4a614c14ac"
      },
      "outputs": [
        {
          "name": "stdout",
          "output_type": "stream",
          "text": [
            "[1, 3, 5, 7, 9, 11, 13, 15, 17, 19, 21, 23, 25, 27, 29, 31, 33, 35, 37, 39, 41, 43, 45, 47, 49]\n"
          ]
        }
      ],
      "source": [
        "list_ganjil = [1, 3,5 ,7 ,9, 11, 13, 15, 17, 19, 21, 23, 25, 27, 29, 31, 33, 35, 37, 39, 41, 43, 45, 47, 49]\n",
        "print(list_ganjil)"
      ]
    },
    {
      "cell_type": "markdown",
      "metadata": {
        "id": "2L9AtzE-5ozq"
      },
      "source": [
        "<p align=\"justify\"> Untuk membuat list dengan ukuran yang lebih pendek, cara diatas memang cocok digunakan. Namun, apabila kita ingin membuat dengan isi yang lebih panjang, tentu cara ini tidak efisien. Misalnya jika kita akan membuat suatu list yang berisi angka ganjil mulai dari 1 sampai 100 atau bahkan 1000. Alih-alih menggunakan kode seperti di atas, kalian mungkin akan terpikir untuk menggunakan perulangan dan append list pada setiap iterasinya seperti berikut:"
      ]
    },
    {
      "cell_type": "code",
      "execution_count": 2,
      "metadata": {
        "colab": {
          "base_uri": "https://localhost:8080/"
        },
        "id": "Bb1FIWvG5pvT",
        "outputId": "1c9443e7-a7e0-4d9d-d9bc-5ffa5920284c"
      },
      "outputs": [
        {
          "name": "stdout",
          "output_type": "stream",
          "text": [
            "[1, 3, 5, 7, 9, 11, 13, 15, 17, 19, 21, 23, 25, 27, 29, 31, 33, 35, 37, 39, 41, 43, 45, 47, 49]\n",
            "[0, 2, 4, 6, 8, 10, 12, 14, 16, 18, 20, 22, 24, 26, 28, 30, 32, 34, 36, 38, 40, 42, 44, 46, 48]\n"
          ]
        }
      ],
      "source": [
        "list_ganjil = []\n",
        "list_genap = []\n",
        "\n",
        "#imperatif loop\n",
        "for i in range(50):\n",
        "  if i % 2:\n",
        "    list_ganjil.append(i)\n",
        "  else:\n",
        "    list_genap.append(i)\n",
        "\n",
        "print(list_ganjil)\n",
        "print(list_genap)"
      ]
    },
    {
      "cell_type": "markdown",
      "metadata": {
        "id": "2ktt1QXG52Kb"
      },
      "source": [
        "Dengan demikian tujuan kita bisa tercapai dengan cara yang lebih efektif. Sepanjang apapun data yang kita inginkan dapat kita bangun dengan cara ini (cukup mengubah nilai input dari `range`). Namun cara ini tergolong imperatif dan tidaklah fungsional. Hayoo, masih ingat kan imperatif itu apa"
      ]
    },
    {
      "cell_type": "markdown",
      "metadata": {
        "id": "2bGueMH853Hu"
      },
      "source": [
        "Oleh karena itu, penggunaan list comprehension bisa menjadi opsi yang lebih baik daripada kedua kode di atas.\n",
        "\n",
        "List comprehension adalah salah satu fitur dalam bahasa Python yang memungkinkan kita untuk membuat list baru dengan metode yang lebih ringkas dan mudah dibaca. List comprehension memungkinkan kita untuk mengubah iterable object (seperti range, list, string) menjadi sebuah list dalam satu baris kode saja.\n",
        "Bentuk umum penulisannya:"
      ]
    },
    {
      "cell_type": "markdown",
      "metadata": {
        "id": "x5lTICloNq8q"
      },
      "source": [
        "\n",
        "\n",
        "\n",
        "\n",
        "```\n",
        "newlist = ['ekspresi' for 'item' in 'iterable' if 'kondisi']\n",
        "```\n",
        "\n",
        "\n"
      ]
    },
    {
      "cell_type": "markdown",
      "metadata": {
        "id": "MCMTvgaQlC0U"
      },
      "source": [
        "* ekspresi → nilai yang akan dimasukkan ke list baru. (nilai yang di append)\n",
        "* item → variabel yang mewakili setiap elemen dalam iterasi.\n",
        "* iterable → sumber data yang bisa diulang (misalnya range, list, atau string).\n",
        "* kondisi → syarat opsional untuk menyaring elemen tertentu."
      ]
    },
    {
      "cell_type": "markdown",
      "metadata": {
        "id": "QS51Wy8pN6Db"
      },
      "source": [
        "Bagian iterasi/perulangan-for dan kondisi-if adalah kode yang sama persis yang kita susun secara linier (sebaris). Dan seperti inilah jadinya:"
      ]
    },
    {
      "cell_type": "code",
      "execution_count": 3,
      "metadata": {
        "colab": {
          "base_uri": "https://localhost:8080/"
        },
        "id": "v8l5hNJ85-RN",
        "outputId": "06339179-cb62-4289-e3a6-6e9b21e0c53b"
      },
      "outputs": [
        {
          "name": "stdout",
          "output_type": "stream",
          "text": [
            "[0, 2, 4, 6, 8, 10, 12, 14, 16, 18, 20, 22, 24, 26, 28, 30, 32, 34, 36, 38, 40, 42, 44, 46, 48]\n",
            "[1, 3, 5, 7, 9, 11, 13, 15, 17, 19, 21, 23, 25, 27, 29, 31, 33, 35, 37, 39, 41, 43, 45, 47, 49]\n"
          ]
        }
      ],
      "source": [
        "list_ganjil = [x for x in range (50) if x % 2]\n",
        "list_genap = [x for x in range (50) if not x % 2]\n",
        "print(list_genap)\n",
        "print(list_ganjil)"
      ]
    },
    {
      "cell_type": "markdown",
      "metadata": {
        "id": "nNENPy-e3b_G"
      },
      "source": [
        "> Kodenya jadi lebih ringkas dan sederhana kan daripada kode sebelumnya yang belum menggunakan list comprehension (masih imperatif).\n",
        "\n",
        "Cukup dengan satu baris kita dapat membuat daftar sepanjang yang kita mau. Kode diatas akan mengembalikan list baru tanpa mengubah iterable data. Hal ini menghasilkan list baru tanpa mengubah data aslinya (sejalan dengan prinsip immutability). Selain itu, konsep ini memenuhi karakteristik pemrograman fungsional sebagaimana yang telah dibahas di modul 2 sebelumnya, yaitu gaya deklaratif, kita cukup menyatakan “apa” yang ingin dibuat, bukan “bagaimana” cara membuatnya. Dengan list comprehension, kita menyatakan apa yang kita inginkan (daftar baru) daripada menjelaskan bagaimana cara mendapatkannya (dengan loop).\n",
        "\n",
        "Secara umum, list comprehension merupakan alat yang sangat berguna untuk mendukung gaya pemrograman fungsional di Python, karena mempermudah manipulasi data dengan kode yang lebih sederhana."
      ]
    },
    {
      "cell_type": "markdown",
      "metadata": {
        "id": "T1dwr0dSpEgC"
      },
      "source": [
        "```\n",
        "📌 Latihan 1 - Logika dasar\n",
        "```\n",
        "Coba kalian amati 2 cell code sebelumnya (list_ganjil & list_genap)! Kenapa program bisa tetap berjalan dengan hasil yang sesuai meski kondisi yang dipakai hanya menggunakan operator modulo saja ( x % 2) tanpa operator perbandingan/comparison seperti (misal) `==` atau `!=` ? Menurut kalian Kenapa hal ini penting disini?"
      ]
    },
    {
      "cell_type": "markdown",
      "metadata": {
        "id": "k_Q0Qhg43gvo"
      },
      "source": [
        "##**2.2 Nested List**"
      ]
    },
    {
      "cell_type": "markdown",
      "metadata": {
        "id": "aWNkZP_LoTsb"
      },
      "source": [
        "<p align=\"justify\"> Nested List adalah list yang di dalamnya terdapat list lain sebagai elemennya. Dalam Python, nested list sering digunakan untuk merepresentasikan struktur data multidimensi seperti matriks, tabel, atau grafik. Konsep ini mirip dengan array multidimensi pada bahasa pemrograman lain, tetapi nested list lebih fleksibel karena bisa bersifat dinamis (panjangnya bisa berubah), menyimpan berbagai tipe data sekaligus, dan mudah dimanipulasi. Contoh sederhana:"
      ]
    },
    {
      "cell_type": "code",
      "execution_count": 4,
      "metadata": {
        "colab": {
          "base_uri": "https://localhost:8080/"
        },
        "id": "PH7Z6CzYobJT",
        "outputId": "e444b6e9-ba39-482c-cea1-1507adf655a3"
      },
      "outputs": [
        {
          "name": "stdout",
          "output_type": "stream",
          "text": [
            "[[1, 2, 3], ['A', 'B', 'C'], [True, False, True]]\n"
          ]
        }
      ],
      "source": [
        "contoh = [\n",
        "    [1, 2, 3],\n",
        "    [\"A\", \"B\", \"C\"],\n",
        "    [True, False, True]\n",
        "]\n",
        "print(contoh)"
      ]
    },
    {
      "cell_type": "markdown",
      "metadata": {
        "id": "X8WKHv2t3plD"
      },
      "source": [
        "###**Percobaan 1: Membuat Matrix**"
      ]
    },
    {
      "cell_type": "markdown",
      "metadata": {
        "id": "vWE3FeOg3uTY"
      },
      "source": [
        "\n",
        "\n",
        "<p align=\"justify\">Pada contoh ini kita akan membuat matriks 4×5 menggunakan nested loop. Outer loop digunakan untuk membuat baris, sedangkan inner loop mengisi setiap baris dengan angka 0–4. Hasil akhirnya berupa matriks berisi integer berurutan."
      ]
    },
    {
      "cell_type": "markdown",
      "metadata": {
        "id": "O_1X6YDv3yPv"
      },
      "source": [
        "> a. Tanpa List Comprehension"
      ]
    },
    {
      "cell_type": "code",
      "execution_count": 5,
      "metadata": {
        "colab": {
          "base_uri": "https://localhost:8080/"
        },
        "id": "NBZgK2Cw30qR",
        "outputId": "8e845f09-a090-41f9-b9a4-190ce6613f83"
      },
      "outputs": [
        {
          "name": "stdout",
          "output_type": "stream",
          "text": [
            "[[0, 1, 2, 3, 4], [0, 1, 2, 3, 4], [0, 1, 2, 3, 4], [0, 1, 2, 3, 4]]\n"
          ]
        }
      ],
      "source": [
        "matrix1 = []\n",
        "\n",
        "for i in range(4): # 4 baris\n",
        "  matrix1.append([])\n",
        "  for j in range(5): # 5 kolom\n",
        "    matrix1[i].append(j)\n",
        "\n",
        "print(matrix1)"
      ]
    },
    {
      "cell_type": "markdown",
      "metadata": {
        "id": "9ZccRfY74wfN"
      },
      "source": [
        "> b. **Menggunakan List Comprehension**"
      ]
    },
    {
      "cell_type": "markdown",
      "metadata": {
        "id": "yq1y6rCpq1eB"
      },
      "source": [
        "<p align=\"justify\"> Sekali lagi, penggunaan looping eksplisit (for manual) seperti kode diatas terlalu imperatif dan sering dianggap kurang ringkas.\n",
        "\n",
        "Python menyediakan cara yang lebih sederhana dan deklaratif, yaitu dengan **nested list comprehension**. Dengan ini, kita bisa membuat matrix hanya dalam satu baris kode."
      ]
    },
    {
      "cell_type": "markdown",
      "metadata": {
        "id": "n03FZZfbOmYF"
      },
      "source": [
        "Coba perhatikan struktur syntax untuk nested list comprehension berikut:\n"
      ]
    },
    {
      "cell_type": "markdown",
      "metadata": {
        "id": "mHSm__VeGOz4"
      },
      "source": [
        "Disini sebenarnya kita masih menggunakan struktur syntax list comprehension yang sebelumnya:\n",
        "<p align=\"center\">\n",
        "\n",
        "\n",
        "```\n",
        "newlist = ['ekspresi' for 'item' in 'iterable' if 'kondisi']\n",
        "```\n",
        "\n",
        "\n",
        "\n",
        "Namun disini, 'ekspresi' yang kita gunakan berupa list comprehension juga. Sehingga bentuknya bisa kita tuliskan sbb:"
      ]
    },
    {
      "cell_type": "markdown",
      "metadata": {
        "id": "Ivxzr1bjOcbL"
      },
      "source": [
        "<p align=\"center\"><b>Syntax</b>\n",
        "\n",
        "\n",
        "\n",
        "```\n",
        "newlist = [[ekspresi for item in inner_iterable] for item in outer_iterable]\n",
        "```\n",
        "\n",
        "\n",
        "\n",
        "\n"
      ]
    },
    {
      "cell_type": "markdown",
      "metadata": {
        "id": "GUaEkaUWq5Fm"
      },
      "source": [
        "* Inner list/Bagian dalam ([ekspresi for item in inner_iterable]) menghasilkan sebuah list kecil.\n",
        "\n",
        "* Outer list/Bagian luar (for item in outer_iterable) mengulangi proses pembuatan inner list, lalu menyusunnya menjadi list besar."
      ]
    },
    {
      "cell_type": "code",
      "execution_count": 6,
      "metadata": {
        "colab": {
          "base_uri": "https://localhost:8080/"
        },
        "id": "bawNOVOgYhYP",
        "outputId": "f4444477-68cc-429c-feee-b7734a86f2e3"
      },
      "outputs": [
        {
          "name": "stdout",
          "output_type": "stream",
          "text": [
            "[[0, 1, 2, 3, 4], [0, 1, 2, 3, 4], [0, 1, 2, 3, 4], [0, 1, 2, 3, 4]]\n"
          ]
        }
      ],
      "source": [
        "# Membuat matrix 4x5 dengan list comprehension\n",
        "matrix2 = [[j for j in range(5)] for i in range(4)]\n",
        "\n",
        "print(matrix2)"
      ]
    },
    {
      "cell_type": "markdown",
      "metadata": {
        "id": "84zYh1x1F3X4"
      },
      "source": [
        "disini `[j for j in range(5)]` sebagai inner. Untuk mengisi data perbaris, dan menghasilkan angka 0-4 pada setiap kolomnya masing-masing. Selanjutnya syntax `for i in range(4)` sebagai outernya, diulang 4 kali sehingga jadi ada 4 baris"
      ]
    },
    {
      "cell_type": "markdown",
      "metadata": {
        "id": "knGIh69OP9Sj"
      },
      "source": [
        "```\n",
        "📌 Latihan 2 - Percobaan 1\n",
        "```\n",
        " Gunakan list comprehension untuk membuat matrix 3×4 dengan isi angka berurutan dari 0 hingga 11, dan tampilkan dalam bentuk matrix seperti berikut!\n",
        "\n",
        "```\n",
        "[0, 1, 2, 3]\n",
        "[4, 5, 6, 7]\n",
        "[8, 9, 10, 11]\n",
        "```\n",
        "\n",
        ">kalian bisa memodifikasi list comprehension pada matrix2 untuk ini\n",
        "\n",
        "\n"
      ]
    },
    {
      "cell_type": "markdown",
      "metadata": {
        "id": "cv1flFBw7ob9"
      },
      "source": [
        "###**Percobaan 2: Filtering Nested List Menggunakan List Comprehension**"
      ]
    },
    {
      "cell_type": "markdown",
      "metadata": {
        "id": "Z8P4B0T37_eV"
      },
      "source": [
        "<p align=\"justify\">Penambahan kondisi-if pada bagian akhir dari list comprehension memungkinkan kita menyaring data dalam nested list sesuai kriteria yang diinginkan. Hal ini dikenal juga dengan istilah filtering. Contohnya, kita dapat mengambil hanya elemen dengan nilai genap atau ganjil, atau melakukan operasi filtering lainnya berdasarkan baris atau kolom dari nested list."
      ]
    },
    {
      "cell_type": "markdown",
      "metadata": {
        "id": "jldlr5xlQnWH"
      },
      "source": [
        "<p align=\"justify\"> Dalam sintaks nested list comprehension, terdapat dua list comprehension. Masing-masing dapat dilengkapi dengan kondisi if yang berbeda, dan akan memberikan dampak yang berbeda pula.  Kondisi pada inner loop akan memfilter elemen kolom matrix, sedangkan kondisi pada outer loop akan memfilter baris matriks.\n",
        "\n"
      ]
    },
    {
      "cell_type": "code",
      "execution_count": 7,
      "metadata": {
        "id": "7kANLgMkVCcc"
      },
      "outputs": [],
      "source": [
        "#run cell ini sebelum run cell selanjutnya!\n",
        "baris = 3\n",
        "kolom = 5"
      ]
    },
    {
      "cell_type": "markdown",
      "metadata": {
        "id": "trz8XSoCQqHI"
      },
      "source": [
        "Secara konvensional, pengkondisian menggunakan if dapat dituliskan didalam/setelah loop yang kita inginkan. Perhatikan contoh berikut!"
      ]
    },
    {
      "cell_type": "markdown",
      "metadata": {
        "id": "G3GW3uPGSBf2"
      },
      "source": [
        "> **a. Tanpa List Comprehension**"
      ]
    },
    {
      "cell_type": "code",
      "execution_count": 8,
      "metadata": {
        "colab": {
          "base_uri": "https://localhost:8080/"
        },
        "id": "fAIFka0wOnbD",
        "outputId": "af8b60a8-10d6-4518-caa0-30847ba2d6ba"
      },
      "outputs": [
        {
          "name": "stdout",
          "output_type": "stream",
          "text": [
            "Matriks asli:\n",
            "[0, 1, 2, 3, 4]\n",
            "[5, 6, 7, 8, 9]\n",
            "[10, 11, 12, 13, 14]\n"
          ]
        }
      ],
      "source": [
        "matrix = []\n",
        "for y in range(baris):\n",
        "    row = []\n",
        "    for x in range(kolom):\n",
        "        row.append(x+y*kolom)\n",
        "    matrix.append(row)\n",
        "\n",
        "print(\"Matriks asli:\")\n",
        "for row in matrix:\n",
        "    print(row)"
      ]
    },
    {
      "cell_type": "code",
      "execution_count": 9,
      "metadata": {
        "colab": {
          "base_uri": "https://localhost:8080/"
        },
        "id": "-WvnzYL1QRS0",
        "outputId": "54435498-cff5-4e81-8323-b5ede104378c"
      },
      "outputs": [
        {
          "name": "stdout",
          "output_type": "stream",
          "text": [
            "Filter kolom (hanya genap):\n",
            " [[0, 2, 4], [5, 7, 9], [10, 12, 14]]\n"
          ]
        }
      ],
      "source": [
        "matrix_filter_kolom = []\n",
        "for y in range(baris):\n",
        "    row = []\n",
        "    for x in range(kolom):\n",
        "        if x % 2 == 0:   # ambil hanya angka genap\n",
        "            row.append(x+y*kolom)\n",
        "    matrix_filter_kolom.append(row)\n",
        "\n",
        "print(\"Filter kolom (hanya genap):\\n\", matrix_filter_kolom)"
      ]
    },
    {
      "cell_type": "code",
      "execution_count": 10,
      "metadata": {
        "colab": {
          "base_uri": "https://localhost:8080/"
        },
        "id": "3l-5RKBYvw0m",
        "outputId": "26fbc9d4-dee2-4543-ffe5-3c3c54a39536"
      },
      "outputs": [
        {
          "name": "stdout",
          "output_type": "stream",
          "text": [
            "Filter baris (hanya baris genap):\n",
            " [[0, 1, 2, 3, 4], [10, 11, 12, 13, 14]]\n"
          ]
        }
      ],
      "source": [
        "matrix_filter_baris = []\n",
        "for y in range(baris):\n",
        "    if y % 2 == 0:   # hanya baris dengan indeks genap\n",
        "        row = []\n",
        "        for x in range(kolom):\n",
        "            row.append(x+y*kolom)\n",
        "        matrix_filter_baris.append(row)\n",
        "\n",
        "print(\"Filter baris (hanya baris genap):\\n\", matrix_filter_baris)"
      ]
    },
    {
      "cell_type": "markdown",
      "metadata": {
        "id": "FDWbl5TTSDbA"
      },
      "source": [
        "> **b. Menggunakan List Comprehension**\n",
        "\n",
        "\n",
        "\n"
      ]
    },
    {
      "cell_type": "code",
      "execution_count": 11,
      "metadata": {
        "colab": {
          "base_uri": "https://localhost:8080/"
        },
        "id": "Vu6Zd4EVRPbu",
        "outputId": "cae656f8-c4bd-49ab-b173-1a44055739eb"
      },
      "outputs": [
        {
          "name": "stdout",
          "output_type": "stream",
          "text": [
            "Matriks asli:\n",
            "[0, 1, 2, 3, 4]\n",
            "[5, 6, 7, 8, 9]\n",
            "[10, 11, 12, 13, 14]\n"
          ]
        }
      ],
      "source": [
        "# membuat matrix dg list comprehension\n",
        "matrix = [[x+y*kolom for x in range(kolom)] for y in range(baris)]\n",
        "\n",
        "print(\"Matriks asli:\")\n",
        "for row in matrix:\n",
        "    print(row)"
      ]
    },
    {
      "cell_type": "code",
      "execution_count": 12,
      "metadata": {
        "colab": {
          "base_uri": "https://localhost:8080/"
        },
        "id": "Q4nbOvrxRU6v",
        "outputId": "d9e26a91-113d-4735-89fb-b33d6c0ecb56"
      },
      "outputs": [
        {
          "name": "stdout",
          "output_type": "stream",
          "text": [
            "Filter kolom (hanya genap):\n",
            " [[0, 2, 4], [5, 7, 9], [10, 12, 14]]\n"
          ]
        }
      ],
      "source": [
        "# Filter elemen genap (inner loop)\n",
        "matrix_filter_kolom = [[x+y*kolom for x in range(kolom) if not x % 2]for y in range(baris)]\n",
        "\n",
        "print(\"Filter kolom (hanya genap):\\n\", matrix_filter_kolom)"
      ]
    },
    {
      "cell_type": "code",
      "execution_count": 13,
      "metadata": {
        "colab": {
          "base_uri": "https://localhost:8080/"
        },
        "id": "LsoXE9Vas_Ft",
        "outputId": "24fd0647-15bf-4856-92ff-e453105545e9"
      },
      "outputs": [
        {
          "name": "stdout",
          "output_type": "stream",
          "text": [
            "Filter baris (hanya baris genap):\n",
            " [[0, 1, 2, 3, 4], [10, 11, 12, 13, 14]]\n"
          ]
        }
      ],
      "source": [
        "# Filter baris genap (outer loop)\n",
        "matrix_filter_baris = [[x+y*kolom for x in range(kolom)]for y in range(baris) if not y % 2]\n",
        "\n",
        "print(\"Filter baris (hanya baris genap):\\n\", matrix_filter_baris)"
      ]
    },
    {
      "cell_type": "markdown",
      "metadata": {
        "id": "12pFy-PzsrTE"
      },
      "source": [
        "\n",
        "```\n",
        "📌 Latihan 3a - Percobaan 2\n",
        "```\n",
        "1. Amati kode program pada bagian Percobaan 2: antara kode pada point a (tanpa list comprehension) dan b (menggunakan list comprehension)! Coba jelaskan kenapa output keduanya bisa sama, padahal kode programnya berbeda! Apakah kalian bisa melihat kesamaan formula diantara keduanya?\n",
        "\n",
        "```\n",
        "📌 Latihan 3b - Percobaan 2\n",
        "```\n",
        "2. Modifikasikan kode Percobaan 2, menggunakan nested list comprehension dengan filtering untuk membuat matriks 4×6 yang berisi angka dari 1 sampai 24, lalu tampilkan hanya bilangan ganjil dari baris dengan indeks genap (gunakan filtering pada inner dan outer list)!\n",
        ">Jelaskan perbedaan hasil antara filtering pada inner loop dan filtering pada outer loop dalam nested list comprehension. Kalian boleh menggunakan contoh sederhana untuk memperjelas jawabanmu.\n",
        "\n",
        "Contoh output:\n",
        "```\n",
        "Matriks asli:\n",
        "[1, 2, 3, 4, 5, 6]\n",
        "[7, 8, 9, 10, 11, 12]\n",
        "[13, 14, 15, 16, 17, 18]\n",
        "[19, 20, 21, 22, 23, 24]\n",
        "\n",
        "Hasil filtering\n",
        "[1, 3, 5]\n",
        "[13, 15, 17]\n",
        "```\n",
        "\n"
      ]
    },
    {
      "cell_type": "markdown",
      "metadata": {
        "id": "GREaPwQU6SzP"
      },
      "source": [
        "### **Percobaan 3: Mengakses Elemen dalam Nested List**"
      ]
    },
    {
      "cell_type": "markdown",
      "metadata": {
        "id": "5O9Kcz6qAUZj"
      },
      "source": [
        "<p align=\"justify\"> Seperti yang telah disebutkan sebelumnya, Nested list tidak jauh berbeda dengan array multidimensi. Secara struktur bahkan mereka sama persis. Bisa kalian perhatikan pada kode berikut! Bahkan cara mengakses elemen nya pun sama, menggunakan index."
      ]
    },
    {
      "cell_type": "code",
      "execution_count": 14,
      "metadata": {
        "colab": {
          "base_uri": "https://localhost:8080/"
        },
        "id": "lIrVQake6mov",
        "outputId": "bc003002-e894-4d52-f990-7ea486153777"
      },
      "outputs": [
        {
          "name": "stdout",
          "output_type": "stream",
          "text": [
            "Baris kedua kolom ketiga:  9\n",
            "Baris ketiga kolom kedua:  1\n"
          ]
        }
      ],
      "source": [
        "matrik = [\n",
        "    [2, 5, 7, 9, 3],\n",
        "    [0, 1, 9, 3, 5],\n",
        "    [7, 1, 4, 6, 7],\n",
        "    [0, 9, 7, 3, 2]\n",
        "]\n",
        "\n",
        "# Mengakses elemen baris kedua, kolom ketiga\n",
        "print(\"Baris kedua kolom ketiga: \", matrik[1][2])\n",
        "\n",
        "# Mengakses elemen baris ketiga, kolom kedua\n",
        "print(\"Baris ketiga kolom kedua: \", matrik[2][1])"
      ]
    },
    {
      "cell_type": "markdown",
      "metadata": {
        "id": "sVNP205Ar1aZ"
      },
      "source": [
        "<p align=\"justify\"> Pada konteks pemrograman fungsional, kita dapat memanipulasi nested list menggunakan konsep-konsep seperti pure function, list comprehension, dan fungsi-fungsi built-in seperti map, filter, dan reduce yang akan menjadi pembahasan kita juga pada modul 3 ini. Mari kita lanjutkan materi! Masih semangat kan..."
      ]
    },
    {
      "cell_type": "markdown",
      "metadata": {
        "id": "ziBPf_GM7cU7"
      },
      "source": [
        "# **3. Teknik Mengolah Data Sequence**"
      ]
    },
    {
      "cell_type": "markdown",
      "metadata": {
        "id": "GWJ4L7Ym7gwI"
      },
      "source": [
        "Saat bekerja dengan data sequence / koleksi data, terdapat dua pola pemrosesan data yang umum:\n",
        "1. iterasi untuk menghasilkan koleksi baru, dan\n",
        "2. iterasi disertai komputasi untuk menghasilkan sebuah nilai tunggal.\n",
        "\n",
        "Dalam paradigma pemrograman fungsional yang bersifat deklaratif, fokusnya adalah pada apa yang ingin dicapai, bukan bagaimana cara melakukannya. Oleh karena itu, proses iterasi data sequence tidak ditulis dengan perulangan imperatif (*for/while*), melainkan dengan fungsi deklaratif bawaan Python seperti `filter()`, `map()`, dan `reduce()`.\n",
        "\n",
        " Ketiga fungsi ini merupakan contoh *Higher-Order Function* (HoF), yaitu fungsi yang dapat menerima fungsi lain sebagai argumen. Bersama dengan prinsip *immutability* dan *lazy evaluation*, penggunaan HoF memungkinkan pengolahan data sequence menjadi lebih ringkas, ekspresif, dan efisien. Penjelasan detail tentang apa itu HoF, akan kita bahas pada modul selanjutnya. Pada modul ini, kita akan mempraktekkan secara langsung cara penggunaan `filter()`, `map()`, dan `reduce()`."
      ]
    },
    {
      "cell_type": "markdown",
      "metadata": {
        "id": "LHmQPdk-hJBn"
      },
      "source": [
        "##**3.1 Filter**"
      ]
    },
    {
      "cell_type": "markdown",
      "metadata": {
        "id": "EnlUaXT7134h"
      },
      "source": [
        "Sebelumnya kita sudah melihat bagaimana filtering bisa dilakukan dengan list comprehension menggunakan kondisi-if. Cara itu memang berfungsi, tetapi hasilnya langsung berupa list sehingga semua elemen dihitung sekaligus *(eager evaluation)*. Pada paradigma fungsional, di modul 2 kemarin kita mengenal konsep **lazy evaluation**, yaitu data hanya diproses saat dibutuhkan. Untuk tujuan ini, Python menyediakan fungsi `filter()` yang lebih efisien karena dukungan konsep lazy evaluation nya.\n",
        "\n",
        "Fungsi `filter()` digunakan untuk **menyaring elemen dari sebuah iterable** (list, tuple, string, dsb.) berdasarkan kriteria tertentu. Fungsi ini menerima dua argumen:\n",
        "\n",
        "1. **Fungsi logika** → fungsi yang mengembalikan (*return*) nilai `True` atau `False` untuk setiap elemen.\n",
        "\n",
        "2. **Iterable** → data yang akan disaring.\n",
        "\n",
        "Cara kerja fungsi `filter()` adalah mengambil setiap elemen dari *iterable* satu per satu, lalu menjalankan *fungsi logika* yang telah ditentukan. Jika hasil fungsi tersebut bernilai `true`, maka elemen tersebut akan diteruskan ke hasil akhir; sedangkan jika False, elemen tersebut akan diabaikan.\n",
        "\n",
        "Berbeda dengan list comprehension yang langsung menghasilkan seluruh data sekaligus, hasil dari `filter()` berupa *filter object* yang baru benar-benar diproses saat dibutuhkan. `filter()` tidak memproses semua elemen di awal.\n",
        "\n",
        "Untuk penjelasan lebih lanjut mengenai `filter()`, kalian bisa membaca [ini](https://www.geeksforgeeks.org/python/filter-in-python/) atau [ini](https://realpython.com/python-filter-function/)"
      ]
    },
    {
      "cell_type": "markdown",
      "metadata": {
        "id": "fEu8J-tgqC39"
      },
      "source": [
        "### Contoh 1: Filter pada data angka:"
      ]
    },
    {
      "cell_type": "code",
      "execution_count": 15,
      "metadata": {
        "id": "o937Az6I8y8g"
      },
      "outputs": [],
      "source": [
        "# siapkan dulu sebuah fungsi logika\n",
        "'''\n",
        " fungsi untuk mengecek kelulusan dari nilai score\n",
        " pre-cond: score adalah number\n",
        " post-cond: nilai True jika score >= 70\n",
        "'''\n",
        "def lulus(score):\n",
        "    return score >= 70\n",
        "\n",
        "# Data nilai mahasiswa\n",
        "nilai = [55, 80, 72, 65, 90, 45, 88, 60, 90, 50, 73]"
      ]
    },
    {
      "cell_type": "code",
      "execution_count": 16,
      "metadata": {
        "colab": {
          "base_uri": "https://localhost:8080/"
        },
        "id": "mnl2iiNAmbGS",
        "outputId": "f88b33a7-b996-4644-ff7c-b7b273402ce1"
      },
      "outputs": [
        {
          "name": "stdout",
          "output_type": "stream",
          "text": [
            "<filter object at 0x0000023A304DB070>\n"
          ]
        }
      ],
      "source": [
        "# penggunaan filter\n",
        "nilai_lulus = filter(lulus, nilai)\n",
        "\n",
        "print(nilai_lulus)"
      ]
    },
    {
      "cell_type": "markdown",
      "metadata": {
        "id": "Y5PGkdYChPG0"
      },
      "source": [
        "Hasil diatas berupa *filter object* karena *lazy*. Untuk melihat isinya, kita bisa mengakses dengan `next()`, menggunakan perulangan `for`, atau langsung mengubahnya ke dalam tipe data lain (list/tuple) menggunakan casting."
      ]
    },
    {
      "cell_type": "code",
      "execution_count": 17,
      "metadata": {
        "colab": {
          "base_uri": "https://localhost:8080/"
        },
        "id": "LhlhdsS9nEtW",
        "outputId": "489e55ad-82e1-4623-d530-35771017da39"
      },
      "outputs": [
        {
          "name": "stdout",
          "output_type": "stream",
          "text": [
            "First item: 80\n",
            "Second item: 72\n",
            "The rest:\n",
            "90 88 90 73 "
          ]
        }
      ],
      "source": [
        "# Mengakses hasil filter diatas dengan next()\n",
        "print('First item:', next(nilai_lulus))\n",
        "print('Second item:', next(nilai_lulus))\n",
        "\n",
        "# Mengakses sisa item dengan perulangan\n",
        "print('The rest:')\n",
        "for item in nilai_lulus:\n",
        "    print(item, end=\" \")"
      ]
    },
    {
      "cell_type": "markdown",
      "metadata": {
        "id": "lp39My-ah8qk"
      },
      "source": [
        "diubah menjadi data list:"
      ]
    },
    {
      "cell_type": "code",
      "execution_count": 18,
      "metadata": {
        "colab": {
          "base_uri": "https://localhost:8080/"
        },
        "id": "iJFKUlw9h_6a",
        "outputId": "c6c786f0-5056-4cdb-90b7-3544346d74c8"
      },
      "outputs": [
        {
          "data": {
            "text/plain": [
              "[80, 72, 90, 88, 90, 73]"
            ]
          },
          "execution_count": 18,
          "metadata": {},
          "output_type": "execute_result"
        }
      ],
      "source": [
        "# objek filter perlu dibuat ulang\n",
        "# karena isi elemennya sudah habis di-iterasi sebelumnya\n",
        "nilai_lulus = filter(lulus, nilai)\n",
        "list(nilai_lulus)"
      ]
    },
    {
      "cell_type": "markdown",
      "metadata": {
        "id": "hz8xVy7MIBKL"
      },
      "source": [
        "### Contoh 2: Filter pada data dictionary (mahasiswa)"
      ]
    },
    {
      "cell_type": "code",
      "execution_count": 19,
      "metadata": {
        "id": "IwGd9LEfJxsW"
      },
      "outputs": [],
      "source": [
        "mahasiswa = [\n",
        "    {\"nama\": \"James\", \"nilai\": 100},\n",
        "    {\"nama\": \"Riki\", \"nilai\": 55},\n",
        "    {\"nama\": \"Jay\", \"nilai\": 85},\n",
        "    {\"nama\": \"Jake\", \"nilai\": 45},\n",
        "    {\"nama\": \"Anton\", \"nilai\": 90}\n",
        "]\n",
        "\n",
        "# fungsi logika untuk data mahasiswa\n",
        "'''\n",
        " fungsi untuk mengecek kelulusan dari nilai mahasiswa\n",
        " pre-cond: score adalah dictionary yang memiliki key nilai di dalamnya\n",
        " post-cond: nilai True jika nilai >= 70\n",
        "'''\n",
        "def lulus_mahasiswa(score):\n",
        "    return score[\"nilai\"] >= 70"
      ]
    },
    {
      "cell_type": "code",
      "execution_count": 20,
      "metadata": {
        "colab": {
          "base_uri": "https://localhost:8080/"
        },
        "id": "WiC0DRhGiXZp",
        "outputId": "62484804-4c7c-4a54-b3ec-9c7adbdd6076"
      },
      "outputs": [
        {
          "name": "stdout",
          "output_type": "stream",
          "text": [
            "<filter object at 0x0000023A304D8A60>\n"
          ]
        }
      ],
      "source": [
        "mahasiswa_lulus = filter(lulus_mahasiswa, mahasiswa)\n",
        "print(mahasiswa_lulus) #lazy"
      ]
    },
    {
      "cell_type": "code",
      "execution_count": 21,
      "metadata": {
        "colab": {
          "base_uri": "https://localhost:8080/"
        },
        "id": "rPM8sdo1rDB1",
        "outputId": "ab38560e-13f0-4afa-9d74-0373d39e7ac2"
      },
      "outputs": [
        {
          "name": "stdout",
          "output_type": "stream",
          "text": [
            "({'nama': 'James', 'nilai': 100}, {'nama': 'Jay', 'nilai': 85}, {'nama': 'Anton', 'nilai': 90})\n"
          ]
        }
      ],
      "source": [
        "print(tuple(mahasiswa_lulus)) #langsung casting tipe tuple"
      ]
    },
    {
      "cell_type": "markdown",
      "metadata": {
        "id": "Fqs1-XM425jw"
      },
      "source": [
        "\n",
        "\n",
        "Dari contoh ini terlihat bahwa `filter()` tidak hanya berguna untuk data sederhana seperti angka, tetapi juga bisa dipakai pada struktur data kompleks seperti dictionary. Cukup sediakan fungsi logika yang sesuai, misalnya untuk menentukan mahasiswa lulus, usia di atas 20 tahun, atau kondisi lainnya. Dengan sifat *lazy evaluation*, `filter()` membuat proses ini lebih efisien dan fleksibel. </p>"
      ]
    },
    {
      "cell_type": "markdown",
      "metadata": {
        "id": "cXB-u_4aFxpX"
      },
      "source": [
        "\n",
        "```\n",
        "📌 Latihan 4\n",
        "```\n",
        "\n",
        "diberikan data produk sebagai berikut:"
      ]
    },
    {
      "cell_type": "code",
      "execution_count": 22,
      "metadata": {
        "id": "qEy_tI0TF4pt"
      },
      "outputs": [],
      "source": [
        "produk = [\n",
        "    {\"nama\": \"Laptop\", \"stok\": 3},\n",
        "    {\"nama\": \"Mouse\", \"stok\": 0},\n",
        "    {\"nama\": \"Keyboard\", \"stok\": 8},\n",
        "    {\"nama\": \"Monitor\", \"stok\": 0},\n",
        "    {\"nama\": \"Flashdisk\", \"stok\": 10}\n",
        "]"
      ]
    },
    {
      "cell_type": "markdown",
      "metadata": {
        "id": "xgOzK4fCF6IR"
      },
      "source": [
        "Gunakan filter() untuk menyaring hanya produk yang stoknya habis. tampilkan dengan menggunakan iterasi!\n",
        "\n",
        "*italicized text*> Add blockquote\n",
        "\n",
        "> Add blockquote\n",
        "\n",
        "\n",
        "\n"
      ]
    },
    {
      "cell_type": "code",
      "execution_count": 23,
      "metadata": {
        "colab": {
          "base_uri": "https://localhost:8080/"
        },
        "id": "ktP4FFlytzyR",
        "outputId": "bb569a84-05f6-4d5d-e984-6ae8262ad892"
      },
      "outputs": [],
      "source": [
        "#percobaan latihan 4"
      ]
    },
    {
      "cell_type": "markdown",
      "metadata": {
        "id": "mB5eda2wUufn"
      },
      "source": [
        "##**3.2 Map**\n",
        "\n",
        "\n",
        "Fungsi `map()` digunakan untuk **memetakan atau mengubah setiap elemen** dalam sebuah data sequence (list, tuple, string, dll.) dengan cara yang sama seperti pada `filter()` yaitu dengan memberikan sebuah fungsi yang akan diterapkan pada setiap elemen dalam iterable.\n",
        "\n",
        "Perbedannya, Jika pada `filter()` jumlah data bisa berkurang karena ada elemen yang disaring, maka pada `map()` jumlah data selalu tetap, hanya bentuk atau nilainya saja yang berubah sesuai fungsi yang diterapkan.\n",
        "\n",
        "Karena tujuannya untuk mentransformasi data, maka fungsi yang digunakan dalam `map()` harus berupa **fungsi transformasi** — yaitu fungsi yang merubah input menjadi output berdasarkan operasi/instruksi tertentu."
      ]
    },
    {
      "cell_type": "markdown",
      "metadata": {
        "id": "KwJsKfDxIKg1"
      },
      "source": [
        "### Contoh 1: Mapping nilai angka menjadi huruf"
      ]
    },
    {
      "cell_type": "code",
      "execution_count": 24,
      "metadata": {
        "id": "GVTPdSDGmsOV"
      },
      "outputs": [],
      "source": [
        "# pastiin cell kode di filter sudah dirun\n",
        "# Fungsi transformasi untuk digunakan dalam fungsi map()\n",
        "'''\n",
        " fungsi untuk transformasi nilai score menjadi nilai huruf\n",
        " pre-cond: score adalah number\n",
        " post-cond: berupa huruf nilai 'A', 'B', atau 'C'\n",
        "'''\n",
        "def to_grade(score):\n",
        "    if score >= 85:\n",
        "        return \"A\"\n",
        "    elif score >= 70:\n",
        "        return \"B\"\n",
        "    else:\n",
        "        return \"C\""
      ]
    },
    {
      "cell_type": "code",
      "execution_count": 25,
      "metadata": {
        "colab": {
          "base_uri": "https://localhost:8080/"
        },
        "id": "3iX2rMYeniry",
        "outputId": "93a3c427-3885-4c97-b456-8d84d79437b1"
      },
      "outputs": [
        {
          "name": "stdout",
          "output_type": "stream",
          "text": [
            "[55, 80, 72, 65, 90, 45, 88, 60, 90, 50, 73]\n",
            "<map object at 0x0000023A305148B0>\n",
            "['C', 'B', 'B', 'C', 'A', 'C', 'A', 'C', 'A', 'C', 'B']\n"
          ]
        }
      ],
      "source": [
        "#penggunaan map\n",
        "grades = map(to_grade, nilai)\n",
        "print(nilai)\n",
        "print(grades)          # hanya menampilkan objek (karena lazy)\n",
        "print(list(grades))    # casting/ubah jadi list untuk print semua hasil"
      ]
    },
    {
      "cell_type": "markdown",
      "metadata": {
        "id": "EHkMFxNOflmi"
      },
      "source": [
        "Sama seperti `filter()`, hasil dari `map()` juga bersifat *lazy evaluation*. Itu sebabnya, ketika di-print langsung hanya tampil objek map. Untuk melihat isinya, bisa diubah menjadi list, diakses dengan `next()`, atau langsung diiterasi dengan perulangan.\n",
        "```\n",
        "📌 Latihan 5 - Logika map\n",
        "```"
      ]
    },
    {
      "cell_type": "code",
      "execution_count": 26,
      "metadata": {
        "id": "Z3llp_Z2zNU4"
      },
      "outputs": [
        {
          "name": "stdout",
          "output_type": "stream",
          "text": [
            "Nilai dengan Grade:\n",
            "55 = C\n",
            "80 = B\n",
            "72 = B\n",
            "65 = C\n",
            "90 = A\n",
            "45 = C\n",
            "88 = A\n",
            "60 = C\n",
            "90 = A\n",
            "50 = C\n",
            "73 = B\n"
          ]
        }
      ],
      "source": [
        "grades = map(to_grade, nilai)\n",
        "\n",
        "print(\"Nilai dengan Grade:\")\n",
        "# iterasi untuk menampilkan data grades menggunakan next()\n",
        "for score in nilai:\n",
        "    print(score,'=',next(grades))\n",
        "\n",
        "#percobaan latihan 5"
      ]
    },
    {
      "cell_type": "markdown",
      "metadata": {
        "id": "JTDAPnrMoOt2"
      },
      "source": [
        "\n",
        "Coba kalian jalankan dan amati bagian iterasi yang digunakan untuk menampilkan data grades diatas! Mengapa loop for nya menggunakan `in nilai`, kok gak `in grades`? Padahal yang mau dicetak kan `grades`?? Menurut kalian Apakah terjadi kesalahan? Ataukah iterasi seperti ini boleh dan aman? Apa tidak menyebabkan data terlewat atau iterasi berlebih yang akan mentriger `StopIteration` exception?\n",
        "\n"
      ]
    },
    {
      "cell_type": "markdown",
      "metadata": {
        "id": "Yffw-ylNqZwn"
      },
      "source": [
        "### Contoh 2: Mapping pada String"
      ]
    },
    {
      "cell_type": "markdown",
      "metadata": {
        "id": "IPsuL4W7VpJl"
      },
      "source": [
        "Bagaimana dengan data non-number seperti misal String. Apakah juga bisa kita implementasikan fungsi map untuk data String? Tentu saja bisa, selama dua syarat argumen yang dibutuhkan oleh fungsi map terpenuhi. Yaitu:\n",
        "\n",
        "1. Ada fungsi untuk transformasi data\n",
        "2. Data yang diberikan merupakan data sequence/iterable.\n",
        "\n",
        "\n",
        "String pada Python adalah *sequence of characters*. Karena itu, string juga bisa digunakan sebagai input pada `map()`, selama ada fungsi transformasi yang sesuai. Mari coba buktikan! Jalankan dan amati kode berikut:"
      ]
    },
    {
      "cell_type": "code",
      "execution_count": 27,
      "metadata": {
        "id": "mfluGUs4XOCu"
      },
      "outputs": [],
      "source": [
        "#siapkan fungsi transformasi string\n",
        "'''\n",
        "desc: fungsi uppercase(s) merubah string input (s) menjadi huruf besar\n",
        "pre-cond: input s harus bertipe string\n",
        "post-cond: string input akan dikembalikan dalam bentuk huruf besar\n",
        "'''\n",
        "def uppercase(s):\n",
        "  return s.upper()"
      ]
    },
    {
      "cell_type": "code",
      "execution_count": 28,
      "metadata": {
        "colab": {
          "base_uri": "https://localhost:8080/"
        },
        "id": "_QczGrUXYVji",
        "outputId": "2d4443c8-28d7-4dc3-df4a-9f6f4bb5b3c6"
      },
      "outputs": [
        {
          "name": "stdout",
          "output_type": "stream",
          "text": [
            "['M', 'Y', 'N', 'A', 'M', 'E']\n"
          ]
        }
      ],
      "source": [
        "string = 'myname'\n",
        "caps_name = map(uppercase,string)\n",
        "print(list(caps_name))"
      ]
    },
    {
      "cell_type": "markdown",
      "metadata": {
        "id": "42eJLATuV8I4"
      },
      "source": [
        "### Contoh 3: Mapping pada List of String"
      ]
    },
    {
      "cell_type": "code",
      "execution_count": 29,
      "metadata": {
        "colab": {
          "base_uri": "https://localhost:8080/"
        },
        "id": "XVRwDjUNXn4Y",
        "outputId": "955dcfce-0058-43ba-e4f9-095cd97ab34d"
      },
      "outputs": [
        {
          "name": "stdout",
          "output_type": "stream",
          "text": [
            "['wendy@gmail.com', 'ian@gmail.com', 'ayu@gmail.com']\n"
          ]
        }
      ],
      "source": [
        "# List of string\n",
        "name_list = ['wendy', 'ian', 'ayu']\n",
        "\n",
        "# Fungsi untuk menambahkan format email ke nama\n",
        "def add_email(name):\n",
        "    return name + \"@gmail.com\"\n",
        "\n",
        "emails = map(add_email, name_list)\n",
        "print(list(emails))"
      ]
    },
    {
      "cell_type": "code",
      "execution_count": 30,
      "metadata": {
        "colab": {
          "base_uri": "https://localhost:8080/"
        },
        "id": "FklRKt95rkn0",
        "outputId": "a2dc0b9e-01ae-446d-8ae8-a84d5c811d04"
      },
      "outputs": [
        {
          "name": "stdout",
          "output_type": "stream",
          "text": [
            "['WENDY', 'IAN', 'AYU']\n"
          ]
        }
      ],
      "source": [
        "#menggunakan fungsi uppercase() pada name_list\n",
        "caps_name = map(uppercase,name_list)\n",
        "print(list(caps_name))"
      ]
    },
    {
      "cell_type": "markdown",
      "metadata": {
        "id": "9AQTt-lob4dv"
      },
      "source": [
        "Apa yang terjadi jika fungsi `uppercase()` dipakai untuk data `nilai` yang berupa angka?\n",
        "\n"
      ]
    },
    {
      "cell_type": "code",
      "execution_count": 31,
      "metadata": {
        "id": "e5ZHcaSMbIb7"
      },
      "outputs": [
        {
          "ename": "AttributeError",
          "evalue": "'int' object has no attribute 'upper'",
          "output_type": "error",
          "traceback": [
            "\u001b[31m---------------------------------------------------------------------------\u001b[39m",
            "\u001b[31mAttributeError\u001b[39m                            Traceback (most recent call last)",
            "\u001b[36mCell\u001b[39m\u001b[36m \u001b[39m\u001b[32mIn[31]\u001b[39m\u001b[32m, line 4\u001b[39m\n\u001b[32m      1\u001b[39m nilai = [\u001b[32m80\u001b[39m, \u001b[32m75\u001b[39m, \u001b[32m90\u001b[39m]\n\u001b[32m      3\u001b[39m caps_name = \u001b[38;5;28mmap\u001b[39m(uppercase,nilai)\n\u001b[32m----> \u001b[39m\u001b[32m4\u001b[39m \u001b[38;5;28mprint\u001b[39m(\u001b[38;5;28;43mlist\u001b[39;49m\u001b[43m(\u001b[49m\u001b[43mcaps_name\u001b[49m\u001b[43m)\u001b[49m) \u001b[38;5;66;03m#akan error\u001b[39;00m\n",
            "\u001b[36mCell\u001b[39m\u001b[36m \u001b[39m\u001b[32mIn[27]\u001b[39m\u001b[32m, line 8\u001b[39m, in \u001b[36muppercase\u001b[39m\u001b[34m(s)\u001b[39m\n\u001b[32m      7\u001b[39m \u001b[38;5;28;01mdef\u001b[39;00m\u001b[38;5;250m \u001b[39m\u001b[34muppercase\u001b[39m(s):\n\u001b[32m----> \u001b[39m\u001b[32m8\u001b[39m   \u001b[38;5;28;01mreturn\u001b[39;00m \u001b[43ms\u001b[49m\u001b[43m.\u001b[49m\u001b[43mupper\u001b[49m()\n",
            "\u001b[31mAttributeError\u001b[39m: 'int' object has no attribute 'upper'"
          ]
        }
      ],
      "source": [
        "nilai = [80, 75, 90]\n",
        "\n",
        "caps_name = map(uppercase,nilai)\n",
        "print(list(caps_name)) #akan error"
      ]
    },
    {
      "cell_type": "markdown",
      "metadata": {
        "id": "ZSWFlSpf4Q9H"
      },
      "source": [
        "Nah loh kenapa bisa error??\n",
        "\n",
        "Karena fungsi upper() hanya dapat dijalankan pada string, bukan integer.\n",
        "Error ini terjadi karena input tidak sesuai dengan pre-condition fungsi — artinya, fungsi `uppercase()` mengharapkan data berupa string, sedangkan yang diberikan adalah angka."
      ]
    },
    {
      "cell_type": "markdown",
      "metadata": {
        "id": "IK0j85bXqmvi"
      },
      "source": [
        "### Contoh 4: Map pada Nested List"
      ]
    },
    {
      "cell_type": "markdown",
      "metadata": {
        "id": "8Q-ve8UjE_v_"
      },
      "source": [
        "\n",
        "\n",
        "<p align=\"justify\"> Setelah mempelajari konsep dasar fungsi map() yang memungkinkan kita menerapkan sebuah fungsi pada setiap elemen dalam suatu list secara efisien, kita dapat melangkah lebih jauh dengan menerapkannya pada nested list. Fungsi map() juga dapat digunakan untuk menerapkan sebuah fungsi ke setiap elemen dari nested list secara fungsional. Perhatikan contoh berikut:\n",
        "\n",
        "\n"
      ]
    },
    {
      "cell_type": "code",
      "execution_count": null,
      "metadata": {
        "id": "XuaaFxLw1XYm"
      },
      "outputs": [],
      "source": [
        "# Data nilai mahasiswa per mata kuliah\n",
        "nilai_mahasiswa = [\n",
        "    [80, 75, 90],   # Mahasiswa 1\n",
        "    [60, 70, 65],   # Mahasiswa 2\n",
        "    [85, 88, 92]    # Mahasiswa 3\n",
        "]\n",
        "\n",
        "# Fungsi menambah bonus nilai +5\n",
        "def bonus(score):\n",
        "    return score + 5"
      ]
    },
    {
      "cell_type": "code",
      "execution_count": null,
      "metadata": {
        "colab": {
          "base_uri": "https://localhost:8080/"
        },
        "id": "mksU9-J1FIFp",
        "outputId": "ba3edae2-d61a-4066-97e1-89c2b0f34bda"
      },
      "outputs": [
        {
          "name": "stdout",
          "output_type": "stream",
          "text": [
            "nilai asli\t\t: [[80, 75, 90], [60, 70, 65], [85, 88, 92]]\n",
            "Total nilai + bonus\t: [[85, 80, 95], [65, 75, 70], [90, 93, 97]]\n"
          ]
        }
      ],
      "source": [
        "# Terapkan map ke setiap baris (nilai tiap mahasiswa)\n",
        "nilai_bonus = [list(map(bonus, baris)) for baris in nilai_mahasiswa]\n",
        "\n",
        "print(\"nilai asli\\t\\t:\", nilai_mahasiswa)\n",
        "print(\"Total nilai + bonus\\t:\", nilai_bonus)"
      ]
    },
    {
      "cell_type": "markdown",
      "metadata": {
        "id": "USEIxlZv92JS"
      },
      "source": [
        "Kode di atas menunjukkan bagaimana fungsi `map()` bisa digunakan pada nested list. Setiap baris dalam list mewakili nilai salah satu mahasiswa. Dengan `map()`, fungsi `bonus()` diterapkan ke setiap nilai di masing-masing baris tersebut sehingga semua nilainya bertambah 5. Hasil akhirnya adalah list baru `nilai_bonus` yang berisi nilai mahasiswa setelah mendapat tambahan bonus tanpa mengubah data asli.\n",
        "\n"
      ]
    },
    {
      "cell_type": "markdown",
      "metadata": {
        "id": "HCEo8OFmbwi7"
      },
      "source": [
        "## **3.3 Reduce**"
      ]
    },
    {
      "cell_type": "markdown",
      "metadata": {
        "id": "g8SRMZE0odQD"
      },
      "source": [
        "![Python reduce Function](https://files.realpython.com/media/The-Python-reduce-Function-Guide_Watermarked.c2e2f64a48d2.jpg)\n",
        "\n",
        "\n",
        "Fungsi `reduce()` pada Python digunakan untuk **mereduksi** sebuah kumpulan data menjadi hanya **satu nilai tunggal**. Perbedaannya dengan 2 fungsi sebelumnya:\n",
        "* `map()` mengubah setiap elemen,\n",
        "* `filter()` menyaring sebagian elemen,\n",
        ">sedangkan `reduce()` menggabungkan semua elemen hingga tersisa satu hasil akhir.\n",
        "\n",
        "Fungsi ini membutuhkan minimal dua argumen, yaitu:\n",
        "\n",
        "1. **Fungsi dua argumen** (fungsi yang menerima 2 input dan menghasilkan 1 output)\n",
        "2. **Iterable** (data sequence seperti list atau tuple).\n",
        "\n",
        "Selain itu, ada juga **initializer** sebagai argumen opsional ketiga yang akan dibahas nanti.\n",
        "\n",
        "Contoh: Fungsi sederhana untuk penjumlahan"
      ]
    },
    {
      "cell_type": "code",
      "execution_count": null,
      "metadata": {
        "colab": {
          "base_uri": "https://localhost:8080/"
        },
        "id": "xJkvDuTC57h5",
        "outputId": "996484ac-48fb-4af3-ad14-290868da5397"
      },
      "outputs": [
        {
          "data": {
            "text/plain": [
              "17"
            ]
          },
          "execution_count": 48,
          "metadata": {},
          "output_type": "execute_result"
        }
      ],
      "source": [
        "'''\n",
        "desc: Fungsi untuk menjumlahkan a dan b\n",
        "pre-cond: a dan b bisa berupa sembarang data\n",
        "post-cond: a+b sebagai return value\n",
        "'''\n",
        "def add(a, b):\n",
        "  hasil =  a + b\n",
        "  return hasil\n",
        "\n",
        "add(10, 7)"
      ]
    },
    {
      "cell_type": "markdown",
      "metadata": {
        "id": "z3XeiRHlsMmO"
      },
      "source": [
        "Fungsi `pertambahan()` ini cocok dipakai di dalam `reduce()` karena sesuai dengan syarat:\n",
        ">menerima dua argumen (`a` dan `b`) lalu mengembalikan satu nilai `hasil`."
      ]
    },
    {
      "cell_type": "markdown",
      "metadata": {
        "id": "44VL5nLo4vTe"
      },
      "source": [
        "Sebelum menggunakan fungsi reduce, kita perlu menambahkan sebuah module/library tempat reduce berada. `reduce()` bukan fungsi bawaan Python langsung, tapi ada di dalam modul **functools**. Jadi sebelum menggunakannya, kita harus melakukan import."
      ]
    },
    {
      "cell_type": "code",
      "execution_count": null,
      "metadata": {
        "id": "EyM6ChzpV5OW"
      },
      "outputs": [],
      "source": [
        "from functools import reduce"
      ]
    },
    {
      "cell_type": "markdown",
      "metadata": {
        "id": "IgMRlBsAibD4"
      },
      "source": [
        "### Percobaan 1: Reduce data list number"
      ]
    },
    {
      "cell_type": "code",
      "execution_count": null,
      "metadata": {
        "colab": {
          "base_uri": "https://localhost:8080/"
        },
        "id": "ukEbaT2s7YDq",
        "outputId": "9e839a9e-7abb-4f6a-84df-a1660de2f32d"
      },
      "outputs": [
        {
          "name": "stdout",
          "output_type": "stream",
          "text": [
            "Total nilai: 210\n"
          ]
        }
      ],
      "source": [
        "nilai = [50, 70, 90]\n",
        "\n",
        "# Hitung total nilai dengan reduce\n",
        "total = reduce(add, nilai)\n",
        "print(\"Total nilai:\", total)"
      ]
    },
    {
      "cell_type": "markdown",
      "metadata": {
        "id": "v36UJqgqtTNF"
      },
      "source": [
        "Proses di atas sama dengan menjalankan operasi `((50 + 70) + 90) = 210`. Jadi reduce akan melipat (*fold*) elemen secara bertahap hingga tersisa satu nilai."
      ]
    },
    {
      "cell_type": "markdown",
      "metadata": {
        "id": "3M6PacwCD8dS"
      },
      "source": [
        "Selain fungsi dan iterable, `reduce()` juga menerima **argumen ketiga** yang disebut **initializer**. Nilai ini berperan sebagai titik awal (starting value) untuk proses reduksi. Jika initializer tidak diberikan, maka reduce akan memulai dari dua elemen pertama pada iterable. Tetapi kalau initializer diberikan, maka reduce akan memulai dari `initializer` dan elemen pertama iterable. Dengan kata lain, initializer diperlakukan sebagai “elemen tambahan” yang diletakkan di paling depan.\n",
        "\n",
        "Perhatikan contoh berikut:"
      ]
    },
    {
      "cell_type": "code",
      "execution_count": null,
      "metadata": {
        "colab": {
          "base_uri": "https://localhost:8080/"
        },
        "id": "QV_FulpCCs-g",
        "outputId": "56072393-6009-45c2-9fbe-1f94ed277770"
      },
      "outputs": [
        {
          "name": "stdout",
          "output_type": "stream",
          "text": [
            "Total nilai dengan bonus: 310\n"
          ]
        }
      ],
      "source": [
        "#menambahkan nilai 100 sebagai initializer/argumen ke-3 dr reduce\n",
        "total_bonus = reduce(add, nilai, 100)\n",
        "print(\"Total nilai dengan bonus:\", total_bonus)"
      ]
    },
    {
      "cell_type": "markdown",
      "metadata": {
        "id": "-SZgI_Z0vHYb"
      },
      "source": [
        "Dalam contoh di atas, nilai `[50, 70, 90]` akan dijumlahkan, tetapi prosesnya diawali dari `100`. Jadi alurnya seperti ini:\n",
        "\n",
        "1. 100 + 50 = 150\n",
        "2. 150 + 70 = 220\n",
        "3. 220 + 90 = 310\n",
        "\n",
        "Sehingga hasil akhirnya adalah `310`.\n",
        "\n",
        "Penggunaan *initializer* ini sangat berguna jika kita ingin memberikan nilai awal tertentu dalam perhitungan. Misalnya: bonus poin, saldo awal, offset, atau nilai default lain yang harus diperhitungkan sejak awal reduksi."
      ]
    },
    {
      "cell_type": "markdown",
      "metadata": {
        "id": "D6bS35S8d7_I"
      },
      "source": [
        "###Percobaan 2: Reduce data hasil map\n",
        "---\n",
        "Masih ingat dengan fungsi `map()` pada data string sebelumnya? Coba cek lagi contoh 2 di materi Map!\n",
        "> jika kode program berikut eror, run lagi kode fungsi `uppercase()` yang ada di materi 3.2 Contoh 2!"
      ]
    },
    {
      "cell_type": "code",
      "execution_count": null,
      "metadata": {
        "colab": {
          "base_uri": "https://localhost:8080/"
        },
        "id": "1rI2a91CdSDh",
        "outputId": "d91a9c57-9db5-42e0-ce0b-cacae89bb30b"
      },
      "outputs": [
        {
          "data": {
            "text/plain": [
              "['M', 'Y', 'N', 'A', 'M', 'E']"
            ]
          },
          "execution_count": 51,
          "metadata": {},
          "output_type": "execute_result"
        }
      ],
      "source": [
        "caps_string = map(uppercase,string)\n",
        "list(caps_string)"
      ]
    },
    {
      "cell_type": "markdown",
      "metadata": {
        "id": "4BJsnM_DfU0N"
      },
      "source": [
        "Bagaimana caranya menggabungkan kembali data hasil map diatas agar menjadi string yang utuh? Nah, disini kita bisa memanfaatkan fungsi `reduce()` untuk melipat (*fold*) beberapa karakter yang terpisah pada data list menjadi satu kesatuan kembali..\n",
        "Mari kita manfaatkan fungsi `add()` untuk menggabungkan mereka!\n",
        "> Note: operasi `+` pada fungsi `add()` juga bisa digunakan pada data string sebagai bentuk *concatenation* string. Kalian bisa cek kembali pre-cond pada fungsi `add()`--input a dan b bisa berupa sembarang data.\n",
        "\n",
        "Mari kita buktikan:"
      ]
    },
    {
      "cell_type": "code",
      "execution_count": null,
      "metadata": {
        "colab": {
          "base_uri": "https://localhost:8080/",
          "height": 35
        },
        "id": "KTs2oYiwhMj_",
        "outputId": "20a1f17d-8113-44d3-cb4d-5f2951ca9528"
      },
      "outputs": [
        {
          "data": {
            "application/vnd.google.colaboratory.intrinsic+json": {
              "type": "string"
            },
            "text/plain": [
              "'MYNAME'"
            ]
          },
          "execution_count": 52,
          "metadata": {},
          "output_type": "execute_result"
        }
      ],
      "source": [
        "caps_string = reduce(add,map(uppercase,string))\n",
        "caps_string"
      ]
    },
    {
      "cell_type": "markdown",
      "metadata": {
        "id": "45ZxODdIGXpX"
      },
      "source": [
        "###Percobaan 3: Reduce data Nested List\n",
        "---\n",
        "Pada contoh sebelumnya, kita sudah melihat bagaimana `reduce()` bisa menjumlahkan seluruh elemen dalam sebuah list. Namun bagaimana jika datanya berbentuk **nested list**, misalnya nilai mahasiswa per mata kuliah?"
      ]
    },
    {
      "cell_type": "code",
      "execution_count": null,
      "metadata": {
        "colab": {
          "base_uri": "https://localhost:8080/"
        },
        "id": "uTRJA9DewMQc",
        "outputId": "1d7e5585-ae30-4a3e-e844-8b23d21de395"
      },
      "outputs": [
        {
          "name": "stdout",
          "output_type": "stream",
          "text": [
            "Data asli: [[80, 75, 90], [60, 70, 65], [85, 88, 92]]\n"
          ]
        }
      ],
      "source": [
        "# data nilai_mahasiswa telah tersedia pada materi map-nested list (contoh 4)\n",
        "print(\"Data asli:\", nilai_mahasiswa)"
      ]
    },
    {
      "cell_type": "markdown",
      "metadata": {
        "id": "SvPthYWWWcRY"
      },
      "source": [
        "\n",
        "```\n",
        "📌 Latihan 6\n",
        "```\n",
        "> pastikan kalian sudah run semua cell ya\n",
        "\n",
        "Apakah bisa kita langsung memasukkan data untuk di reduce seperti berikut?\n"
      ]
    },
    {
      "cell_type": "code",
      "execution_count": null,
      "metadata": {
        "id": "10LYJCm5WU4g"
      },
      "outputs": [],
      "source": [
        "reduce1 = reduce(add, nilai_mahasiswa)\n",
        "#percobaan latihan 6a"
      ]
    },
    {
      "cell_type": "markdown",
      "metadata": {
        "id": "GOI6iTXT_mLa"
      },
      "source": [
        "\n",
        "a. Coba jalankan kode program, tampilkan dan amati hasilnya!\n",
        "\n",
        "b. Bagaimana caranya agar dapat menjumlahkan semua angka yang ada dalam data `nilai_mahasiswa` menjadi 1? Coba tuliskan kode penyelesaiannya!"
      ]
    },
    {
      "cell_type": "code",
      "execution_count": null,
      "metadata": {
        "colab": {
          "base_uri": "https://localhost:8080/"
        },
        "id": "wS5UmXrBbj7J",
        "outputId": "94ac2c47-2661-4453-b5ba-1d76c927fe62"
      },
      "outputs": [
        {
          "data": {
            "text/plain": [
              "705"
            ]
          },
          "execution_count": 60,
          "metadata": {},
          "output_type": "execute_result"
        }
      ],
      "source": [
        "#percobaan latihan 6b"
      ]
    },
    {
      "cell_type": "markdown",
      "metadata": {
        "id": "Pew9Emeu1Fzr"
      },
      "source": [
        "# **4. Fungsi Rekursif**"
      ]
    },
    {
      "cell_type": "markdown",
      "metadata": {
        "id": "TdBg3v9HZ5MZ"
      },
      "source": [
        "Fungsi rekursif adalah fungsi yang memanggil dirinya sendiri dalam proses eksekusinya. Konsep ini sering digunakan untuk menyelesaikan masalah yang dapat dipecah menjadi sub-masalah yang lebih kecil namun serupa dengan masalah aslinya.\n",
        "\n",
        "**Menyederhanakan kompleksitas**:\n",
        "Untuk masalah matematis yang sifatnya rekursif (seperti *faktorial, fibbonaci, deret geometri*, dll), solusi rekursif seringkali lebih ringkas dan lebih mudah dibaca dibandingkan solusi iteratif.\n",
        "\n",
        "> Kalian bisa coba mencari dengan keyword '*contoh-contoh masalah matematis yang bersifat rekursi*' di mesin pencari atau pada gpt kesayangan kalian jika ingin memahami lebih dalam ⚡\n",
        "\n",
        "\n",
        "Contoh Dasar: Faktorial\n",
        "\n",
        "Perhitungan faktorial adalah contoh klasik dari penggunaan rekursif. Faktorial dari sebuah bilangan *n* didefinisikan sebagai hasil perkalian semua bilangan bulat positif dari 1 hingga *n*. Misalnya: 5! = 5 × 4 × 3 × 2 × 1 = 120."
      ]
    },
    {
      "cell_type": "code",
      "execution_count": null,
      "metadata": {
        "colab": {
          "base_uri": "https://localhost:8080/"
        },
        "id": "OBc0XLCsaEyA",
        "outputId": "4481e460-dc27-4f3b-e0c7-844b07aea9fa"
      },
      "outputs": [
        {
          "name": "stdout",
          "output_type": "stream",
          "text": [
            "120\n"
          ]
        }
      ],
      "source": [
        "'''\n",
        "desc: fungsi untuk menghitung nilai faktorial dari sebuah angka n secara rekursi\n",
        "pre-cond: input n merupakan bilangan bulat >= 0\n",
        "post-cond: nilai faktorial dari n\n",
        "'''\n",
        "def faktorial_rekursif(n):\n",
        "    if n <= 1:\n",
        "        return 1  # Base Case\n",
        "    else:\n",
        "        return n * faktorial_rekursif(n - 1)  # Recursive Case\n",
        "\n",
        "print(faktorial_rekursif(5))  # Output: 120"
      ]
    },
    {
      "cell_type": "markdown",
      "metadata": {
        "id": "fv7Of8SMzxD_"
      },
      "source": [
        "Alur kerja fungsi:\n",
        "* faktorial_rekursif(5) → 5 × faktorial_rekursif(4)\n",
        "* faktorial_rekursif(4) → 4 × faktorial_rekursif(3)\n",
        "* faktorial_rekursif(3) → 3 × faktorial_rekursif(2)\n",
        "* faktorial_rekursif(2) → 2 × faktorial_rekursif(1)\n",
        "* faktorial_rekursif(1) → 1 (base case, rekursi berhenti dengan mereturn angka 1)\n",
        "\n",
        "Sehingga proses yang terjadi adalah: 1 x 2 x 3 x 4 x 5 = 120--sebagai hasil akhir yang di return untuk di print."
      ]
    },
    {
      "cell_type": "markdown",
      "metadata": {
        "id": "GbU6nrlk2Am4"
      },
      "source": [
        "Fungsi rekursif memiliki dua komponen utama:\n",
        "\n",
        "1. ***Base Case***: Kondisi yang menentukan kapan rekursi berhenti. Tanpa base case, fungsi rekursif akan memanggil dirinya sendiri tanpa henti, yang menyebabkan *stack overflow* (kondisi yang terjadi ketika tumpukan (stack) memori program terisi penuh).\n",
        "\n",
        "2. ***Recursive Case***: Bagian dari fungsi yang memanggil dirinya sendiri untuk menyelesaikan sub-masalah hingga mencapai base case\n"
      ]
    },
    {
      "cell_type": "markdown",
      "metadata": {
        "id": "QoiufUj2_O9U"
      },
      "source": [
        "Secara konsep, rekursif mirip dengan `reduce` karena keduanya menyelesaikan masalah dengan memanggil proses yang sama berulang kali hingga mencapai satu hasil akhir. Bedanya, `reduce` memanggil fungsi lain secara berulang, sedangkan rekursif memanggil dirinya sendiri.\n",
        "\n",
        "Sebenarnya kita bisa menggunakan list comprehension, map, filter, dan reduce untuk menghindari looping secara eksplisit dan menjaga kode agar tetap bersih dan deklaratif. Perhitungan faktorial sebelumnya di atas juga bisa diselesaikan menggunakan fungsi reduce. Begini caranya:"
      ]
    },
    {
      "cell_type": "code",
      "execution_count": null,
      "metadata": {
        "colab": {
          "base_uri": "https://localhost:8080/"
        },
        "id": "GbVsR7YQX9_1",
        "outputId": "098c51b9-3bcf-4b39-8d4c-f5af0a526aa0"
      },
      "outputs": [
        {
          "name": "stdout",
          "output_type": "stream",
          "text": [
            "120\n"
          ]
        }
      ],
      "source": [
        "def perkalian(a, b):\n",
        "    return a * b\n",
        "\n",
        "print(reduce(perkalian, range(1, 6)))  # mengalikan setiap angka pada range"
      ]
    },
    {
      "cell_type": "markdown",
      "metadata": {
        "id": "4-JEPHYemY_G"
      },
      "source": [
        "Contoh Lain: Menghitung Panjang Data\n",
        "\n",
        "Selain faktorial, kita juga bisa menggunakan rekursi untuk menghitung panjang sebuah data. Walaupun Python sudah menyediakan fungsi `len()`, versi rekursif ini berguna untuk memahami konsep rekursi lebih dalam."
      ]
    },
    {
      "cell_type": "code",
      "execution_count": null,
      "metadata": {
        "colab": {
          "base_uri": "https://localhost:8080/",
          "height": 35
        },
        "id": "xlXLJAqDnLNm",
        "outputId": "4f8bfdbd-c981-493c-bcd5-0dd7f0227e5c"
      },
      "outputs": [
        {
          "data": {
            "application/vnd.google.colaboratory.intrinsic+json": {
              "type": "string"
            },
            "text/plain": [
              "'MYNAME'"
            ]
          },
          "execution_count": 56,
          "metadata": {},
          "output_type": "execute_result"
        }
      ],
      "source": [
        "# mari kita gunakan data dari hasil percobaan 2 pada materi reduce, yaitu:\n",
        "caps_string"
      ]
    },
    {
      "cell_type": "code",
      "execution_count": null,
      "metadata": {
        "colab": {
          "base_uri": "https://localhost:8080/"
        },
        "id": "u3KaQ6QxnO3C",
        "outputId": "bd26290b-10d0-406f-bf52-ababc317a636"
      },
      "outputs": [
        {
          "name": "stdout",
          "output_type": "stream",
          "text": [
            "Panjang data MYNAME = 6\n"
          ]
        }
      ],
      "source": [
        "# tanpa rekursif\n",
        "def count_loop(data):\n",
        "    count = 0\n",
        "    for char in data:\n",
        "        count += 1\n",
        "    return count\n",
        "\n",
        "print(\"Panjang data\",caps_string,'=', count_loop(caps_string))\n"
      ]
    },
    {
      "cell_type": "code",
      "execution_count": null,
      "metadata": {
        "colab": {
          "base_uri": "https://localhost:8080/"
        },
        "id": "UDU6vJ9PprQU",
        "outputId": "7ab6dcd3-1018-4715-8553-a53faef33589"
      },
      "outputs": [
        {
          "name": "stdout",
          "output_type": "stream",
          "text": [
            "Panjang string (rekursif): 6\n"
          ]
        }
      ],
      "source": [
        "# menggunakan rekursif\n",
        "def count_recursive(data):\n",
        "    if data == '': # Base Case: jika string kosong\n",
        "        return 0\n",
        "    else:  # Recursive Case: 1 + count_recursive(data--dimulai dari index 1)\n",
        "        return 1 + count_recursive(data[1:]) #meng-exclude data index ke-0\n",
        "\n",
        "print(\"Panjang string (rekursif):\", count_recursive(caps_string))  #Output: 6\n"
      ]
    },
    {
      "cell_type": "markdown",
      "metadata": {
        "id": "3SbLHL61q5JA"
      },
      "source": [
        "Fungsi rekursi sangat cocok untuk paradigma fungsional karena menggantikan perulangan tradisional (seperti `for` atau `while`) yang lebih sesuai untuk paradigma imperatif daripada deklaratif. Dimana inti dari paradigma fungsional adalah menghindari efek samping seperti perubahan status (nilai count yang berubah-ubah misalnya).\n",
        "\n",
        "Rekursi secara alami cocok untuk masalah yang dapat dipecah menjadi sub-masalah yang lebih kecil dan serupa. Seperti halnya menghitung panjang string pada fungsi `count_rekursive` dengan konsep: ambil 1 char dan hitung lagi sisanya dengan cara yang sama secara berulang.\n",
        ">Bukankah ini cara sederhana kita mengajarkan cara/konsep menghitung kumpulan benda/elemen pada anak-anak kecil..."
      ]
    },
    {
      "cell_type": "markdown",
      "metadata": {
        "id": "mXyPta7cuYPP"
      },
      "source": [
        "![image.png](data:image/png;base64,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)"
      ]
    },
    {
      "cell_type": "markdown",
      "metadata": {
        "id": "QafZHBYlnr_g"
      },
      "source": [
        "# **CODELAB**"
      ]
    },
    {
      "cell_type": "markdown",
      "metadata": {
        "id": "PM5mGth1bZp8"
      },
      "source": [
        "**Untuk Modul ini diharapkan jangan menggunakan lambda, dikarenakan lambda akan dibahas di modul selanjutnya. jika tetap ingin menggunakan lambda, asisten tidak segan akan memberi pertanyaan mengenai lambda tersebut, yang pastinya akan mempengarui nilai pemahaman kalian**\n",
        "\n",
        "*[Template laporan codelab](https://docs.google.com/document/d/1c4gK_gf-apqJiNuk8oANYyUf-xUhEN1tabk7qRp3jSk/edit?usp=sharing)*"
      ]
    },
    {
      "cell_type": "markdown",
      "metadata": {
        "id": "70DfpmEepxV0"
      },
      "source": [
        "## CODELAB 1"
      ]
    },
    {
      "cell_type": "markdown",
      "metadata": {
        "id": "lJC4gXW1XUfz"
      },
      "source": [
        "Diketahui sebuah data string:"
      ]
    },
    {
      "cell_type": "code",
      "execution_count": null,
      "metadata": {
        "id": "-SPdRUR3XVRg"
      },
      "outputs": [],
      "source": [
        "namaLengkap = \"nama lengkap kalian\" # huruf kecil semua"
      ]
    },
    {
      "cell_type": "markdown",
      "metadata": {
        "id": "gTLUT7huacL9"
      },
      "source": [
        "1. Gunakan list comprehension untuk mengambil huruf vokal atau konsonan dari namaLengkap."
      ]
    },
    {
      "cell_type": "code",
      "execution_count": null,
      "metadata": {
        "id": "E36mJyIrbquz"
      },
      "outputs": [],
      "source": [
        "# TODO 1: Ambil huruf vokal (untuk NIM genap) atau konsonan (untuk NIM ganjil)\n",
        "vokal = [.. for .. in namaLengkap if .. ]\n",
        "konsonan = [.. for .. in namaLengkap if .. ]"
      ]
    },
    {
      "cell_type": "code",
      "execution_count": null,
      "metadata": {
        "colab": {
          "base_uri": "https://localhost:8080/"
        },
        "id": "ercUs4XhZNYC",
        "outputId": "0eceef11-1c00-4af5-c6db-d4cad70614c5"
      },
      "outputs": [
        {
          "name": "stdout",
          "output_type": "stream",
          "text": [
            "['a', 'a', 'e', 'a', 'a', 'i', 'a']\n",
            "['n', 'm', 'l', 'n', 'g', 'k', 'p', 'k', 'l', 'n']\n"
          ]
        }
      ],
      "source": [
        "print(vokal)\n",
        "print(konsonan)"
      ]
    },
    {
      "cell_type": "markdown",
      "metadata": {
        "id": "tEFkMvQ2agKf"
      },
      "source": [
        "2. Lengkapi fungsi transformasi double(x) berikut dan gunakan untuk memetakan variabel vokal/konsonan kalian menjadi data baru dan tampilkan dalam bentuk list untuk data vokal dan tuple untuk data konsonan!"
      ]
    },
    {
      "cell_type": "code",
      "execution_count": null,
      "metadata": {
        "id": "C0_Ln7FQbMC-"
      },
      "outputs": [],
      "source": [
        "# TODO 2: Melengkapi fungsi sesuai deskripsi\n",
        "'''\n",
        "fungsi untuk mengubah nilai x menjadi 2x\n",
        "pre-cond: x bisa sembarang data\n",
        "post-cond: 2x\n",
        "'''\n",
        "def double(x):\n",
        "    return # ...\n",
        "\n",
        "# TODO 3: Gunakan fungsi double untuk memetakan data vokal/konsonan\n",
        "new_data =    # vokal/konsonan, tergantung NIM\n"
      ]
    },
    {
      "cell_type": "code",
      "execution_count": null,
      "metadata": {
        "colab": {
          "base_uri": "https://localhost:8080/"
        },
        "id": "ocBV02ZLZTI6",
        "outputId": "72a5932c-af79-4570-a341-8a68176df8c8"
      },
      "outputs": [
        {
          "name": "stdout",
          "output_type": "stream",
          "text": [
            "['aa', 'aa', 'ee', 'aa', 'aa', 'ii', 'aa']\n",
            "('nn', 'mm', 'll', 'nn', 'gg', 'kk', 'pp', 'kk', 'll', 'nn')\n"
          ]
        }
      ],
      "source": [
        "#tampilkan hasil berupa tuple/list sesuai ketentuan soal"
      ]
    },
    {
      "cell_type": "markdown",
      "metadata": {
        "id": "kLeI2YbIalBM"
      },
      "source": [
        "3. Filter data\n",
        "\n",
        ">Siapkan fungsi logika untuk digunakan dalam fungsi `filter()` bersamaan dengan data hasil map dengan tujuan untuk mengambil huruf tertentu (bebas sesuai NIM).\n"
      ]
    },
    {
      "cell_type": "code",
      "execution_count": null,
      "metadata": {
        "id": "jeKd1W3v3Hi9"
      },
      "outputs": [],
      "source": [
        "# TODO 4: Definisikan fungsi logika untuk memilih huruf tertentu\n",
        "'''\n",
        "deskripsi fungsi\n",
        "'''\n",
        "def namaFungsi(parameter):\n",
        "  return\n",
        "\n",
        "# TODO 5: Penggunaan fungsi filter untuk memfilter data hasil map sebelumnya\n",
        "hasil = filter()"
      ]
    },
    {
      "cell_type": "code",
      "execution_count": null,
      "metadata": {
        "colab": {
          "base_uri": "https://localhost:8080/"
        },
        "id": "rJyhz0zCckYS",
        "outputId": "57e3b511-036e-4462-fcc8-077fa9a19246"
      },
      "outputs": [
        {
          "name": "stdout",
          "output_type": "stream",
          "text": [
            "('aa', 'aa', 'aa', 'aa', 'aa')\n"
          ]
        }
      ],
      "source": [
        "#contoh hasil filter vokal aa"
      ]
    },
    {
      "cell_type": "code",
      "execution_count": null,
      "metadata": {
        "colab": {
          "base_uri": "https://localhost:8080/"
        },
        "id": "pFZB4gV0ZcnC",
        "outputId": "cb4a10f9-3962-4f9c-e061-c5e55494fa8c"
      },
      "outputs": [
        {
          "data": {
            "text/plain": [
              "['nn', 'nn', 'nn']"
            ]
          },
          "execution_count": 25,
          "metadata": {},
          "output_type": "execute_result"
        }
      ],
      "source": [
        "#contoh hasil filter konsonan nn"
      ]
    },
    {
      "cell_type": "markdown",
      "metadata": {
        "id": "Z7QEpKn2a0Qd"
      },
      "source": [
        "4. Gunakan fungsi `reduce()` dari modul functools untuk menghitung berapa kali huruf tertentu ('a' atau huruf lain sesuai NIM) muncul dalam daftar huruf vokal/konsonan.\n",
        ">dilarang menggunakan data hasil filter."
      ]
    },
    {
      "cell_type": "code",
      "execution_count": null,
      "metadata": {
        "id": "lkVMnWYVV8iF"
      },
      "outputs": [],
      "source": [
        "# TODO 6: Import reduce\n",
        "\n",
        "# TODO 7: Definisikan fungsi reduce untuk menghitung jumlah huruf tertentu\n",
        "def nama_fungsi(a, b):\n",
        "    # logika penghitungan jumlah huruf tertentu\n",
        "    # misal: tambahkan 1 jika huruf adalah 'a'\n",
        "    return # ..."
      ]
    },
    {
      "cell_type": "code",
      "execution_count": null,
      "metadata": {
        "colab": {
          "base_uri": "https://localhost:8080/"
        },
        "id": "VP0sFJABZsgw",
        "outputId": "e76b841e-fe87-423d-a3a0-9e0d25fc4c76"
      },
      "outputs": [
        {
          "name": "stdout",
          "output_type": "stream",
          "text": [
            "Jumlah huruf 'a': 6\n"
          ]
        }
      ],
      "source": [
        "# TODO 8: Gunakan reduce() untuk menghitung total kemunculan huruf\n",
        "jumlahA = reduce(countA, ... )  # vokal atau konsonan\n",
        "\n",
        "# contoh output\n",
        "print(\"Jumlah huruf 'a':\", jumlahA)"
      ]
    },
    {
      "cell_type": "markdown",
      "metadata": {
        "id": "aguTK5cMpf_D"
      },
      "source": [
        "## CODELAB 2\n"
      ]
    },
    {
      "cell_type": "markdown",
      "metadata": {
        "id": "D1N5J1xDNf92"
      },
      "source": [
        "1. Buatlah sebuah fungsi rekursif bernama cek_palindrom(teks) yang digunakan untuk memeriksa apakah sebuah string termasuk palindrom atau tidak.\n",
        "* Base case: jika panjang string ≤ 1, maka string tersebut palindrom.\n",
        "* Recursive case: jika karakter pertama dan terakhir sama, periksa substring di dalamnya.\n",
        "\n",
        "Jika ada karakter pertama dan terakhir yang berbeda, maka string bukan palindrom.\n",
        "\n",
        "2. Ujilah fungsi tersebut dengan string berikut:\n",
        "* \"katak\"\n",
        "* \"aku\"\n",
        "* \"ada\"\n",
        "\n",
        "Tampilkan hasil berupa True jika string palindrom dan False jika bukan."
      ]
    },
    {
      "cell_type": "code",
      "execution_count": null,
      "metadata": {
        "colab": {
          "base_uri": "https://localhost:8080/"
        },
        "id": "PFDfqYBfORuU",
        "outputId": "e20c9718-0441-4e84-dce2-32f157c5440c"
      },
      "outputs": [
        {
          "name": "stdout",
          "output_type": "stream",
          "text": [
            "True\n",
            "False\n",
            "True\n"
          ]
        }
      ],
      "source": [
        "#hasil dari data test"
      ]
    },
    {
      "cell_type": "markdown",
      "metadata": {
        "id": "1k0NwkW2n8C2"
      },
      "source": [
        "# **TUGAS**"
      ]
    },
    {
      "cell_type": "markdown",
      "metadata": {
        "id": "hMrixYFy3OCZ"
      },
      "source": [
        "## TUGAS 1"
      ]
    },
    {
      "cell_type": "markdown",
      "metadata": {
        "id": "o7anPUsPb3Wr"
      },
      "source": [
        "Melanjutkan project pada Modul 1 dan 2, sekarang kalian diminta untuk mengembangkan program kalian dengan mengimplementasikan konsep processing data sequence menggunakan list comprehension, nested list, map, filter, reduce, dan rekursif.\n",
        "\n",
        "Ketentuan Tugas\n",
        "1. Program tetap melanjutkan dari modul sebelumnya.\n",
        "2. Tambahkan fitur baru atau modifikasi fitur yang sudah ada dengan menggunakan minimal 2 konsep yang dipelajari di modul ini, yaitu diantara list comprehension, nested list, map, filter, reduce, dan rekursif.\n",
        "3. Dilarang menggunakan lambda. Gunakan pure function agar tetap sesuai paradigma fungsional. Implementasi fungsi deklaratif menjadi nilai tambah.\n",
        "4. Jelaskan secara singkat alasan penggunaan fungsi atau data sequence yang dipilih (misalnya: kenapa pakai list comprehension untuk memproses data tertentu)."
      ]
    },
    {
      "cell_type": "markdown",
      "metadata": {
        "id": "lqNLkMPP3jQJ"
      },
      "source": [
        "## TUGAS 2"
      ]
    },
    {
      "cell_type": "markdown",
      "metadata": {
        "id": "E3mUbLAAZHXx"
      },
      "source": [
        "### NIM Ganjil"
      ]
    },
    {
      "cell_type": "markdown",
      "metadata": {
        "id": "vBEO9EFbHO0a"
      },
      "source": [
        "Kamu bekerja pada sebuah perusahaan ekspedisi dan diberikan data pengiriman barang sebagai berikut:"
      ]
    },
    {
      "cell_type": "code",
      "execution_count": null,
      "metadata": {
        "id": "X758Tl59Rzqe"
      },
      "outputs": [],
      "source": [
        "pengiriman = [\n",
        "    {\"resi\": \"A001\", \"berat\": 2.5, \"ongkir_perkg\": 10000, \"status\": \"Terkirim\"},\n",
        "    {\"resi\": \"A002\", \"berat\": 5, \"ongkir_perkg\": 12000, \"status\": \"Dalam Proses\"},\n",
        "    {\"resi\": \"A003\", \"berat\": 1.2, \"ongkir_perkg\": 10000, \"status\": \"Terkirim\"},\n",
        "    {\"resi\": \"A004\", \"berat\": 10, \"ongkir_perkg\": 9000, \"status\": \"Terkirim\"},\n",
        "    {\"resi\": \"A005\", \"berat\": 0.5, \"ongkir_perkg\": 15000, \"status\": \"Batal\"},\n",
        "    {\"resi\": \"A006\", \"berat\": 3.8, \"ongkir_perkg\": 11000, \"status\": \"Dalam Proses\"},\n",
        "    {\"resi\": \"A007\", \"berat\": 7.2, \"ongkir_perkg\": 9500, \"status\": \"Terkirim\"},\n",
        "    {\"resi\": \"A008\", \"berat\": 4.5, \"ongkir_perkg\": 10500, \"status\": \"Terkirim\"},\n",
        "    {\"resi\": \"A009\", \"berat\": 6.0, \"ongkir_perkg\": 9800, \"status\": \"Batal\"},\n",
        "    {\"resi\": \"A010\", \"berat\": 9.1, \"ongkir_perkg\": 8700, \"status\": \"Terkirim\"},\n",
        "    {\"resi\": \"A011\", \"berat\": 2.0, \"ongkir_perkg\": 12500, \"status\": \"Dalam Proses\"},\n",
        "    {\"resi\": \"A012\", \"berat\": 1.5, \"ongkir_perkg\": 14000, \"status\": \"Terkirim\"},\n",
        "    {\"resi\": \"A013\", \"berat\": 8.3, \"ongkir_perkg\": 9200, \"status\": \"Terkirim\"},\n",
        "    {\"resi\": \"A014\", \"berat\": 0.8, \"ongkir_perkg\": 16000, \"status\": \"Batal\"},\n",
        "    {\"resi\": \"A015\", \"berat\": 5.6, \"ongkir_perkg\": 9900, \"status\": \"Terkirim\"}\n",
        "]\n"
      ]
    },
    {
      "cell_type": "markdown",
      "metadata": {
        "id": "3MlUu2-b8Up-"
      },
      "source": [
        "Selanjutnya kamu diminta untuk mengolah data tersebut dengan skenario sbb:\n",
        "1. Filter data pengiriman yang statusnya terkirim saja\n",
        "2. Tambahkan informasi total ongkir pada data yang terkirim tadi (menggunakan map dengan rumus `berat * ongkir_perkg`)\n",
        "3. Gunakan reduce untuk menghitung total pendapatan dari data total ongkir yang diperoleh sebelumnya\n",
        "4. Siapkan data semua pengiriman yang tidak dibatalkan menggunakan list comprehension dan siapkan fungsi rekursif untuk menghitung total berat nya\n",
        "\n",
        "> Setiap fungsi yang dibuat wajib berupa pure function. pastikan data asli 'pengiriman' tidak berubah"
      ]
    },
    {
      "cell_type": "code",
      "execution_count": null,
      "metadata": {
        "colab": {
          "base_uri": "https://localhost:8080/"
        },
        "id": "NpiqQq6z_cmf",
        "outputId": "4f47a31e-19a9-430b-e7a1-96e0f8e7c0c6"
      },
      "outputs": [
        {
          "name": "stdout",
          "output_type": "stream",
          "text": [
            "Data pengiriman yang berhasil terkirim:\n",
            "{'resi': 'A001', 'berat': 2.5, 'ongkir_perkg': 10000, 'status': 'Terkirim'}\n",
            "{'resi': 'A003', 'berat': 1.2, 'ongkir_perkg': 10000, 'status': 'Terkirim'}\n",
            "{'resi': 'A004', 'berat': 10, 'ongkir_perkg': 9000, 'status': 'Terkirim'}\n",
            "{'resi': 'A007', 'berat': 7.2, 'ongkir_perkg': 9500, 'status': 'Terkirim'}\n",
            "{'resi': 'A008', 'berat': 4.5, 'ongkir_perkg': 10500, 'status': 'Terkirim'}\n",
            "{'resi': 'A010', 'berat': 9.1, 'ongkir_perkg': 8700, 'status': 'Terkirim'}\n",
            "{'resi': 'A012', 'berat': 1.5, 'ongkir_perkg': 14000, 'status': 'Terkirim'}\n",
            "{'resi': 'A013', 'berat': 8.3, 'ongkir_perkg': 9200, 'status': 'Terkirim'}\n",
            "{'resi': 'A015', 'berat': 5.6, 'ongkir_perkg': 9900, 'status': 'Terkirim'}\n"
          ]
        }
      ],
      "source": [
        "#contoh output skenario 1"
      ]
    },
    {
      "cell_type": "code",
      "execution_count": null,
      "metadata": {
        "colab": {
          "base_uri": "https://localhost:8080/"
        },
        "id": "WiQkyMPE_jw0",
        "outputId": "a3dee27f-85b0-4d43-8edd-4205ac5e83fe"
      },
      "outputs": [
        {
          "name": "stdout",
          "output_type": "stream",
          "text": [
            "{'resi': 'A001', 'berat': 2.5, 'ongkir_perkg': 10000, 'status': 'Terkirim', 'total_ongkir': 25000.0}\n",
            "{'resi': 'A003', 'berat': 1.2, 'ongkir_perkg': 10000, 'status': 'Terkirim', 'total_ongkir': 12000.0}\n",
            "{'resi': 'A004', 'berat': 10, 'ongkir_perkg': 9000, 'status': 'Terkirim', 'total_ongkir': 90000}\n",
            "{'resi': 'A007', 'berat': 7.2, 'ongkir_perkg': 9500, 'status': 'Terkirim', 'total_ongkir': 68400.0}\n",
            "{'resi': 'A008', 'berat': 4.5, 'ongkir_perkg': 10500, 'status': 'Terkirim', 'total_ongkir': 47250.0}\n",
            "{'resi': 'A010', 'berat': 9.1, 'ongkir_perkg': 8700, 'status': 'Terkirim', 'total_ongkir': 79170.0}\n",
            "{'resi': 'A012', 'berat': 1.5, 'ongkir_perkg': 14000, 'status': 'Terkirim', 'total_ongkir': 21000.0}\n",
            "{'resi': 'A013', 'berat': 8.3, 'ongkir_perkg': 9200, 'status': 'Terkirim', 'total_ongkir': 76360.0}\n",
            "{'resi': 'A015', 'berat': 5.6, 'ongkir_perkg': 9900, 'status': 'Terkirim', 'total_ongkir': 55440.0}\n"
          ]
        }
      ],
      "source": [
        "#contoh output skenario 2"
      ]
    },
    {
      "cell_type": "code",
      "execution_count": null,
      "metadata": {
        "colab": {
          "base_uri": "https://localhost:8080/"
        },
        "id": "Qz4X74Hq_kVM",
        "outputId": "c2d79d78-c1b7-4ee5-ed7a-d8854a676350"
      },
      "outputs": [
        {
          "data": {
            "text/plain": [
              "474620.0"
            ]
          },
          "execution_count": 6,
          "metadata": {},
          "output_type": "execute_result"
        }
      ],
      "source": [
        "#contoh output skenario 3"
      ]
    },
    {
      "cell_type": "code",
      "execution_count": null,
      "metadata": {
        "colab": {
          "base_uri": "https://localhost:8080/"
        },
        "id": "7EoJMJfw_mOp",
        "outputId": "85418a55-a0a0-4127-adc1-e59bb773ce8c"
      },
      "outputs": [
        {
          "data": {
            "text/plain": [
              "60.7"
            ]
          },
          "execution_count": 15,
          "metadata": {},
          "output_type": "execute_result"
        }
      ],
      "source": [
        "#contoh output skenario 4"
      ]
    },
    {
      "cell_type": "code",
      "execution_count": null,
      "metadata": {
        "colab": {
          "base_uri": "https://localhost:8080/"
        },
        "collapsed": true,
        "id": "UQFUfzxo7Cgz",
        "outputId": "aa2b4687-9e43-4b46-d9ea-788d39a52419"
      },
      "outputs": [
        {
          "data": {
            "text/plain": [
              "[{'resi': 'A001', 'berat': 2.5, 'ongkir_perkg': 10000, 'status': 'Terkirim'},\n",
              " {'resi': 'A002', 'berat': 5, 'ongkir_perkg': 12000, 'status': 'Dalam Proses'},\n",
              " {'resi': 'A003', 'berat': 1.2, 'ongkir_perkg': 10000, 'status': 'Terkirim'},\n",
              " {'resi': 'A004', 'berat': 10, 'ongkir_perkg': 9000, 'status': 'Terkirim'},\n",
              " {'resi': 'A005', 'berat': 0.5, 'ongkir_perkg': 15000, 'status': 'Batal'},\n",
              " {'resi': 'A006',\n",
              "  'berat': 3.8,\n",
              "  'ongkir_perkg': 11000,\n",
              "  'status': 'Dalam Proses'},\n",
              " {'resi': 'A007', 'berat': 7.2, 'ongkir_perkg': 9500, 'status': 'Terkirim'},\n",
              " {'resi': 'A008', 'berat': 4.5, 'ongkir_perkg': 10500, 'status': 'Terkirim'},\n",
              " {'resi': 'A009', 'berat': 6.0, 'ongkir_perkg': 9800, 'status': 'Batal'},\n",
              " {'resi': 'A010', 'berat': 9.1, 'ongkir_perkg': 8700, 'status': 'Terkirim'},\n",
              " {'resi': 'A011',\n",
              "  'berat': 2.0,\n",
              "  'ongkir_perkg': 12500,\n",
              "  'status': 'Dalam Proses'},\n",
              " {'resi': 'A012', 'berat': 1.5, 'ongkir_perkg': 14000, 'status': 'Terkirim'},\n",
              " {'resi': 'A013', 'berat': 8.3, 'ongkir_perkg': 9200, 'status': 'Terkirim'},\n",
              " {'resi': 'A014', 'berat': 0.8, 'ongkir_perkg': 16000, 'status': 'Batal'},\n",
              " {'resi': 'A015', 'berat': 5.6, 'ongkir_perkg': 9900, 'status': 'Terkirim'}]"
            ]
          },
          "execution_count": 18,
          "metadata": {},
          "output_type": "execute_result"
        }
      ],
      "source": [
        "#terakhir:\n",
        "# cek data pengiriman asli [tidak boleh berubah]\n",
        "pengiriman"
      ]
    },
    {
      "cell_type": "markdown",
      "metadata": {
        "id": "cCacpCj5ZLTs"
      },
      "source": [
        "### NIM Genap"
      ]
    },
    {
      "cell_type": "markdown",
      "metadata": {
        "id": "CTjNBQF3HPUZ"
      },
      "source": [
        "Anda bekerja di sebuah supermarket dan diminta untuk mengolah data transaksi pelanggan berikut secara fungsional:"
      ]
    },
    {
      "cell_type": "code",
      "execution_count": null,
      "metadata": {
        "id": "kxAaS-dhUYrk"
      },
      "outputs": [],
      "source": [
        "transaksi = [\n",
        "    {\"id\": \"T001\", \"pelanggan\": \"Faizal\", \"jumlah_item\": 5, \"harga_per_item\": 20000, \"status\": \"Lunas\"},\n",
        "    {\"id\": \"T002\", \"pelanggan\": \"Zaky\", \"jumlah_item\": 2, \"harga_per_item\": 15000, \"status\": \"Belum Lunas\"},\n",
        "    {\"id\": \"T003\", \"pelanggan\": \"Maylani\", \"jumlah_item\": 10, \"harga_per_item\": 12000, \"status\": \"Lunas\"},\n",
        "    {\"id\": \"T004\", \"pelanggan\": \"Hakim\", \"jumlah_item\": 1, \"harga_per_item\": 50000, \"status\": \"Batal\"},\n",
        "    {\"id\": \"T005\", \"pelanggan\": \"Adit\", \"jumlah_item\": 4, \"harga_per_item\": 18000, \"status\": \"Lunas\"},\n",
        "    {\"id\": \"T006\", \"pelanggan\": \"Dimas\", \"jumlah_item\": 8, \"harga_per_item\": 15000, \"status\": \"Lunas\"},\n",
        "    {\"id\": \"T007\", \"pelanggan\": \"Hisyam\", \"jumlah_item\": 3, \"harga_per_item\": 25000, \"status\": \"Belum Lunas\"},\n",
        "    {\"id\": \"T008\", \"pelanggan\": \"Krisna\", \"jumlah_item\": 6, \"harga_per_item\": 22000, \"status\": \"Lunas\"},\n",
        "    {\"id\": \"T009\", \"pelanggan\": \"Ahyad\", \"jumlah_item\": 12, \"harga_per_item\": 11000, \"status\": \"Lunas\"},\n",
        "    {\"id\": \"T010\", \"pelanggan\": \"Wempy\", \"jumlah_item\": 5, \"harga_per_item\": 30000, \"status\": \"Batal\"},\n",
        "    {\"id\": \"T011\", \"pelanggan\": \"Nara\", \"jumlah_item\": 7, \"harga_per_item\": 17500, \"status\": \"Belum Lunas\"},\n",
        "    {\"id\": \"T012\", \"pelanggan\": \"Fia\", \"jumlah_item\": 9, \"harga_per_item\": 20000, \"status\": \"Lunas\"},\n",
        "    {\"id\": \"T013\", \"pelanggan\": \"Radan\", \"jumlah_item\": 3, \"harga_per_item\": 40000, \"status\": \"Lunas\"},\n",
        "    {\"id\": \"T014\", \"pelanggan\": \"Rahma\", \"jumlah_item\": 10, \"harga_per_item\": 16000, \"status\": \"Batal\"},\n",
        "    {\"id\": \"T015\", \"pelanggan\": \"Yusuf\", \"jumlah_item\": 4, \"harga_per_item\": 28000, \"status\": \"Lunas\"}\n",
        "]\n"
      ]
    },
    {
      "cell_type": "markdown",
      "metadata": {
        "id": "hg8x5biAxIoT"
      },
      "source": [
        "Selanjutnya kamu diminta untuk mengolah data tersebut dengan skenario berikut:\n",
        "1. Filter semua transaksi yang statusnya lunas saja\n",
        "2. Tambahkan informasi total belanja pada data yang lunas menggunakan map dengan rumus `jumlah_item * harga_per_item`\n",
        "3. Gunakan reduce untuk menghitung total pendapatan dari data total belanja yang diperoleh sebelumnya\n",
        "4. Siapkan data semua transaksi yang tidak dibatalkan menggunakan list comprehension dan siapkan fungsi rekursif untuk mengitung jumlah item nya\n",
        "\n",
        "> Setiap fungsi yang dibuat wajib berupa pure function. pastikan data asli 'transaksi' tidak berubah\n"
      ]
    },
    {
      "cell_type": "code",
      "execution_count": null,
      "metadata": {
        "colab": {
          "base_uri": "https://localhost:8080/"
        },
        "id": "jyG-PIAIWFN7",
        "outputId": "18deafde-a346-402f-f88a-b718cbc2e382"
      },
      "outputs": [
        {
          "name": "stdout",
          "output_type": "stream",
          "text": [
            "Transaksi yang lunas:\n",
            "{'id': 'T001', 'pelanggan': 'Faizal', 'jumlah_item': 5, 'harga_per_item': 20000, 'status': 'Lunas'}\n",
            "{'id': 'T003', 'pelanggan': 'Maylani', 'jumlah_item': 10, 'harga_per_item': 12000, 'status': 'Lunas'}\n",
            "{'id': 'T005', 'pelanggan': 'Adit', 'jumlah_item': 4, 'harga_per_item': 18000, 'status': 'Lunas'}\n",
            "{'id': 'T006', 'pelanggan': 'Dimas', 'jumlah_item': 8, 'harga_per_item': 15000, 'status': 'Lunas'}\n",
            "{'id': 'T008', 'pelanggan': 'Krisna', 'jumlah_item': 6, 'harga_per_item': 22000, 'status': 'Lunas'}\n",
            "{'id': 'T009', 'pelanggan': 'Ahyad', 'jumlah_item': 12, 'harga_per_item': 11000, 'status': 'Lunas'}\n",
            "{'id': 'T012', 'pelanggan': 'Fia', 'jumlah_item': 9, 'harga_per_item': 20000, 'status': 'Lunas'}\n",
            "{'id': 'T013', 'pelanggan': 'Radan', 'jumlah_item': 3, 'harga_per_item': 40000, 'status': 'Lunas'}\n",
            "{'id': 'T015', 'pelanggan': 'Yusuf', 'jumlah_item': 4, 'harga_per_item': 28000, 'status': 'Lunas'}\n"
          ]
        }
      ],
      "source": [
        "#contoh output skenario 1"
      ]
    },
    {
      "cell_type": "code",
      "execution_count": null,
      "metadata": {
        "colab": {
          "base_uri": "https://localhost:8080/"
        },
        "id": "tj2rZ3VBWNLO",
        "outputId": "36d69c21-cab0-4223-d5ae-a59ee34f15fc"
      },
      "outputs": [
        {
          "name": "stdout",
          "output_type": "stream",
          "text": [
            "{'id': 'T001', 'pelanggan': 'Faizal', 'jumlah_item': 5, 'harga_per_item': 20000, 'status': 'Lunas', 'total_belanja': 100000}\n",
            "{'id': 'T003', 'pelanggan': 'Maylani', 'jumlah_item': 10, 'harga_per_item': 12000, 'status': 'Lunas', 'total_belanja': 120000}\n",
            "{'id': 'T005', 'pelanggan': 'Adit', 'jumlah_item': 4, 'harga_per_item': 18000, 'status': 'Lunas', 'total_belanja': 72000}\n",
            "{'id': 'T006', 'pelanggan': 'Dimas', 'jumlah_item': 8, 'harga_per_item': 15000, 'status': 'Lunas', 'total_belanja': 120000}\n",
            "{'id': 'T008', 'pelanggan': 'Krisna', 'jumlah_item': 6, 'harga_per_item': 22000, 'status': 'Lunas', 'total_belanja': 132000}\n",
            "{'id': 'T009', 'pelanggan': 'Ahyad', 'jumlah_item': 12, 'harga_per_item': 11000, 'status': 'Lunas', 'total_belanja': 132000}\n",
            "{'id': 'T012', 'pelanggan': 'Fia', 'jumlah_item': 9, 'harga_per_item': 20000, 'status': 'Lunas', 'total_belanja': 180000}\n",
            "{'id': 'T013', 'pelanggan': 'Radan', 'jumlah_item': 3, 'harga_per_item': 40000, 'status': 'Lunas', 'total_belanja': 120000}\n",
            "{'id': 'T015', 'pelanggan': 'Yusuf', 'jumlah_item': 4, 'harga_per_item': 28000, 'status': 'Lunas', 'total_belanja': 112000}\n"
          ]
        }
      ],
      "source": [
        "# skenario 2"
      ]
    },
    {
      "cell_type": "code",
      "execution_count": null,
      "metadata": {
        "colab": {
          "base_uri": "https://localhost:8080/"
        },
        "id": "RrcmOkbIWTL7",
        "outputId": "a5caccc9-5884-4e1a-dfbb-ee27dade99e3"
      },
      "outputs": [
        {
          "data": {
            "text/plain": [
              "1088000"
            ]
          },
          "execution_count": 27,
          "metadata": {},
          "output_type": "execute_result"
        }
      ],
      "source": [
        "# skenario 3"
      ]
    },
    {
      "cell_type": "code",
      "execution_count": null,
      "metadata": {
        "colab": {
          "base_uri": "https://localhost:8080/"
        },
        "id": "mvUmIKcbWc99",
        "outputId": "84e0cc53-b260-4018-872b-1546ca73fd4d"
      },
      "outputs": [
        {
          "data": {
            "text/plain": [
              "73"
            ]
          },
          "execution_count": 28,
          "metadata": {},
          "output_type": "execute_result"
        }
      ],
      "source": [
        "# skenario 4"
      ]
    },
    {
      "cell_type": "code",
      "execution_count": null,
      "metadata": {
        "colab": {
          "base_uri": "https://localhost:8080/"
        },
        "collapsed": true,
        "id": "grVtLj09zqEg",
        "outputId": "a2cc02ae-5a73-44b2-c4fe-63f2362c42bf"
      },
      "outputs": [
        {
          "data": {
            "text/plain": [
              "[{'id': 'T001',\n",
              "  'pelanggan': 'Faizal',\n",
              "  'jumlah_item': 5,\n",
              "  'harga_per_item': 20000,\n",
              "  'status': 'Lunas'},\n",
              " {'id': 'T002',\n",
              "  'pelanggan': 'Zaky',\n",
              "  'jumlah_item': 2,\n",
              "  'harga_per_item': 15000,\n",
              "  'status': 'Belum Lunas'},\n",
              " {'id': 'T003',\n",
              "  'pelanggan': 'Maylani',\n",
              "  'jumlah_item': 10,\n",
              "  'harga_per_item': 12000,\n",
              "  'status': 'Lunas'},\n",
              " {'id': 'T004',\n",
              "  'pelanggan': 'Hakim',\n",
              "  'jumlah_item': 1,\n",
              "  'harga_per_item': 50000,\n",
              "  'status': 'Batal'},\n",
              " {'id': 'T005',\n",
              "  'pelanggan': 'Adit',\n",
              "  'jumlah_item': 4,\n",
              "  'harga_per_item': 18000,\n",
              "  'status': 'Lunas'},\n",
              " {'id': 'T006',\n",
              "  'pelanggan': 'Dimas',\n",
              "  'jumlah_item': 8,\n",
              "  'harga_per_item': 15000,\n",
              "  'status': 'Lunas'},\n",
              " {'id': 'T007',\n",
              "  'pelanggan': 'Hisyam',\n",
              "  'jumlah_item': 3,\n",
              "  'harga_per_item': 25000,\n",
              "  'status': 'Belum Lunas'},\n",
              " {'id': 'T008',\n",
              "  'pelanggan': 'Krisna',\n",
              "  'jumlah_item': 6,\n",
              "  'harga_per_item': 22000,\n",
              "  'status': 'Lunas'},\n",
              " {'id': 'T009',\n",
              "  'pelanggan': 'Ahyad',\n",
              "  'jumlah_item': 12,\n",
              "  'harga_per_item': 11000,\n",
              "  'status': 'Lunas'},\n",
              " {'id': 'T010',\n",
              "  'pelanggan': 'Wempy',\n",
              "  'jumlah_item': 5,\n",
              "  'harga_per_item': 30000,\n",
              "  'status': 'Batal'},\n",
              " {'id': 'T011',\n",
              "  'pelanggan': 'Nara',\n",
              "  'jumlah_item': 7,\n",
              "  'harga_per_item': 17500,\n",
              "  'status': 'Belum Lunas'},\n",
              " {'id': 'T012',\n",
              "  'pelanggan': 'Fia',\n",
              "  'jumlah_item': 9,\n",
              "  'harga_per_item': 20000,\n",
              "  'status': 'Lunas'},\n",
              " {'id': 'T013',\n",
              "  'pelanggan': 'Radan',\n",
              "  'jumlah_item': 3,\n",
              "  'harga_per_item': 40000,\n",
              "  'status': 'Lunas'},\n",
              " {'id': 'T014',\n",
              "  'pelanggan': 'Rahma',\n",
              "  'jumlah_item': 10,\n",
              "  'harga_per_item': 16000,\n",
              "  'status': 'Batal'},\n",
              " {'id': 'T015',\n",
              "  'pelanggan': 'Yusuf',\n",
              "  'jumlah_item': 4,\n",
              "  'harga_per_item': 28000,\n",
              "  'status': 'Lunas'}]"
            ]
          },
          "execution_count": 29,
          "metadata": {},
          "output_type": "execute_result"
        }
      ],
      "source": [
        "#terakhir:\n",
        "# cek data pengiriman asli [tidak boleh berubah]\n",
        "transaksi"
      ]
    },
    {
      "cell_type": "markdown",
      "metadata": {
        "id": "EiY772Tj_u28"
      },
      "source": [
        "# Rubrik Penilaian"
      ]
    },
    {
      "cell_type": "markdown",
      "metadata": {
        "id": "oSyuCawPT2vc"
      },
      "source": [
        "| Komponen Penilaian       | Bobot (%) |\n",
        "| ------------------------ | --------- |\n",
        "| ***Codelab***       | **15**    |\n",
        "| ***Tugas 1***            |           |\n",
        "| - Code/Kelengkapan fitur | 15        |\n",
        "| - Originalitas Kode      | 5        |\n",
        "| - Pemahaman      | 20        |\n",
        "| ***Tugas 2***           |           |\n",
        "| - Code/Kelengkapan Fitur | 15        |\n",
        "| - Originalitas Kode      | 10        |\n",
        "| - Pemahaman         | 20        |\n",
        "| **Total Akhir**          | **100**   |\n"
      ]
    },
    {
      "cell_type": "markdown",
      "metadata": {
        "id": "7jMed27aFFQu"
      },
      "source": [
        "\\*)Note: Program Identik berarti program sama persis dengan praktikan lain sehingga yang dinilai hanya pemahaman terhadap materi (code tidak mendapat bobot nilai sama sekali).\n",
        "\n",
        "\n",
        "> Detail lengkap penilaian silahkan mengacu pada dokumen modul (pdf)\n"
      ]
    }
  ],
  "metadata": {
    "colab": {
      "provenance": [],
      "toc_visible": true
    },
    "kernelspec": {
      "display_name": ".venv",
      "language": "python",
      "name": "python3"
    },
    "language_info": {
      "codemirror_mode": {
        "name": "ipython",
        "version": 3
      },
      "file_extension": ".py",
      "mimetype": "text/x-python",
      "name": "python",
      "nbconvert_exporter": "python",
      "pygments_lexer": "ipython3",
      "version": "3.13.2"
    }
  },
  "nbformat": 4,
  "nbformat_minor": 0
}
