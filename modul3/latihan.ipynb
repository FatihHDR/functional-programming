{
 "cells": [
  {
   "cell_type": "code",
   "execution_count": 2,
   "id": "c3f0ad3a",
   "metadata": {},
   "outputs": [
    {
     "name": "stdout",
     "output_type": "stream",
     "text": [
      "[0, 2, 4, 6, 8, 10, 12, 14, 16, 18, 20, 22, 24, 26, 28, 30, 32, 34, 36, 38, 40, 42, 44, 46, 48]\n",
      "[1, 3, 5, 7, 9, 11, 13, 15, 17, 19, 21, 23, 25, 27, 29, 31, 33, 35, 37, 39, 41, 43, 45, 47, 49]\n"
     ]
    }
   ],
   "source": [
    "list_ganjil = [x for x in range (50) if x % 2]\n",
    "list_genap = [x for x in range (50) if not x % 2]\n",
    "print(list_genap)\n",
    "print(list_ganjil)"
   ]
  },
  {
   "cell_type": "markdown",
   "id": "6046a5e3",
   "metadata": {},
   "source": [
    "```\n",
    "📌 Latihan 2 - Percobaan 1\n",
    "```\n",
    " Gunakan list comprehension untuk membuat matrix 3×4 dengan isi angka berurutan dari 0 hingga 11, dan tampilkan dalam bentuk matrix seperti berikut!\n",
    "\n",
    "```\n",
    "[0, 1, 2, 3]\n",
    "[4, 5, 6, 7]\n",
    "[8, 9, 10, 11]\n",
    "```\n",
    "\n",
    ">kalian bisa memodifikasi list comprehension pada matrix2 untuk ini\n",
    "\n",
    "\n"
   ]
  },
  {
   "cell_type": "markdown",
   "id": "2f71635c",
   "metadata": {},
   "source": [
    "### Tugas 3"
   ]
  },
  {
   "cell_type": "code",
   "execution_count": 4,
   "id": "10f96b07",
   "metadata": {},
   "outputs": [],
   "source": [
    "#run cell ini sebelum run cell selanjutnya!\n",
    "baris = 3\n",
    "kolom = 5"
   ]
  },
  {
   "cell_type": "code",
   "execution_count": 5,
   "id": "ca2efad3",
   "metadata": {},
   "outputs": [
    {
     "name": "stdout",
     "output_type": "stream",
     "text": [
      "Matriks asli:\n",
      "[0, 1, 2, 3, 4]\n",
      "[5, 6, 7, 8, 9]\n",
      "[10, 11, 12, 13, 14]\n"
     ]
    }
   ],
   "source": [
    "matrix = []\n",
    "for y in range(baris):\n",
    "    row = []\n",
    "    for x in range(kolom):\n",
    "        row.append(x+y*kolom)\n",
    "    matrix.append(row)\n",
    "\n",
    "print(\"Matriks asli:\")\n",
    "for row in matrix:\n",
    "    print(row)"
   ]
  },
  {
   "cell_type": "code",
   "execution_count": 6,
   "id": "b88e3945",
   "metadata": {},
   "outputs": [
    {
     "name": "stdout",
     "output_type": "stream",
     "text": [
      "Filter kolom (hanya genap):\n",
      " [[0, 2, 4], [5, 7, 9], [10, 12, 14]]\n"
     ]
    }
   ],
   "source": [
    "matrix_filter_kolom = []\n",
    "for y in range(baris):\n",
    "    row = []\n",
    "    for x in range(kolom):\n",
    "        if x % 2 == 0:   # ambil hanya angka genap\n",
    "            row.append(x+y*kolom)\n",
    "    matrix_filter_kolom.append(row)\n",
    "\n",
    "print(\"Filter kolom (hanya genap):\\n\", matrix_filter_kolom)"
   ]
  },
  {
   "cell_type": "code",
   "execution_count": 7,
   "id": "bc57fd76",
   "metadata": {},
   "outputs": [
    {
     "name": "stdout",
     "output_type": "stream",
     "text": [
      "Filter baris (hanya baris genap):\n",
      " [[0, 1, 2, 3, 4], [10, 11, 12, 13, 14]]\n"
     ]
    }
   ],
   "source": [
    "matrix_filter_baris = []\n",
    "for y in range(baris):\n",
    "    if y % 2 == 0:   # hanya baris dengan indeks genap\n",
    "        row = []\n",
    "        for x in range(kolom):\n",
    "            row.append(x+y*kolom)\n",
    "        matrix_filter_baris.append(row)\n",
    "\n",
    "print(\"Filter baris (hanya baris genap):\\n\", matrix_filter_baris)"
   ]
  },
  {
   "cell_type": "code",
   "execution_count": 8,
   "id": "d6924509",
   "metadata": {},
   "outputs": [
    {
     "name": "stdout",
     "output_type": "stream",
     "text": [
      "Matriks asli:\n",
      "[0, 1, 2, 3, 4]\n",
      "[5, 6, 7, 8, 9]\n",
      "[10, 11, 12, 13, 14]\n"
     ]
    }
   ],
   "source": [
    "# membuat matrix dg list comprehension\n",
    "matrix = [[x+y*kolom for x in range(kolom)] for y in range(baris)]\n",
    "\n",
    "print(\"Matriks asli:\")\n",
    "for row in matrix:\n",
    "    print(row)"
   ]
  },
  {
   "cell_type": "code",
   "execution_count": null,
   "id": "b5d0a768",
   "metadata": {},
   "outputs": [],
   "source": [
    "# Filter elemen genap (inner loop)\n",
    "matrix_filter_kolom = [[x+y*kolom for x in range(kolom) if not x % 2]for y in range(baris)]\n",
    "\n",
    "print(\"Filter kolom (hanya genap):\\n\", matrix_filter_kolom)"
   ]
  },
  {
   "cell_type": "code",
   "execution_count": null,
   "id": "30fdb9e6",
   "metadata": {},
   "outputs": [],
   "source": [
    "# Filter baris genap (outer loop)\n",
    "matrix_filter_baris = [[x+y*kolom for x in range(kolom)]for y in range(baris) if not y % 2]\n",
    "\n",
    "print(\"Filter baris (hanya baris genap):\\n\", matrix_filter_baris)"
   ]
  },
  {
   "cell_type": "markdown",
   "id": "1f3dc4b4",
   "metadata": {},
   "source": [
    "```\n",
    "📌 Latihan 3b - Percobaan 2\n",
    "```\n",
    "2. Modifikasikan kode Percobaan 2, menggunakan nested list comprehension dengan filtering untuk membuat matriks 4×6 yang berisi angka dari 1 sampai 24, lalu tampilkan hanya bilangan ganjil dari baris dengan indeks genap (gunakan filtering pada inner dan outer list)!\n",
    ">Jelaskan perbedaan hasil antara filtering pada inner loop dan filtering pada outer loop dalam nested list comprehension. Kalian boleh menggunakan contoh sederhana untuk memperjelas jawabanmu.\n",
    "\n",
    "Contoh output:\n",
    "```\n",
    "Matriks asli:\n",
    "[1, 2, 3, 4, 5, 6]\n",
    "[7, 8, 9, 10, 11, 12]\n",
    "[13, 14, 15, 16, 17, 18]\n",
    "[19, 20, 21, 22, 23, 24]\n",
    "\n",
    "Hasil filtering\n",
    "[1, 3, 5]\n",
    "[13, 15, 17]\n",
    "```"
   ]
  },
  {
   "cell_type": "markdown",
   "id": "51c65444",
   "metadata": {},
   "source": [
    "### Latihan 4"
   ]
  },
  {
   "cell_type": "code",
   "execution_count": 9,
   "id": "604a1f73",
   "metadata": {},
   "outputs": [],
   "source": [
    "produk = [\n",
    "    {\"nama\": \"Laptop\", \"stok\": 3},\n",
    "    {\"nama\": \"Mouse\", \"stok\": 0},\n",
    "    {\"nama\": \"Keyboard\", \"stok\": 8},\n",
    "    {\"nama\": \"Monitor\", \"stok\": 0},\n",
    "    {\"nama\": \"Flashdisk\", \"stok\": 10}\n",
    "]"
   ]
  },
  {
   "cell_type": "markdown",
   "id": "35503476",
   "metadata": {},
   "source": [
    "Gunakan filter() untuk menyaring hanya produk yang stoknya habis. tampilkan dengan menggunakan iterasi!"
   ]
  },
  {
   "cell_type": "markdown",
   "id": "b601179a",
   "metadata": {},
   "source": [
    "### Latihan 5"
   ]
  },
  {
   "cell_type": "code",
   "execution_count": 18,
   "id": "5f39d4d6",
   "metadata": {},
   "outputs": [],
   "source": [
    "mahasiswa = [\n",
    "    {\"nama\": \"James\", \"nilai\": 100},\n",
    "    {\"nama\": \"Riki\", \"nilai\": 55},\n",
    "    {\"nama\": \"Jay\", \"nilai\": 85},\n",
    "    {\"nama\": \"Jake\", \"nilai\": 45},\n",
    "    {\"nama\": \"Anton\", \"nilai\": 90}\n",
    "]\n",
    "\n",
    "# fungsi logika untuk data mahasiswa\n",
    "'''\n",
    " fungsi untuk mengecek kelulusan dari nilai mahasiswa\n",
    " pre-cond: score adalah dictionary yang memiliki key nilai di dalamnya\n",
    " post-cond: nilai True jika nilai >= 70\n",
    "'''\n",
    "def lulus_mahasiswa(score):\n",
    "    return score[\"nilai\"] >= 70"
   ]
  },
  {
   "cell_type": "code",
   "execution_count": 19,
   "id": "fcfb4e6d",
   "metadata": {},
   "outputs": [],
   "source": [
    "# pastiin cell kode di filter sudah dirun\n",
    "# Fungsi transformasi untuk digunakan dalam fungsi map()\n",
    "'''\n",
    " fungsi untuk transformasi nilai score menjadi nilai huruf\n",
    " pre-cond: score adalah number\n",
    " post-cond: berupa huruf nilai 'A', 'B', atau 'C'\n",
    "'''\n",
    "def to_grade(score):\n",
    "    if score >= 85:\n",
    "        return \"A\"\n",
    "    elif score >= 70:\n",
    "        return \"B\"\n",
    "    else:\n",
    "        return \"C\""
   ]
  },
  {
   "cell_type": "code",
   "execution_count": 20,
   "id": "9bb50872",
   "metadata": {},
   "outputs": [
    {
     "ename": "NameError",
     "evalue": "name 'nilai' is not defined",
     "output_type": "error",
     "traceback": [
      "\u001b[31m---------------------------------------------------------------------------\u001b[39m",
      "\u001b[31mNameError\u001b[39m                                 Traceback (most recent call last)",
      "\u001b[36mCell\u001b[39m\u001b[36m \u001b[39m\u001b[32mIn[20]\u001b[39m\u001b[32m, line 2\u001b[39m\n\u001b[32m      1\u001b[39m \u001b[38;5;66;03m#penggunaan map\u001b[39;00m\n\u001b[32m----> \u001b[39m\u001b[32m2\u001b[39m grades = \u001b[38;5;28mmap\u001b[39m(to_grade, \u001b[43mnilai\u001b[49m)\n\u001b[32m      3\u001b[39m \u001b[38;5;28mprint\u001b[39m(nilai)\n\u001b[32m      4\u001b[39m \u001b[38;5;28mprint\u001b[39m(grades)          \u001b[38;5;66;03m# hanya menampilkan objek (karena lazy)\u001b[39;00m\n",
      "\u001b[31mNameError\u001b[39m: name 'nilai' is not defined"
     ]
    }
   ],
   "source": [
    "#penggunaan map\n",
    "grades = map(to_grade, nilai)\n",
    "print(nilai)\n",
    "print(grades)          # hanya menampilkan objek (karena lazy)\n",
    "print(list(grades))    # casting/ubah jadi list untuk print semua hasil"
   ]
  },
  {
   "cell_type": "code",
   "execution_count": 17,
   "id": "3c876188",
   "metadata": {},
   "outputs": [
    {
     "ename": "NameError",
     "evalue": "name 'nilai' is not defined",
     "output_type": "error",
     "traceback": [
      "\u001b[31m---------------------------------------------------------------------------\u001b[39m",
      "\u001b[31mNameError\u001b[39m                                 Traceback (most recent call last)",
      "\u001b[36mCell\u001b[39m\u001b[36m \u001b[39m\u001b[32mIn[17]\u001b[39m\u001b[32m, line 1\u001b[39m\n\u001b[32m----> \u001b[39m\u001b[32m1\u001b[39m grades = \u001b[38;5;28mmap\u001b[39m(to_grade, \u001b[43mnilai\u001b[49m)\n\u001b[32m      3\u001b[39m \u001b[38;5;28mprint\u001b[39m(\u001b[33m\"\u001b[39m\u001b[33mNilai dengan Grade:\u001b[39m\u001b[33m\"\u001b[39m)\n\u001b[32m      4\u001b[39m \u001b[38;5;66;03m# iterasi untuk menampilkan data grades menggunakan next()\u001b[39;00m\n",
      "\u001b[31mNameError\u001b[39m: name 'nilai' is not defined"
     ]
    }
   ],
   "source": [
    "grades = map(to_grade, nilai)\n",
    "\n",
    "print(\"Nilai dengan Grade:\")\n",
    "# iterasi untuk menampilkan data grades menggunakan next()\n",
    "for score in nilai:\n",
    "    print(score,'=',next(grades))\n",
    "\n",
    "#percobaan latihan 5"
   ]
  }
 ],
 "metadata": {
  "kernelspec": {
   "display_name": ".venv",
   "language": "python",
   "name": "python3"
  },
  "language_info": {
   "codemirror_mode": {
    "name": "ipython",
    "version": 3
   },
   "file_extension": ".py",
   "mimetype": "text/x-python",
   "name": "python",
   "nbconvert_exporter": "python",
   "pygments_lexer": "ipython3",
   "version": "3.13.2"
  }
 },
 "nbformat": 4,
 "nbformat_minor": 5
}
