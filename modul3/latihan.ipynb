{
 "cells": [
  {
   "cell_type": "markdown",
   "id": "42850735",
   "metadata": {},
   "source": [
    "# Latihan Modul 3 - Processing Sequence Data\n",
    "\n",
    "Jawaban untuk Latihan 1-5 dari modul 3"
   ]
  },
  {
   "cell_type": "markdown",
   "id": "dd90b811",
   "metadata": {},
   "source": [
    "## 📌 Latihan 1 - Logika Dasar\n",
    "\n",
    "**Pertanyaan:**\n",
    "Coba kalian amati 2 cell code sebelumnya (list_ganjil & list_genap)! Kenapa program bisa tetap berjalan dengan hasil yang sesuai meski kondisi yang dipakai hanya menggunakan operator modulo saja (x % 2) tanpa operator perbandingan/comparison seperti (misal) `==` atau `!=`? Menurut kalian Kenapa hal ini penting disini?"
   ]
  },
  {
   "cell_type": "markdown",
   "id": "aaa8b0a1",
   "metadata": {},
   "source": [
    "**Jawaban:**\n",
    "\n",
    "Program bisa berjalan tanpa operator perbandingan karena Python secara otomatis mengkonversi hasil operasi modulo menjadi nilai **boolean** dalam konteks kondisi:\n",
    "\n",
    "- `x % 2` menghasilkan **0** (untuk bilangan genap) atau **1** (untuk bilangan ganjil)\n",
    "- Dalam Python, nilai **0 dianggap False** dan nilai **non-zero (1) dianggap True**\n",
    "\n",
    "Jadi:\n",
    "- `if x % 2` → True jika x ganjil (karena x % 2 = 1)\n",
    "- `if not x % 2` → True jika x genap (karena x % 2 = 0, dan not 0 = True)\n",
    "\n",
    "**Mengapa ini penting?**\n",
    "\n",
    "1. **Lebih ringkas dan ekspresif** - Kode menjadi lebih pendek tanpa mengurangi keterbacaan\n",
    "2. **Pythonic** - Memanfaatkan truthiness value yang merupakan fitur idiomatik Python\n",
    "3. **Efisien** - Mengurangi operasi perbandingan yang tidak perlu\n",
    "4. **Sejalan dengan paradigma fungsional** - Lebih deklaratif, fokus pada \"apa\" bukan \"bagaimana\"\n",
    "\n",
    "Contoh perbandingan:\n",
    "```python\n",
    "# Lebih verbose (tidak perlu)\n",
    "list_ganjil = [x for x in range(50) if x % 2 == 1]\n",
    "\n",
    "# Lebih concise (pythonic)\n",
    "list_ganjil = [x for x in range(50) if x % 2]\n",
    "```"
   ]
  },
  {
   "cell_type": "code",
   "execution_count": 31,
   "id": "c3f0ad3a",
   "metadata": {},
   "outputs": [
    {
     "name": "stdout",
     "output_type": "stream",
     "text": [
      "[0, 2, 4, 6, 8, 10, 12, 14, 16, 18, 20, 22, 24, 26, 28, 30, 32, 34, 36, 38, 40, 42, 44, 46, 48]\n",
      "[1, 3, 5, 7, 9, 11, 13, 15, 17, 19, 21, 23, 25, 27, 29, 31, 33, 35, 37, 39, 41, 43, 45, 47, 49]\n"
     ]
    }
   ],
   "source": [
    "list_ganjil = [x for x in range (50) if x % 2]\n",
    "list_genap = [x for x in range (50) if not x % 2]\n",
    "print(list_genap)\n",
    "print(list_ganjil)"
   ]
  },
  {
   "cell_type": "markdown",
   "id": "6046a5e3",
   "metadata": {},
   "source": [
    "## 📌 Latihan 2 - Percobaan 1\n",
    "\n",
    "**Pertanyaan:**\n",
    "Gunakan list comprehension untuk membuat matrix 3×4 dengan isi angka berurutan dari 0 hingga 11, dan tampilkan dalam bentuk matrix seperti berikut!\n",
    "\n",
    "```\n",
    "[0, 1, 2, 3]\n",
    "[4, 5, 6, 7]\n",
    "[8, 9, 10, 11]\n",
    "```\n",
    "\n",
    "> kalian bisa memodifikasi list comprehension pada matrix2 untuk ini"
   ]
  },
  {
   "cell_type": "code",
   "execution_count": 32,
   "id": "79b6fce8",
   "metadata": {},
   "outputs": [
    {
     "name": "stdout",
     "output_type": "stream",
     "text": [
      "Matrix 3x4:\n",
      "[0, 1, 2, 3]\n",
      "[4, 5, 6, 7]\n",
      "[8, 9, 10, 11]\n"
     ]
    }
   ],
   "source": [
    "# Membuat matrix 3x4 dengan angka berurutan dari 0 hingga 11\n",
    "matrix3x4 = [[x + y*4 for x in range(4)] for y in range(3)]\n",
    "\n",
    "print(\"Matrix 3x4:\")\n",
    "for row in matrix3x4:\n",
    "    print(row)"
   ]
  },
  {
   "cell_type": "markdown",
   "id": "2f71635c",
   "metadata": {},
   "source": [
    "## 📌 Latihan 3a - Percobaan 2\n",
    "\n",
    "**Pertanyaan:**\n",
    "Amati kode program pada bagian Percobaan 2: antara kode pada point a (tanpa list comprehension) dan b (menggunakan list comprehension)! Coba jelaskan kenapa output keduanya bisa sama, padahal kode programnya berbeda! Apakah kalian bisa melihat kesamaan formula diantara keduanya?"
   ]
  },
  {
   "cell_type": "markdown",
   "id": "e4be5ee1",
   "metadata": {},
   "source": [
    "**Jawaban:**\n",
    "\n",
    "Output keduanya sama karena **logika yang digunakan identik**, hanya cara penulisannya yang berbeda:\n",
    "\n",
    "**Kesamaan Formula:**\n",
    "Baik kode imperatif maupun list comprehension sama-sama menggunakan formula:\n",
    "```\n",
    "nilai = x + y * kolom\n",
    "```\n",
    "\n",
    "Di mana:\n",
    "- `x` adalah indeks kolom (0 sampai kolom-1)\n",
    "- `y` adalah indeks baris (0 sampai baris-1)\n",
    "- Formula ini menghasilkan angka berurutan dalam matrix\n",
    "\n",
    "**Perbedaan Pendekatan:**\n",
    "\n",
    "1. **Tanpa List Comprehension (Imperatif):**\n",
    "   - Menggunakan loop eksplisit dengan `for`\n",
    "   - Membuat list kosong terlebih dahulu\n",
    "   - Menggunakan `append()` untuk menambahkan elemen\n",
    "   - Fokus pada \"bagaimana\" proses dilakukan (step-by-step)\n",
    "   - Lebih verbose (banyak baris kode)\n",
    "\n",
    "2. **Dengan List Comprehension (Deklaratif/Fungsional):**\n",
    "   - Syntax lebih ringkas dalam satu baris\n",
    "   - Tidak perlu membuat list kosong dan append manual\n",
    "   - Fokus pada \"apa\" yang ingin dibuat\n",
    "   - Lebih pythonic dan efisien\n",
    "   - Mendukung prinsip immutability (tidak memodifikasi data yang ada)\n",
    "\n",
    "**Contoh Perbandingan:**\n",
    "```python\n",
    "# Imperatif\n",
    "matrix = []\n",
    "for y in range(baris):\n",
    "    row = []\n",
    "    for x in range(kolom):\n",
    "        row.append(x+y*kolom)  # Formula sama\n",
    "    matrix.append(row)\n",
    "\n",
    "# List Comprehension\n",
    "matrix = [[x+y*kolom for x in range(kolom)] for y in range(baris)]  # Formula sama\n",
    "```\n",
    "\n",
    "Keduanya menghasilkan output yang sama karena mengeksekusi logika yang sama, hanya gaya penulisannya berbeda."
   ]
  },
  {
   "cell_type": "code",
   "execution_count": 33,
   "id": "10f96b07",
   "metadata": {},
   "outputs": [],
   "source": [
    "#run cell ini sebelum run cell selanjutnya!\n",
    "baris = 3\n",
    "kolom = 5"
   ]
  },
  {
   "cell_type": "code",
   "execution_count": 34,
   "id": "ca2efad3",
   "metadata": {},
   "outputs": [
    {
     "name": "stdout",
     "output_type": "stream",
     "text": [
      "Matriks asli:\n",
      "[0, 1, 2, 3, 4]\n",
      "[5, 6, 7, 8, 9]\n",
      "[10, 11, 12, 13, 14]\n"
     ]
    }
   ],
   "source": [
    "matrix = []\n",
    "for y in range(baris):\n",
    "    row = []\n",
    "    for x in range(kolom):\n",
    "        row.append(x+y*kolom)\n",
    "    matrix.append(row)\n",
    "\n",
    "print(\"Matriks asli:\")\n",
    "for row in matrix:\n",
    "    print(row)"
   ]
  },
  {
   "cell_type": "code",
   "execution_count": 35,
   "id": "b88e3945",
   "metadata": {},
   "outputs": [
    {
     "name": "stdout",
     "output_type": "stream",
     "text": [
      "Filter kolom (hanya genap):\n",
      " [[0, 2, 4], [5, 7, 9], [10, 12, 14]]\n"
     ]
    }
   ],
   "source": [
    "matrix_filter_kolom = []\n",
    "for y in range(baris):\n",
    "    row = []\n",
    "    for x in range(kolom):\n",
    "        if x % 2 == 0:   # ambil hanya angka genap\n",
    "            row.append(x+y*kolom)\n",
    "    matrix_filter_kolom.append(row)\n",
    "\n",
    "print(\"Filter kolom (hanya genap):\\n\", matrix_filter_kolom)"
   ]
  },
  {
   "cell_type": "code",
   "execution_count": 36,
   "id": "bc57fd76",
   "metadata": {},
   "outputs": [
    {
     "name": "stdout",
     "output_type": "stream",
     "text": [
      "Filter baris (hanya baris genap):\n",
      " [[0, 1, 2, 3, 4], [10, 11, 12, 13, 14]]\n"
     ]
    }
   ],
   "source": [
    "matrix_filter_baris = []\n",
    "for y in range(baris):\n",
    "    if y % 2 == 0:   # hanya baris dengan indeks genap\n",
    "        row = []\n",
    "        for x in range(kolom):\n",
    "            row.append(x+y*kolom)\n",
    "        matrix_filter_baris.append(row)\n",
    "\n",
    "print(\"Filter baris (hanya baris genap):\\n\", matrix_filter_baris)"
   ]
  },
  {
   "cell_type": "code",
   "execution_count": 37,
   "id": "d6924509",
   "metadata": {},
   "outputs": [
    {
     "name": "stdout",
     "output_type": "stream",
     "text": [
      "Matriks asli:\n",
      "[0, 1, 2, 3, 4]\n",
      "[5, 6, 7, 8, 9]\n",
      "[10, 11, 12, 13, 14]\n"
     ]
    }
   ],
   "source": [
    "# membuat matrix dg list comprehension\n",
    "matrix = [[x+y*kolom for x in range(kolom)] for y in range(baris)]\n",
    "\n",
    "print(\"Matriks asli:\")\n",
    "for row in matrix:\n",
    "    print(row)"
   ]
  },
  {
   "cell_type": "code",
   "execution_count": 38,
   "id": "b5d0a768",
   "metadata": {},
   "outputs": [
    {
     "name": "stdout",
     "output_type": "stream",
     "text": [
      "Filter kolom (hanya genap):\n",
      " [[0, 2, 4], [5, 7, 9], [10, 12, 14]]\n"
     ]
    }
   ],
   "source": [
    "# Filter elemen genap (inner loop)\n",
    "matrix_filter_kolom = [[x+y*kolom for x in range(kolom) if not x % 2]for y in range(baris)]\n",
    "\n",
    "print(\"Filter kolom (hanya genap):\\n\", matrix_filter_kolom)"
   ]
  },
  {
   "cell_type": "code",
   "execution_count": 39,
   "id": "30fdb9e6",
   "metadata": {},
   "outputs": [
    {
     "name": "stdout",
     "output_type": "stream",
     "text": [
      "Filter baris (hanya baris genap):\n",
      " [[0, 1, 2, 3, 4], [10, 11, 12, 13, 14]]\n"
     ]
    }
   ],
   "source": [
    "# Filter baris genap (outer loop)\n",
    "matrix_filter_baris = [[x+y*kolom for x in range(kolom)]for y in range(baris) if not y % 2]\n",
    "\n",
    "print(\"Filter baris (hanya baris genap):\\n\", matrix_filter_baris)"
   ]
  },
  {
   "cell_type": "markdown",
   "id": "1f3dc4b4",
   "metadata": {},
   "source": [
    "## 📌 Latihan 3b - Percobaan 2\n",
    "\n",
    "**Pertanyaan:**\n",
    "Modifikasikan kode Percobaan 2, menggunakan nested list comprehension dengan filtering untuk membuat matriks 4×6 yang berisi angka dari 1 sampai 24, lalu tampilkan hanya bilangan ganjil dari baris dengan indeks genap (gunakan filtering pada inner dan outer list)!\n",
    "\n",
    "> Jelaskan perbedaan hasil antara filtering pada inner loop dan filtering pada outer loop dalam nested list comprehension. Kalian boleh menggunakan contoh sederhana untuk memperjelas jawabanmu.\n",
    "\n",
    "Contoh output:\n",
    "```\n",
    "Matriks asli:\n",
    "[1, 2, 3, 4, 5, 6]\n",
    "[7, 8, 9, 10, 11, 12]\n",
    "[13, 14, 15, 16, 17, 18]\n",
    "[19, 20, 21, 22, 23, 24]\n",
    "\n",
    "Hasil filtering\n",
    "[1, 3, 5]\n",
    "[13, 15, 17]\n",
    "```"
   ]
  },
  {
   "cell_type": "code",
   "execution_count": 40,
   "id": "deae5f85",
   "metadata": {},
   "outputs": [
    {
     "name": "stdout",
     "output_type": "stream",
     "text": [
      "Matriks asli:\n",
      "[1, 2, 3, 4, 5, 6]\n",
      "[7, 8, 9, 10, 11, 12]\n",
      "[13, 14, 15, 16, 17, 18]\n",
      "[19, 20, 21, 22, 23, 24]\n",
      "\n",
      "Hasil filtering:\n",
      "[1, 3, 5]\n",
      "[13, 15, 17]\n"
     ]
    }
   ],
   "source": [
    "# Membuat matrix 4x6 dengan angka 1-24\n",
    "baris_baru = 4\n",
    "kolom_baru = 6\n",
    "\n",
    "# Matrix asli\n",
    "matrix_asli = [[x + y*kolom_baru + 1 for x in range(kolom_baru)] for y in range(baris_baru)]\n",
    "\n",
    "print(\"Matriks asli:\")\n",
    "for row in matrix_asli:\n",
    "    print(row)\n",
    "\n",
    "# Filtering: bilangan ganjil (inner) dari baris indeks genap (outer)\n",
    "# Inner filter: x % 2 (bilangan ganjil pada kolom)\n",
    "# Outer filter: y % 2 == 0 (baris dengan indeks genap)\n",
    "matrix_filtered = [[x + y*kolom_baru + 1 for x in range(kolom_baru) if (x + y*kolom_baru + 1) % 2] \n",
    "                   for y in range(baris_baru) if not y % 2]\n",
    "\n",
    "print(\"\\nHasil filtering:\")\n",
    "for row in matrix_filtered:\n",
    "    print(row)"
   ]
  },
  {
   "cell_type": "markdown",
   "id": "1d48fbf6",
   "metadata": {},
   "source": [
    "**Penjelasan Perbedaan Filtering:**\n",
    "\n",
    "**1. Filtering pada Inner Loop (Filter Kolom):**\n",
    "- Memfilter **elemen-elemen di dalam setiap baris**\n",
    "- Mengurangi jumlah kolom yang ditampilkan\n",
    "- Semua baris tetap ada, tapi isi tiap baris berkurang\n",
    "- Contoh: `[x for x in range(6) if x % 2]` → hanya kolom dengan nilai ganjil\n",
    "\n",
    "**2. Filtering pada Outer Loop (Filter Baris):**\n",
    "- Memfilter **baris mana saja yang akan dimasukkan**\n",
    "- Mengurangi jumlah baris yang ditampilkan\n",
    "- Setiap baris yang lolos filter tetap utuh (semua kolomnya)\n",
    "- Contoh: `for y in range(4) if not y % 2` → hanya baris indeks 0 dan 2\n",
    "\n",
    "**Contoh Sederhana:**\n",
    "\n",
    "```python\n",
    "# Data awal: 3 baris x 4 kolom\n",
    "matrix = [[0,1,2,3], [4,5,6,7], [8,9,10,11]]\n",
    "\n",
    "# Filter Inner (kolom genap saja)\n",
    "# Hasilnya: 3 baris, tapi tiap baris hanya 2 kolom\n",
    "result1 = [[x for x in row if not x % 2] for row in matrix]\n",
    "# [[0, 2], [4, 6], [8, 10]]\n",
    "\n",
    "# Filter Outer (baris indeks ganjil saja)\n",
    "# Hasilnya: 1 baris (indeks 1), dengan 4 kolom lengkap\n",
    "result2 = [row for i, row in enumerate(matrix) if i % 2]\n",
    "# [[4, 5, 6, 7]]\n",
    "\n",
    "# Filter Inner DAN Outer (kolom genap dari baris indeks ganjil)\n",
    "# Hasilnya: 1 baris dengan 2 kolom\n",
    "result3 = [[x for x in row if not x % 2] for i, row in enumerate(matrix) if i % 2]\n",
    "# [[4, 6]]\n",
    "```\n",
    "\n",
    "**Kesimpulan:**\n",
    "- **Inner filter** → mengontrol **apa yang ada di dalam baris** (filter horizontal/kolom)\n",
    "- **Outer filter** → mengontrol **baris mana yang diambil** (filter vertikal/baris)"
   ]
  },
  {
   "cell_type": "markdown",
   "id": "51c65444",
   "metadata": {},
   "source": [
    "### Latihan 4"
   ]
  },
  {
   "cell_type": "code",
   "execution_count": 41,
   "id": "604a1f73",
   "metadata": {},
   "outputs": [],
   "source": [
    "produk = [\n",
    "    {\"nama\": \"Laptop\", \"stok\": 3},\n",
    "    {\"nama\": \"Mouse\", \"stok\": 0},\n",
    "    {\"nama\": \"Keyboard\", \"stok\": 8},\n",
    "    {\"nama\": \"Monitor\", \"stok\": 0},\n",
    "    {\"nama\": \"Flashdisk\", \"stok\": 10}\n",
    "]"
   ]
  },
  {
   "cell_type": "markdown",
   "id": "35503476",
   "metadata": {},
   "source": [
    "## 📌 Latihan 4\n",
    "\n",
    "**Pertanyaan:**\n",
    "Gunakan filter() untuk menyaring hanya produk yang stoknya habis. Tampilkan dengan menggunakan iterasi!"
   ]
  },
  {
   "cell_type": "code",
   "execution_count": 42,
   "id": "713d1592",
   "metadata": {},
   "outputs": [
    {
     "name": "stdout",
     "output_type": "stream",
     "text": [
      "Produk dengan stok habis:\n",
      "{'nama': 'Mouse', 'stok': 0}\n",
      "{'nama': 'Monitor', 'stok': 0}\n"
     ]
    }
   ],
   "source": [
    "# Fungsi logika untuk filter produk dengan stok habis\n",
    "'''\n",
    "desc: fungsi untuk mengecek apakah stok produk habis\n",
    "pre-cond: item adalah dictionary dengan key 'stok'\n",
    "post-cond: return True jika stok = 0, False jika stok > 0\n",
    "'''\n",
    "def stok_habis(item):\n",
    "    return item[\"stok\"] == 0\n",
    "\n",
    "# Menggunakan filter untuk menyaring produk dengan stok habis\n",
    "produk_habis = filter(stok_habis, produk)\n",
    "\n",
    "# Menampilkan hasil dengan iterasi\n",
    "print(\"Produk dengan stok habis:\")\n",
    "for item in produk_habis:\n",
    "    print(item)"
   ]
  },
  {
   "cell_type": "markdown",
   "id": "b601179a",
   "metadata": {},
   "source": [
    "## 📌 Latihan 5 - Logika Map\n",
    "\n",
    "**Pertanyaan:**\n",
    "Coba kalian jalankan dan amati bagian iterasi yang digunakan untuk menampilkan data grades diatas! Mengapa loop for nya menggunakan `in nilai`, kok gak `in grades`? Padahal yang mau dicetak kan `grades`?? Menurut kalian Apakah terjadi kesalahan? Ataukah iterasi seperti ini boleh dan aman? Apa tidak menyebabkan data terlewat atau iterasi berlebih yang akan mentriger `StopIteration` exception?"
   ]
  },
  {
   "cell_type": "code",
   "execution_count": 43,
   "id": "3a18e7bb",
   "metadata": {},
   "outputs": [
    {
     "name": "stdout",
     "output_type": "stream",
     "text": [
      "Nilai dengan Grade:\n",
      "55 = C\n",
      "80 = B\n",
      "72 = B\n",
      "65 = C\n",
      "90 = A\n",
      "45 = C\n",
      "88 = A\n",
      "60 = C\n",
      "90 = A\n",
      "50 = C\n",
      "73 = B\n"
     ]
    }
   ],
   "source": [
    "# Definisi ulang nilai untuk latihan 5\n",
    "nilai = [55, 80, 72, 65, 90, 45, 88, 60, 90, 50, 73]\n",
    "\n",
    "# Fungsi transformasi\n",
    "def to_grade(score):\n",
    "    if score >= 85:\n",
    "        return \"A\"\n",
    "    elif score >= 70:\n",
    "        return \"B\"\n",
    "    else:\n",
    "        return \"C\"\n",
    "\n",
    "# Membuat map object\n",
    "grades = map(to_grade, nilai)\n",
    "\n",
    "print(\"Nilai dengan Grade:\")\n",
    "# iterasi untuk menampilkan data grades menggunakan next()\n",
    "for score in nilai:\n",
    "    print(score, '=', next(grades))"
   ]
  },
  {
   "cell_type": "markdown",
   "id": "cacbb8bc",
   "metadata": {},
   "source": [
    "**Jawaban:**\n",
    "\n",
    "Iterasi seperti ini **AMAN dan TIDAK akan menyebabkan error**, asalkan jumlah elemen dalam `nilai` dan `grades` sama. Berikut penjelasannya:\n",
    "\n",
    "**Mengapa menggunakan `for score in nilai` bukan `for grade in grades`?**\n",
    "\n",
    "1. **Jumlah iterasi yang tepat:**\n",
    "   - `nilai` memiliki jumlah elemen yang pasti (11 elemen)\n",
    "   - `grades` juga memiliki 11 elemen karena hasil `map()` dari `nilai`\n",
    "   - Loop `for score in nilai` akan berjalan **tepat 11 kali**\n",
    "   - Setiap iterasi memanggil `next(grades)` **tepat 11 kali**\n",
    "   - Jumlahnya pas, sehingga tidak ada data terlewat atau iterasi berlebih\n",
    "\n",
    "2. **Kenapa tidak `for grade in grades`?**\n",
    "   - Jika menggunakan `for grade in grades`, kita tidak bisa mengakses nilai asli (`score`) untuk ditampilkan bersamaan\n",
    "   - Tujuan kode ini adalah menampilkan **pasangan nilai asli dan grade-nya**\n",
    "   - Contoh output yang diinginkan: `80 = B`\n",
    "\n",
    "3. **Keamanan penggunaan `next()`:**\n",
    "   - `next()` akan mengambil elemen berikutnya dari iterator\n",
    "   - Karena jumlah elemen `nilai` dan `grades` sama, maka:\n",
    "     - Iterasi ke-1: `next(grades)` → elemen ke-1\n",
    "     - Iterasi ke-2: `next(grades)` → elemen ke-2\n",
    "     - ...\n",
    "     - Iterasi ke-11: `next(grades)` → elemen ke-11\n",
    "   - Setelah iterasi ke-11, loop berhenti karena `nilai` sudah habis\n",
    "   - `next(grades)` tidak dipanggil lagi, sehingga tidak ada `StopIteration` exception\n",
    "\n",
    "**Kapan `StopIteration` exception akan terjadi?**\n",
    "\n",
    "`StopIteration` exception akan terjadi jika kita memanggil `next(grades)` **lebih banyak** dari jumlah elemen yang ada dalam `grades`. Contoh:\n",
    "\n",
    "```python\n",
    "grades = map(to_grade, nilai)  # 11 elemen\n",
    "for i in range(15):  # Loop 15 kali (lebih dari 11)\n",
    "    print(next(grades))  # Akan error di iterasi ke-12\n",
    "```\n",
    "\n",
    "**Alternatif Pendekatan:**\n",
    "\n",
    "Jika ingin lebih aman dan pythonic, bisa menggunakan `zip()`:\n",
    "\n",
    "```python\n",
    "grades = map(to_grade, nilai)\n",
    "for score, grade in zip(nilai, grades):\n",
    "    print(score, '=', grade)\n",
    "```\n",
    "\n",
    "Dengan `zip()`, tidak perlu khawatir tentang perbedaan jumlah elemen karena `zip()` akan berhenti saat salah satu iterable habis.\n",
    "\n",
    "**Kesimpulan:**\n",
    "\n",
    "Kode tersebut **tidak salah dan aman** karena:\n",
    "- Jumlah elemen `nilai` dan `grades` dijamin sama (hasil map dari data yang sama)\n",
    "- Jumlah pemanggilan `next(grades)` = jumlah elemen dalam `nilai`\n",
    "- Tidak ada risiko `StopIteration` selama asumsi di atas terpenuhi"
   ]
  },
  {
   "cell_type": "code",
   "execution_count": 44,
   "id": "5f39d4d6",
   "metadata": {},
   "outputs": [],
   "source": [
    "mahasiswa = [\n",
    "    {\"nama\": \"James\", \"nilai\": 100},\n",
    "    {\"nama\": \"Riki\", \"nilai\": 55},\n",
    "    {\"nama\": \"Jay\", \"nilai\": 85},\n",
    "    {\"nama\": \"Jake\", \"nilai\": 45},\n",
    "    {\"nama\": \"Anton\", \"nilai\": 90}\n",
    "]\n",
    "\n",
    "# fungsi logika untuk data mahasiswa\n",
    "'''\n",
    " fungsi untuk mengecek kelulusan dari nilai mahasiswa\n",
    " pre-cond: score adalah dictionary yang memiliki key nilai di dalamnya\n",
    " post-cond: nilai True jika nilai >= 70\n",
    "'''\n",
    "def lulus_mahasiswa(score):\n",
    "    return score[\"nilai\"] >= 70"
   ]
  },
  {
   "cell_type": "code",
   "execution_count": 45,
   "id": "fcfb4e6d",
   "metadata": {},
   "outputs": [],
   "source": [
    "# pastiin cell kode di filter sudah dirun\n",
    "# Fungsi transformasi untuk digunakan dalam fungsi map()\n",
    "'''\n",
    " fungsi untuk transformasi nilai score menjadi nilai huruf\n",
    " pre-cond: score adalah number\n",
    " post-cond: berupa huruf nilai 'A', 'B', atau 'C'\n",
    "'''\n",
    "def to_grade(score):\n",
    "    if score >= 85:\n",
    "        return \"A\"\n",
    "    elif score >= 70:\n",
    "        return \"B\"\n",
    "    else:\n",
    "        return \"C\""
   ]
  },
  {
   "cell_type": "code",
   "execution_count": 46,
   "id": "9bb50872",
   "metadata": {},
   "outputs": [
    {
     "name": "stdout",
     "output_type": "stream",
     "text": [
      "[55, 80, 72, 65, 90, 45, 88, 60, 90, 50, 73]\n",
      "<map object at 0x000001271E038C10>\n",
      "['C', 'B', 'B', 'C', 'A', 'C', 'A', 'C', 'A', 'C', 'B']\n"
     ]
    }
   ],
   "source": [
    "#penggunaan map\n",
    "grades = map(to_grade, nilai)\n",
    "print(nilai)\n",
    "print(grades)          # hanya menampilkan objek (karena lazy)\n",
    "print(list(grades))    # casting/ubah jadi list untuk print semua hasil"
   ]
  },
  {
   "cell_type": "code",
   "execution_count": 47,
   "id": "3c876188",
   "metadata": {},
   "outputs": [
    {
     "name": "stdout",
     "output_type": "stream",
     "text": [
      "Nilai dengan Grade:\n",
      "55 = C\n",
      "80 = B\n",
      "72 = B\n",
      "65 = C\n",
      "90 = A\n",
      "45 = C\n",
      "88 = A\n",
      "60 = C\n",
      "90 = A\n",
      "50 = C\n",
      "73 = B\n"
     ]
    }
   ],
   "source": [
    "grades = map(to_grade, nilai)\n",
    "\n",
    "print(\"Nilai dengan Grade:\")\n",
    "# iterasi untuk menampilkan data grades menggunakan next()\n",
    "for score in nilai:\n",
    "    print(score,'=',next(grades))\n",
    "\n",
    "#percobaan latihan 5"
   ]
  },
  {
   "cell_type": "markdown",
   "id": "d821ef30",
   "metadata": {},
   "source": [
    "## 📌 Latihan 6\n",
    "\n",
    "**Pertanyaan:**\n",
    "> Pastikan kalian sudah run semua cell ya\n",
    "\n",
    "Apakah bisa kita langsung memasukkan data untuk di reduce seperti berikut?\n",
    "\n",
    "a. Coba jalankan kode program, tampilkan dan amati hasilnya!\n",
    "\n",
    "b. Bagaimana caranya agar dapat menjumlahkan semua angka yang ada dalam data `nilai_mahasiswa` menjadi 1? Coba tuliskan kode penyelesaiannya!"
   ]
  },
  {
   "cell_type": "code",
   "execution_count": 48,
   "id": "beca63a8",
   "metadata": {},
   "outputs": [],
   "source": [
    "# Setup data yang diperlukan\n",
    "# Data nilai mahasiswa (nested list dari contoh di modul)\n",
    "nilai_mahasiswa = [\n",
    "    [80, 75, 90],   # Mahasiswa 1\n",
    "    [60, 70, 65],   # Mahasiswa 2\n",
    "    [85, 88, 92]    # Mahasiswa 3\n",
    "]\n",
    "\n",
    "# Fungsi add (dari materi reduce)\n",
    "def add(a, b):\n",
    "    hasil = a + b\n",
    "    return hasil\n",
    "\n",
    "# Import reduce\n",
    "from functools import reduce"
   ]
  },
  {
   "cell_type": "markdown",
   "id": "340c9d8e",
   "metadata": {},
   "source": [
    "### Latihan 6a - Mencoba reduce langsung pada nested list"
   ]
  },
  {
   "cell_type": "code",
   "execution_count": 49,
   "id": "7c8351fb",
   "metadata": {},
   "outputs": [
    {
     "name": "stdout",
     "output_type": "stream",
     "text": [
      "Hasil reduce langsung pada nested list:\n",
      "[80, 75, 90, 60, 70, 65, 85, 88, 92]\n",
      "\n",
      "Tipe data hasil: <class 'list'>\n",
      "Apakah ini yang kita inginkan? TIDAK!\n",
      "\n",
      "Yang terjadi:\n",
      "- Reduce menggabungkan semua list menjadi satu list panjang\n",
      "- Bukan menjumlahkan angka-angkanya!\n",
      "- Hasilnya: list dengan 9 elemen, bukan angka 705\n"
     ]
    }
   ],
   "source": [
    "# Percobaan langsung reduce pada nested list\n",
    "reduce1 = reduce(add, nilai_mahasiswa)\n",
    "print(\"Hasil reduce langsung pada nested list:\")\n",
    "print(reduce1)\n",
    "print(f\"\\nTipe data hasil: {type(reduce1)}\")\n",
    "print(f\"Apakah ini yang kita inginkan? TIDAK!\")\n",
    "print(\"\\nYang terjadi:\")\n",
    "print(\"- Reduce menggabungkan semua list menjadi satu list panjang\")\n",
    "print(\"- Bukan menjumlahkan angka-angkanya!\")\n",
    "print(f\"- Hasilnya: list dengan {len(reduce1)} elemen, bukan angka 705\")"
   ]
  },
  {
   "cell_type": "markdown",
   "id": "00578943",
   "metadata": {},
   "source": [
    "**Penjelasan Latihan 6a:**\n",
    "\n",
    "Ketika kita mencoba langsung `reduce(add, nilai_mahasiswa)`, hasilnya **BUKAN yang kita inginkan** karena:\n",
    "\n",
    "1. `nilai_mahasiswa` adalah **nested list** (list yang berisi list)\n",
    "2. Fungsi `add()` menggunakan operator `+`\n",
    "3. Ketika `+` digunakan pada **dua list**, hasilnya adalah **penggabungan list** (concatenation), **BUKAN penjumlahan angka**\n",
    "4. Contoh:\n",
    "   ```python\n",
    "   [80, 75, 90] + [60, 70, 65] = [80, 75, 90, 60, 70, 65]  # Gabung, bukan jumlah!\n",
    "   ```\n",
    "5. `reduce()` akan terus menggabungkan list satu per satu:\n",
    "   - Iterasi 1: `[80, 75, 90] + [60, 70, 65] = [80, 75, 90, 60, 70, 65]`\n",
    "   - Iterasi 2: `[80, 75, 90, 60, 70, 65] + [85, 88, 92] = [80, 75, 90, 60, 70, 65, 85, 88, 92]`\n",
    "6. Hasilnya adalah **list panjang**, bukan **angka total** (705)\n",
    "\n",
    "**Kesimpulan:** \n",
    "- Kode berjalan tanpa error, tapi **hasilnya salah**\n",
    "- Kita dapat list dengan 9 elemen, padahal yang diinginkan adalah total angka = 705\n",
    "- Kita perlu cara lain untuk menjumlahkan semua angka dalam nested list"
   ]
  },
  {
   "cell_type": "markdown",
   "id": "88b7c474",
   "metadata": {},
   "source": [
    "### Latihan 6b - Solusi untuk menjumlahkan semua angka dalam nested list"
   ]
  },
  {
   "cell_type": "code",
   "execution_count": 50,
   "id": "661b6cfa",
   "metadata": {},
   "outputs": [
    {
     "name": "stdout",
     "output_type": "stream",
     "text": [
      "Data setelah di-flatten: [80, 75, 90, 60, 70, 65, 85, 88, 92]\n",
      "\n",
      "Total semua nilai (Solusi 1): 705\n"
     ]
    }
   ],
   "source": [
    "# Solusi 1: Flatten dulu nested list menggunakan list comprehension, baru reduce\n",
    "# Flatten = mengubah nested list menjadi list biasa (satu dimensi)\n",
    "nilai_flat = [angka for baris in nilai_mahasiswa for angka in baris]\n",
    "print(\"Data setelah di-flatten:\", nilai_flat)\n",
    "\n",
    "# Sekarang bisa di-reduce\n",
    "total_solusi1 = reduce(add, nilai_flat)\n",
    "print(f\"\\nTotal semua nilai (Solusi 1): {total_solusi1}\")"
   ]
  },
  {
   "cell_type": "code",
   "execution_count": 51,
   "id": "13f74bb6",
   "metadata": {},
   "outputs": [
    {
     "name": "stdout",
     "output_type": "stream",
     "text": [
      "Total per mahasiswa: [245, 195, 265]\n",
      "\n",
      "Total semua nilai (Solusi 2): 705\n"
     ]
    }
   ],
   "source": [
    "# Solusi 2: Reduce dua kali (nested reduce)\n",
    "# Pertama, reduce setiap baris untuk mendapat total per mahasiswa\n",
    "# Kedua, reduce hasil total per mahasiswa untuk mendapat total keseluruhan\n",
    "\n",
    "# Step 1: Jumlahkan nilai tiap mahasiswa\n",
    "total_per_mahasiswa = [reduce(add, baris) for baris in nilai_mahasiswa]\n",
    "print(\"Total per mahasiswa:\", total_per_mahasiswa)\n",
    "\n",
    "# Step 2: Jumlahkan semua total mahasiswa\n",
    "total_solusi2 = reduce(add, total_per_mahasiswa)\n",
    "print(f\"\\nTotal semua nilai (Solusi 2): {total_solusi2}\")"
   ]
  },
  {
   "cell_type": "code",
   "execution_count": 52,
   "id": "79f22814",
   "metadata": {},
   "outputs": [
    {
     "name": "stdout",
     "output_type": "stream",
     "text": [
      "Total semua nilai (Solusi 3): 705\n"
     ]
    }
   ],
   "source": [
    "# Solusi 3: Menggunakan map dan reduce\n",
    "# Map untuk jumlahkan tiap baris, reduce untuk jumlahkan hasilnya\n",
    "\n",
    "total_per_mahasiswa_map = map(lambda baris: reduce(add, baris), nilai_mahasiswa)\n",
    "# Catatan: Di sini menggunakan lambda hanya untuk demo, \n",
    "# di praktik sebaiknya buat fungsi terpisah sesuai prinsip fungsional\n",
    "\n",
    "# Alternatif tanpa lambda (lebih baik):\n",
    "def jumlahkan_baris(baris):\n",
    "    '''\n",
    "    desc: menjumlahkan semua elemen dalam sebuah list\n",
    "    pre-cond: baris adalah list berisi angka\n",
    "    post-cond: return total penjumlahan semua elemen\n",
    "    '''\n",
    "    return reduce(add, baris)\n",
    "\n",
    "total_per_mahasiswa_proper = map(jumlahkan_baris, nilai_mahasiswa)\n",
    "total_solusi3 = reduce(add, total_per_mahasiswa_proper)\n",
    "print(f\"Total semua nilai (Solusi 3): {total_solusi3}\")"
   ]
  },
  {
   "cell_type": "markdown",
   "id": "b573a05a",
   "metadata": {},
   "source": [
    "**Penjelasan Solusi:**\n",
    "\n",
    "Ada beberapa cara untuk menjumlahkan semua angka dalam nested list:\n",
    "\n",
    "**Solusi 1: Flatten + Reduce**\n",
    "1. Ubah nested list menjadi list satu dimensi menggunakan list comprehension\n",
    "2. Gunakan reduce untuk menjumlahkan semua elemen\n",
    "3. Keuntungan: Sederhana dan mudah dipahami\n",
    "4. Syntax: `[angka for baris in nilai_mahasiswa for angka in baris]`\n",
    "\n",
    "**Solusi 2: Nested Reduce (Reduce Bertingkat)**\n",
    "1. Reduce setiap baris untuk mendapat total per mahasiswa\n",
    "2. Reduce hasil total untuk mendapat total keseluruhan\n",
    "3. Keuntungan: Lebih terstruktur, bisa melihat total per mahasiswa\n",
    "4. Konsep: Menerapkan reduce dua kali secara bertahap\n",
    "\n",
    "**Solusi 3: Map + Reduce**\n",
    "1. Gunakan map untuk menerapkan reduce pada setiap baris\n",
    "2. Gunakan reduce lagi untuk menjumlahkan hasil map\n",
    "3. Keuntungan: Fungsional murni, kombinasi map dan reduce\n",
    "4. Catatan: Sebaiknya hindari lambda, gunakan fungsi terpisah\n",
    "\n",
    "**Perbandingan:**\n",
    "- Semua solusi menghasilkan hasil yang sama: **705**\n",
    "- Pilihan solusi tergantung preferensi dan kebutuhan\n",
    "- Solusi 1 paling sederhana untuk kasus langsung butuh total\n",
    "- Solusi 2 bagus jika butuh informasi total per level\n",
    "- Solusi 3 paling \"fungsional\" dengan komposisi fungsi\n",
    "\n",
    "**Pelajaran Penting:**\n",
    "- Tidak semua data bisa langsung di-reduce\n",
    "- Nested list perlu preprocessing terlebih dahulu\n",
    "- Pemahaman struktur data sangat penting\n",
    "- Kombinasi beberapa teknik fungsional bisa menyelesaikan masalah kompleks"
   ]
  }
 ],
 "metadata": {
  "kernelspec": {
   "display_name": ".venv",
   "language": "python",
   "name": "python3"
  },
  "language_info": {
   "codemirror_mode": {
    "name": "ipython",
    "version": 3
   },
   "file_extension": ".py",
   "mimetype": "text/x-python",
   "name": "python",
   "nbconvert_exporter": "python",
   "pygments_lexer": "ipython3",
   "version": "3.13.2"
  }
 },
 "nbformat": 4,
 "nbformat_minor": 5
}
