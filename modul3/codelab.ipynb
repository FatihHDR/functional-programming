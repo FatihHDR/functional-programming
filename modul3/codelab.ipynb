{
 "cells": [
  {
   "cell_type": "markdown",
   "id": "611724a0",
   "metadata": {},
   "source": [
    "# Codelab Modul 3 - Processing Sequence Data\n",
    "\n",
    "Penyelesaian Codelab 1 dan 2"
   ]
  },
  {
   "cell_type": "markdown",
   "id": "a4ea4442",
   "metadata": {},
   "source": [
    "## CODELAB 1"
   ]
  },
  {
   "cell_type": "markdown",
   "id": "5ee4a3c1",
   "metadata": {},
   "source": [
    "### Setup Data"
   ]
  },
  {
   "cell_type": "code",
   "execution_count": 2,
   "id": "a7de1ead",
   "metadata": {},
   "outputs": [
    {
     "name": "stdout",
     "output_type": "stream",
     "text": [
      "Nama Lengkap: fatahillah al fatihah\n"
     ]
    }
   ],
   "source": [
    "# Fatih - 132\n",
    "namaLengkap = \"fatahillah al fatihah\"\n",
    "print(\"Nama Lengkap:\", namaLengkap)"
   ]
  },
  {
   "cell_type": "markdown",
   "id": "989c0f26",
   "metadata": {},
   "source": [
    "### TODO 1: List Comprehension untuk Vokal dan Konsonan"
   ]
  },
  {
   "cell_type": "markdown",
   "id": "93e83865",
   "metadata": {},
   "source": [
    "**Penjelasan TODO 1:**\n",
    "\n",
    "Task ini meminta kita menggunakan **list comprehension** untuk memisahkan huruf vokal dan konsonan dari nama lengkap.\n",
    "\n",
    "**Cara Kerja:**\n",
    "- `vokal = [char for char in namaLengkap if char in 'aiueo']`\n",
    "  - Iterasi setiap karakter (`char`) dalam `namaLengkap`\n",
    "  - Jika karakter ada dalam string `'aiueo'`, masukkan ke list `vokal`\n",
    "  - Menghasilkan list berisi semua huruf vokal\n",
    "\n",
    "- `konsonan = [char for char in namaLengkap if char not in 'aiueo' and char != ' ']`\n",
    "  - Iterasi setiap karakter dalam `namaLengkap`\n",
    "  - Jika karakter BUKAN vokal DAN bukan spasi, masukkan ke list `konsonan`\n",
    "  - Menghasilkan list berisi semua huruf konsonan (tanpa spasi)\n",
    "\n",
    "**Keuntungan List Comprehension:**\n",
    "- Lebih ringkas daripada loop biasa\n",
    "- Lebih deklaratif (fokus pada \"apa\" bukan \"bagaimana\")\n",
    "- Sejalan dengan paradigma fungsional"
   ]
  },
  {
   "cell_type": "code",
   "execution_count": 3,
   "id": "430ec1b4",
   "metadata": {},
   "outputs": [
    {
     "name": "stdout",
     "output_type": "stream",
     "text": [
      "Huruf vokal: ['a', 'a', 'i', 'a', 'a', 'a', 'i', 'a']\n",
      "Huruf konsonan: ['f', 't', 'h', 'l', 'l', 'h', 'l', 'f', 't', 'h', 'h']\n"
     ]
    }
   ],
   "source": [
    "# Ambil huruf vokal dan konsonan menggunakan list comprehension\n",
    "vokal = [char for char in namaLengkap if char in 'aiueo']\n",
    "konsonan = [char for char in namaLengkap if char not in 'aiueo' and char != ' ']\n",
    "\n",
    "print(\"Huruf vokal:\", vokal)\n",
    "print(\"Huruf konsonan:\", konsonan)"
   ]
  },
  {
   "cell_type": "markdown",
   "id": "0fc2e87d",
   "metadata": {},
   "source": [
    "### TODO 2 & 3: Fungsi Double dan Map"
   ]
  },
  {
   "cell_type": "markdown",
   "id": "8461676f",
   "metadata": {},
   "source": [
    "**Penjelasan TODO 2 & 3:**\n",
    "\n",
    "**TODO 2 - Membuat Fungsi Transformasi `double(x)`:**\n",
    "\n",
    "Fungsi ini adalah **pure function** yang menerima input dan mengembalikan nilai 2x lipat.\n",
    "\n",
    "```python\n",
    "def double(x):\n",
    "    return x * 2\n",
    "```\n",
    "\n",
    "**Karakteristik:**\n",
    "- **Pure function:** Tidak ada side effect, tidak mengubah data asli\n",
    "- **Pre-condition:** `x` bisa berupa sembarang data (string, number, dll)\n",
    "- **Post-condition:** Return `2x` (untuk string = duplikasi, untuk angka = perkalian)\n",
    "\n",
    "**Contoh:**\n",
    "- `double('a')` → `'aa'` (string diduplikasi)\n",
    "- `double(5)` → `10` (angka dikalikan 2)\n",
    "\n",
    "**TODO 3 - Menggunakan `map()` untuk Transformasi Data:**\n",
    "\n",
    "```python\n",
    "new_data_vokal = map(double, vokal)\n",
    "new_data_konsonan = map(double, konsonan)\n",
    "```\n",
    "\n",
    "**Cara Kerja `map()`:**\n",
    "- `map(double, vokal)` → Menerapkan fungsi `double()` ke setiap elemen dalam `vokal`\n",
    "- Hasilnya adalah **map object** (lazy evaluation)\n",
    "- Untuk melihat hasilnya: convert ke `list()` atau `tuple()`\n",
    "\n",
    "**Output Sesuai Ketentuan:**\n",
    "- `list(new_data_vokal)` → Hasil vokal dalam bentuk **list** ✓\n",
    "- `tuple(new_data_konsonan)` → Hasil konsonan dalam bentuk **tuple** ✓\n",
    "\n",
    "**Contoh:**\n",
    "- Jika `vokal = ['a', 'i', 'a']`\n",
    "- Maka `list(map(double, vokal))` = `['aa', 'ii', 'aa']`"
   ]
  },
  {
   "cell_type": "code",
   "execution_count": 4,
   "id": "b3fda2e1",
   "metadata": {},
   "outputs": [
    {
     "name": "stdout",
     "output_type": "stream",
     "text": [
      "\n",
      "Hasil map vokal (list): ['aa', 'aa', 'ii', 'aa', 'aa', 'aa', 'ii', 'aa']\n",
      "Hasil map konsonan (tuple): ('ff', 'tt', 'hh', 'll', 'll', 'hh', 'll', 'ff', 'tt', 'hh', 'hh')\n"
     ]
    }
   ],
   "source": [
    "# Fatih - 132\n",
    "# TODO 2\n",
    "def double(x):\n",
    "    return x * 2\n",
    "\n",
    "# TODO 3\n",
    "new_data_vokal = map(double, vokal)\n",
    "new_data_konsonan = map(double, konsonan)\n",
    "\n",
    "print(\"\\nHasil map vokal (list):\", list(new_data_vokal))\n",
    "print(\"Hasil map konsonan (tuple):\", tuple(new_data_konsonan))"
   ]
  },
  {
   "cell_type": "markdown",
   "id": "e42ba7f8",
   "metadata": {},
   "source": [
    "### TODO 4 & 5: Filter Data"
   ]
  },
  {
   "cell_type": "markdown",
   "id": "96d50e63",
   "metadata": {},
   "source": [
    "**Penjelasan TODO 4 & 5:**\n",
    "\n",
    "**TODO 4 - Membuat Fungsi Logika untuk Filter:**\n",
    "\n",
    "Kita perlu membuat **fungsi logika** yang mengembalikan `True` atau `False`.\n",
    "\n",
    "```python\n",
    "def is_aa(x):\n",
    "    return x == 'aa'\n",
    "\n",
    "def is_nn(x):\n",
    "    return x == 'nn'\n",
    "```\n",
    "\n",
    "**Fungsi Logika:**\n",
    "- `is_aa(x)` → Return `True` jika `x` sama dengan `'aa'`, `False` jika tidak\n",
    "- `is_nn(x)` → Return `True` jika `x` sama dengan `'nn'`, `False` jika tidak\n",
    "- Fungsi ini akan digunakan sebagai **kriteria filter**\n",
    "\n",
    "**TODO 5 - Menggunakan `filter()` untuk Menyaring Data:**\n",
    "\n",
    "```python\n",
    "new_data_vokal = map(double, vokal)\n",
    "new_data_konsonan = map(double, konsonan)\n",
    "\n",
    "hasil_filter_vokal = filter(is_aa, new_data_vokal)\n",
    "hasil_filter_konsonan = filter(is_nn, new_data_konsonan)\n",
    "```\n",
    "\n",
    "**Alur Kerja:**\n",
    "1. **Map dulu** → Transform data dengan `double()`:\n",
    "   - `vokal` → `new_data_vokal` (semua huruf vokal jadi dobel)\n",
    "   - `konsonan` → `new_data_konsonan` (semua huruf konsonan jadi dobel)\n",
    "\n",
    "2. **Filter kemudian** → Ambil hanya yang sesuai kriteria:\n",
    "   - `filter(is_aa, new_data_vokal)` → Ambil hanya elemen `'aa'`\n",
    "   - `filter(is_nn, new_data_konsonan)` → Ambil hanya elemen `'nn'`\n",
    "\n",
    "**Contoh:**\n",
    "- Jika `vokal = ['a', 'i', 'a', 'a']`\n",
    "- Setelah `map(double)` → `['aa', 'ii', 'aa', 'aa']`\n",
    "- Setelah `filter(is_aa)` → `['aa', 'aa', 'aa']` (hanya 'aa' yang lolos)\n",
    "\n",
    "**Tampilkan dengan Iterasi:**\n",
    "```python\n",
    "for item in hasil_filter_vokal:\n",
    "    print(item)\n",
    "```\n",
    "Ini akan mencetak setiap elemen yang lolos filter satu per satu."
   ]
  },
  {
   "cell_type": "code",
   "execution_count": 5,
   "id": "4c4a1f0c",
   "metadata": {},
   "outputs": [
    {
     "name": "stdout",
     "output_type": "stream",
     "text": [
      "\n",
      "Hasil filter vokal 'aa':\n",
      "aa\n",
      "aa\n",
      "aa\n",
      "aa\n",
      "aa\n",
      "aa\n",
      "\n",
      "Hasil filter konsonan 'nn':\n"
     ]
    }
   ],
   "source": [
    "# Fatih - 132\n",
    "# TODO 4\n",
    "def is_aa(x):\n",
    "    return x == 'aa'\n",
    "\n",
    "def is_nn(x):\n",
    "    return x == 'nn'\n",
    "\n",
    "# TODO 5\n",
    "new_data_vokal = map(double, vokal)\n",
    "new_data_konsonan = map(double, konsonan)\n",
    "\n",
    "hasil_filter_vokal = filter(is_aa, new_data_vokal)\n",
    "hasil_filter_konsonan = filter(is_nn, new_data_konsonan)\n",
    "\n",
    "print(\"\\nHasil filter vokal 'aa':\")\n",
    "for item in hasil_filter_vokal:\n",
    "    print(item)\n",
    "\n",
    "print(\"\\nHasil filter konsonan 'nn':\")\n",
    "for item in hasil_filter_konsonan:\n",
    "    print(item)"
   ]
  },
  {
   "cell_type": "markdown",
   "id": "4ed307b5",
   "metadata": {},
   "source": [
    "### TODO 6, 7, 8: Reduce untuk Menghitung Huruf"
   ]
  },
  {
   "cell_type": "markdown",
   "id": "707abc77",
   "metadata": {},
   "source": [
    "**Penjelasan TODO 6, 7, 8:**\n",
    "\n",
    "**TODO 6 - Import Modul `reduce`:**\n",
    "\n",
    "```python\n",
    "from functools import reduce\n",
    "```\n",
    "\n",
    "Fungsi `reduce()` tidak tersedia secara langsung di Python, harus di-import dari modul `functools`.\n",
    "\n",
    "**TODO 7 - Membuat Fungsi untuk Reduce:**\n",
    "\n",
    "Fungsi untuk `reduce()` harus menerima **2 parameter** dan mengembalikan **1 nilai**.\n",
    "\n",
    "```python\n",
    "def countA(a, b):\n",
    "    if b == 'a':\n",
    "        return a + 1\n",
    "    else:\n",
    "        return a\n",
    "```\n",
    "\n",
    "**Parameter:**\n",
    "- `a` = **accumulator** (nilai akumulasi/hasil sementara)\n",
    "- `b` = **item saat ini** yang sedang diproses\n",
    "\n",
    "**Cara Kerja:**\n",
    "- Jika item saat ini (`b`) adalah `'a'`, tambahkan counter (`a + 1`)\n",
    "- Jika bukan, kembalikan counter tanpa perubahan (`a`)\n",
    "- Fungsi `countN()` bekerja sama, tapi untuk menghitung huruf `'n'`\n",
    "\n",
    "**TODO 8 - Menggunakan `reduce()` untuk Menghitung:**\n",
    "\n",
    "```python\n",
    "jumlahA = reduce(countA, vokal, 0)\n",
    "jumlahN = reduce(countN, konsonan, 0)\n",
    "```\n",
    "\n",
    "**Sintaks `reduce()`:**\n",
    "- `reduce(fungsi, iterable, initializer)`\n",
    "- **fungsi** = `countA` / `countN` (fungsi yang menentukan cara akumulasi)\n",
    "- **iterable** = `vokal` / `konsonan` (data yang akan diproses)\n",
    "- **initializer** = `0` (nilai awal counter)\n",
    "\n",
    "**Alur Eksekusi `reduce(countA, ['a', 'i', 'a'], 0)`:**\n",
    "\n",
    "1. **Iterasi 1:**\n",
    "   - `a` (accumulator) = 0 (dari initializer)\n",
    "   - `b` (current item) = 'a'\n",
    "   - `b == 'a'` → True → return `0 + 1 = 1`\n",
    "\n",
    "2. **Iterasi 2:**\n",
    "   - `a` = 1 (hasil iterasi sebelumnya)\n",
    "   - `b` = 'i'\n",
    "   - `b == 'a'` → False → return `1`\n",
    "\n",
    "3. **Iterasi 3:**\n",
    "   - `a` = 1\n",
    "   - `b` = 'a'\n",
    "   - `b == 'a'` → True → return `1 + 1 = 2`\n",
    "\n",
    "**Hasil Akhir:** `2` (ada 2 huruf 'a')\n",
    "\n",
    "**Mengapa Pakai Initializer `0`?**\n",
    "- Tanpa initializer, `reduce()` akan mulai dari 2 elemen pertama\n",
    "- Dengan initializer `0`, kita mulai dari nilai awal yang jelas\n",
    "- Berguna untuk menghitung dari nol"
   ]
  },
  {
   "cell_type": "code",
   "execution_count": 6,
   "id": "e2840ba3",
   "metadata": {},
   "outputs": [
    {
     "name": "stdout",
     "output_type": "stream",
     "text": [
      "\n",
      "Jumlah huruf 'a' dalam vokal: 6\n",
      "Jumlah huruf 'n' dalam konsonan: 0\n"
     ]
    }
   ],
   "source": [
    "# Fatih - 132\n",
    "# TODO 6\n",
    "from functools import reduce\n",
    "\n",
    "# TODO 7\n",
    "def countA(a, b):\n",
    "    if b == 'a':\n",
    "        return a + 1\n",
    "    else:\n",
    "        return a\n",
    "\n",
    "def countN(a, b):\n",
    "    if b == 'n':\n",
    "        return a + 1\n",
    "    else:\n",
    "        return a\n",
    "\n",
    "# TODO 8\n",
    "jumlahA = reduce(countA, vokal, 0)\n",
    "jumlahN = reduce(countN, konsonan, 0)\n",
    "\n",
    "print(\"\\nJumlah huruf 'a' dalam vokal:\", jumlahA)\n",
    "print(\"Jumlah huruf 'n' dalam konsonan:\", jumlahN)"
   ]
  },
  {
   "cell_type": "markdown",
   "id": "c48c6038",
   "metadata": {},
   "source": [
    "---"
   ]
  },
  {
   "cell_type": "markdown",
   "id": "cc5fd9a6",
   "metadata": {},
   "source": [
    "## CODELAB 2"
   ]
  },
  {
   "cell_type": "markdown",
   "id": "b462de95",
   "metadata": {},
   "source": [
    "### Fungsi Rekursif untuk Cek Palindrom"
   ]
  },
  {
   "cell_type": "code",
   "execution_count": null,
   "id": "3570eb76",
   "metadata": {},
   "outputs": [],
   "source": [
    "# Fatih - 132\n",
    "def cek_palindrom(teks):\n",
    "    if len(teks) <= 1:\n",
    "        return True\n",
    "    \n",
    "    if teks[0] != teks[-1]:\n",
    "        return False\n",
    "    \n",
    "    return cek_palindrom(teks[1:-1])"
   ]
  },
  {
   "cell_type": "markdown",
   "id": "ce0f0e51",
   "metadata": {},
   "source": [
    "### Testing dengan Data yang Diberikan"
   ]
  },
  {
   "cell_type": "code",
   "execution_count": null,
   "id": "11d1a681",
   "metadata": {},
   "outputs": [
    {
     "name": "stdout",
     "output_type": "stream",
     "text": [
      "Hasil tes palindrom:\n",
      "'katak' -> True\n",
      "'aku' -> False\n",
      "'ada' -> True\n"
     ]
    }
   ],
   "source": [
    "# Fatih - 132\n",
    "test_strings = [\"katak\", \"aku\", \"ada\"]\n",
    "\n",
    "print(\"Hasil tes palindrom:\")\n",
    "for kata in test_strings:\n",
    "    hasil = cek_palindrom(kata)\n",
    "    print(f\"'{kata}' -> {hasil}\")"
   ]
  },
  {
   "cell_type": "markdown",
   "id": "d65eae3a",
   "metadata": {},
   "source": [
    "### Penjelasan Cara Kerja Fungsi Rekursif\n",
    "\n",
    "**Contoh: `cek_palindrom(\"katak\")`**\n",
    "\n",
    "1. **Iterasi 1:** `cek_palindrom(\"katak\")`\n",
    "   - Panjang > 1 ✓\n",
    "   - `teks[0]` = 'k', `teks[-1]` = 'k' → sama ✓\n",
    "   - Rekursi: `cek_palindrom(\"ata\")`\n",
    "\n",
    "2. **Iterasi 2:** `cek_palindrom(\"ata\")`\n",
    "   - Panjang > 1 ✓\n",
    "   - `teks[0]` = 'a', `teks[-1]` = 'a' → sama ✓\n",
    "   - Rekursi: `cek_palindrom(\"t\")`\n",
    "\n",
    "3. **Iterasi 3 (Base Case):** `cek_palindrom(\"t\")`\n",
    "   - Panjang = 1 → **return True**\n",
    "\n",
    "Hasil akhir: **True** (\"katak\" adalah palindrom)\n",
    "\n",
    "**Contoh: `cek_palindrom(\"aku\")`**\n",
    "\n",
    "1. **Iterasi 1:** `cek_palindrom(\"aku\")`\n",
    "   - Panjang > 1 ✓\n",
    "   - `teks[0]` = 'a', `teks[-1]` = 'u' → **berbeda** ✗\n",
    "   - **return False**\n",
    "\n",
    "Hasil akhir: **False** (\"aku\" bukan palindrom)"
   ]
  },
  {
   "cell_type": "markdown",
   "id": "c703b1bc",
   "metadata": {},
   "source": [
    "### Test Tambahan dengan String Lain"
   ]
  },
  {
   "cell_type": "code",
   "execution_count": 8,
   "id": "5f662146",
   "metadata": {},
   "outputs": [
    {
     "name": "stdout",
     "output_type": "stream",
     "text": [
      "\n",
      "Test tambahan:\n",
      "'radar' -> True\n",
      "'level' -> True\n",
      "'python' -> False\n",
      "'malam' -> True\n",
      "'siang' -> False\n"
     ]
    }
   ],
   "source": [
    "# Test dengan string tambahan\n",
    "test_tambahan = [\"radar\", \"level\", \"python\", \"malam\", \"siang\"]\n",
    "\n",
    "print(\"\\nTest tambahan:\")\n",
    "for kata in test_tambahan:\n",
    "    hasil = cek_palindrom(kata)\n",
    "    print(f\"'{kata}' -> {hasil}\")"
   ]
  }
 ],
 "metadata": {
  "kernelspec": {
   "display_name": ".venv",
   "language": "python",
   "name": "python3"
  },
  "language_info": {
   "codemirror_mode": {
    "name": "ipython",
    "version": 3
   },
   "file_extension": ".py",
   "mimetype": "text/x-python",
   "name": "python",
   "nbconvert_exporter": "python",
   "pygments_lexer": "ipython3",
   "version": "3.13.2"
  }
 },
 "nbformat": 4,
 "nbformat_minor": 5
}
