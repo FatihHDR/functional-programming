{
 "cells": [
  {
   "cell_type": "markdown",
   "id": "611724a0",
   "metadata": {},
   "source": [
    "# Codelab Modul 3 - Processing Sequence Data\n",
    "\n",
    "Penyelesaian Codelab 1 dan 2"
   ]
  },
  {
   "cell_type": "markdown",
   "id": "a4ea4442",
   "metadata": {},
   "source": [
    "## CODELAB 1"
   ]
  },
  {
   "cell_type": "markdown",
   "id": "5ee4a3c1",
   "metadata": {},
   "source": [
    "### Setup Data"
   ]
  },
  {
   "cell_type": "code",
   "execution_count": 1,
   "id": "a7de1ead",
   "metadata": {},
   "outputs": [
    {
     "name": "stdout",
     "output_type": "stream",
     "text": [
      "Nama Lengkap: fatih habibi dahlian rizkullah\n"
     ]
    }
   ],
   "source": [
    "# Data awal\n",
    "namaLengkap = \"fatih habibi dahlian rizkullah\"  # huruf kecil semua\n",
    "print(\"Nama Lengkap:\", namaLengkap)"
   ]
  },
  {
   "cell_type": "markdown",
   "id": "989c0f26",
   "metadata": {},
   "source": [
    "### TODO 1: List Comprehension untuk Vokal dan Konsonan"
   ]
  },
  {
   "cell_type": "code",
   "execution_count": 2,
   "id": "430ec1b4",
   "metadata": {},
   "outputs": [
    {
     "name": "stdout",
     "output_type": "stream",
     "text": [
      "Huruf vokal: ['a', 'i', 'a', 'i', 'i', 'a', 'i', 'a', 'i', 'u', 'a']\n",
      "Huruf konsonan: ['f', 't', 'h', 'h', 'b', 'b', 'd', 'h', 'l', 'n', 'r', 'z', 'k', 'l', 'l', 'h']\n"
     ]
    }
   ],
   "source": [
    "# Ambil huruf vokal dan konsonan menggunakan list comprehension\n",
    "vokal = [char for char in namaLengkap if char in 'aiueo']\n",
    "konsonan = [char for char in namaLengkap if char not in 'aiueo' and char != ' ']\n",
    "\n",
    "print(\"Huruf vokal:\", vokal)\n",
    "print(\"Huruf konsonan:\", konsonan)"
   ]
  },
  {
   "cell_type": "markdown",
   "id": "0fc2e87d",
   "metadata": {},
   "source": [
    "### TODO 2 & 3: Fungsi Double dan Map"
   ]
  },
  {
   "cell_type": "code",
   "execution_count": 3,
   "id": "b3fda2e1",
   "metadata": {},
   "outputs": [
    {
     "name": "stdout",
     "output_type": "stream",
     "text": [
      "\n",
      "Hasil map vokal (list): ['aa', 'ii', 'aa', 'ii', 'ii', 'aa', 'ii', 'aa', 'ii', 'uu', 'aa']\n",
      "Hasil map konsonan (tuple): ('ff', 'tt', 'hh', 'hh', 'bb', 'bb', 'dd', 'hh', 'll', 'nn', 'rr', 'zz', 'kk', 'll', 'll', 'hh')\n"
     ]
    }
   ],
   "source": [
    "# TODO 2: Melengkapi fungsi sesuai deskripsi\n",
    "'''\n",
    "fungsi untuk mengubah nilai x menjadi 2x (dobel/duplikat)\n",
    "pre-cond: x bisa sembarang data\n",
    "post-cond: 2x (x yang diduplikasi)\n",
    "'''\n",
    "def double(x):\n",
    "    return x * 2\n",
    "\n",
    "# TODO 3: Gunakan fungsi double untuk memetakan data vokal/konsonan\n",
    "# Untuk NIM genap: gunakan vokal, untuk NIM ganjil: gunakan konsonan\n",
    "# Misal NIM ganjil, maka gunakan konsonan\n",
    "new_data_vokal = map(double, vokal)\n",
    "new_data_konsonan = map(double, konsonan)\n",
    "\n",
    "# Tampilkan hasil berupa list untuk vokal dan tuple untuk konsonan\n",
    "print(\"\\nHasil map vokal (list):\", list(new_data_vokal))\n",
    "print(\"Hasil map konsonan (tuple):\", tuple(new_data_konsonan))"
   ]
  },
  {
   "cell_type": "markdown",
   "id": "e42ba7f8",
   "metadata": {},
   "source": [
    "### TODO 4 & 5: Filter Data"
   ]
  },
  {
   "cell_type": "code",
   "execution_count": 4,
   "id": "4c4a1f0c",
   "metadata": {},
   "outputs": [
    {
     "name": "stdout",
     "output_type": "stream",
     "text": [
      "\n",
      "Hasil filter vokal 'aa':\n",
      "aa\n",
      "aa\n",
      "aa\n",
      "aa\n",
      "aa\n",
      "\n",
      "Hasil filter konsonan 'nn':\n",
      "nn\n"
     ]
    }
   ],
   "source": [
    "# TODO 4: Definisikan fungsi logika untuk memilih huruf tertentu\n",
    "'''\n",
    "desc: fungsi untuk memeriksa apakah huruf adalah 'aa' (vokal dobel)\n",
    "pre-cond: x adalah string\n",
    "post-cond: return True jika x == 'aa', False jika tidak\n",
    "'''\n",
    "def is_aa(x):\n",
    "    return x == 'aa'\n",
    "\n",
    "'''\n",
    "desc: fungsi untuk memeriksa apakah huruf adalah 'nn' (konsonan dobel)\n",
    "pre-cond: x adalah string\n",
    "post-cond: return True jika x == 'nn', False jika tidak\n",
    "'''\n",
    "def is_nn(x):\n",
    "    return x == 'nn'\n",
    "\n",
    "# TODO 5: Penggunaan fungsi filter untuk memfilter data hasil map sebelumnya\n",
    "# Perlu map ulang karena map object sudah diiterasi sebelumnya\n",
    "new_data_vokal = map(double, vokal)\n",
    "new_data_konsonan = map(double, konsonan)\n",
    "\n",
    "hasil_filter_vokal = filter(is_aa, new_data_vokal)\n",
    "hasil_filter_konsonan = filter(is_nn, new_data_konsonan)\n",
    "\n",
    "print(\"\\nHasil filter vokal 'aa':\")\n",
    "for item in hasil_filter_vokal:\n",
    "    print(item)\n",
    "\n",
    "print(\"\\nHasil filter konsonan 'nn':\")\n",
    "for item in hasil_filter_konsonan:\n",
    "    print(item)"
   ]
  },
  {
   "cell_type": "markdown",
   "id": "4ed307b5",
   "metadata": {},
   "source": [
    "### TODO 6, 7, 8: Reduce untuk Menghitung Huruf"
   ]
  },
  {
   "cell_type": "code",
   "execution_count": 5,
   "id": "e2840ba3",
   "metadata": {},
   "outputs": [
    {
     "name": "stdout",
     "output_type": "stream",
     "text": [
      "\n",
      "Jumlah huruf 'a' dalam vokal: 5\n",
      "Jumlah huruf 'n' dalam konsonan: 1\n"
     ]
    }
   ],
   "source": [
    "# TODO 6: Import reduce\n",
    "from functools import reduce\n",
    "\n",
    "# TODO 7: Definisikan fungsi reduce untuk menghitung jumlah huruf tertentu\n",
    "'''\n",
    "desc: fungsi untuk menghitung jumlah huruf 'a' yang muncul\n",
    "pre-cond: a adalah counter (integer), b adalah huruf (string)\n",
    "post-cond: return counter + 1 jika b adalah 'a', selain itu return counter saja\n",
    "'''\n",
    "def countA(a, b):\n",
    "    # logika penghitungan jumlah huruf 'a'\n",
    "    if b == 'a':\n",
    "        return a + 1\n",
    "    else:\n",
    "        return a\n",
    "\n",
    "'''\n",
    "desc: fungsi untuk menghitung jumlah huruf 'n' yang muncul\n",
    "pre-cond: a adalah counter (integer), b adalah huruf (string)\n",
    "post-cond: return counter + 1 jika b adalah 'n', selain itu return counter saja\n",
    "'''\n",
    "def countN(a, b):\n",
    "    # logika penghitungan jumlah huruf 'n'\n",
    "    if b == 'n':\n",
    "        return a + 1\n",
    "    else:\n",
    "        return a\n",
    "\n",
    "# TODO 8: Gunakan reduce() untuk menghitung total kemunculan huruf\n",
    "jumlahA = reduce(countA, vokal, 0)  # dimulai dari 0\n",
    "jumlahN = reduce(countN, konsonan, 0)  # dimulai dari 0\n",
    "\n",
    "print(\"\\nJumlah huruf 'a' dalam vokal:\", jumlahA)\n",
    "print(\"Jumlah huruf 'n' dalam konsonan:\", jumlahN)"
   ]
  },
  {
   "cell_type": "markdown",
   "id": "c48c6038",
   "metadata": {},
   "source": [
    "---"
   ]
  },
  {
   "cell_type": "markdown",
   "id": "cc5fd9a6",
   "metadata": {},
   "source": [
    "## CODELAB 2"
   ]
  },
  {
   "cell_type": "markdown",
   "id": "b462de95",
   "metadata": {},
   "source": [
    "### Fungsi Rekursif untuk Cek Palindrom"
   ]
  },
  {
   "cell_type": "code",
   "execution_count": 6,
   "id": "3570eb76",
   "metadata": {},
   "outputs": [],
   "source": [
    "'''\n",
    "desc: fungsi rekursif untuk memeriksa apakah string adalah palindrom\n",
    "pre-cond: teks adalah string\n",
    "post-cond: return True jika palindrom, False jika bukan\n",
    "'''\n",
    "def cek_palindrom(teks):\n",
    "    # Base case: jika panjang string <= 1, maka palindrom\n",
    "    if len(teks) <= 1:\n",
    "        return True\n",
    "    \n",
    "    # Cek karakter pertama dan terakhir\n",
    "    if teks[0] != teks[-1]:\n",
    "        return False  # Jika berbeda, bukan palindrom\n",
    "    \n",
    "    # Recursive case: periksa substring di dalamnya (tanpa karakter pertama dan terakhir)\n",
    "    return cek_palindrom(teks[1:-1])"
   ]
  },
  {
   "cell_type": "markdown",
   "id": "ce0f0e51",
   "metadata": {},
   "source": [
    "### Testing dengan Data yang Diberikan"
   ]
  },
  {
   "cell_type": "code",
   "execution_count": 7,
   "id": "11d1a681",
   "metadata": {},
   "outputs": [
    {
     "name": "stdout",
     "output_type": "stream",
     "text": [
      "Hasil tes palindrom:\n",
      "'katak' -> True\n",
      "'aku' -> False\n",
      "'ada' -> True\n"
     ]
    }
   ],
   "source": [
    "# Test dengan string yang diberikan\n",
    "test_strings = [\"katak\", \"aku\", \"ada\"]\n",
    "\n",
    "print(\"Hasil tes palindrom:\")\n",
    "for kata in test_strings:\n",
    "    hasil = cek_palindrom(kata)\n",
    "    print(f\"'{kata}' -> {hasil}\")"
   ]
  },
  {
   "cell_type": "markdown",
   "id": "d65eae3a",
   "metadata": {},
   "source": [
    "### Penjelasan Cara Kerja Fungsi Rekursif\n",
    "\n",
    "**Contoh: `cek_palindrom(\"katak\")`**\n",
    "\n",
    "1. **Iterasi 1:** `cek_palindrom(\"katak\")`\n",
    "   - Panjang > 1 ✓\n",
    "   - `teks[0]` = 'k', `teks[-1]` = 'k' → sama ✓\n",
    "   - Rekursi: `cek_palindrom(\"ata\")`\n",
    "\n",
    "2. **Iterasi 2:** `cek_palindrom(\"ata\")`\n",
    "   - Panjang > 1 ✓\n",
    "   - `teks[0]` = 'a', `teks[-1]` = 'a' → sama ✓\n",
    "   - Rekursi: `cek_palindrom(\"t\")`\n",
    "\n",
    "3. **Iterasi 3 (Base Case):** `cek_palindrom(\"t\")`\n",
    "   - Panjang = 1 → **return True**\n",
    "\n",
    "Hasil akhir: **True** (\"katak\" adalah palindrom)\n",
    "\n",
    "**Contoh: `cek_palindrom(\"aku\")`**\n",
    "\n",
    "1. **Iterasi 1:** `cek_palindrom(\"aku\")`\n",
    "   - Panjang > 1 ✓\n",
    "   - `teks[0]` = 'a', `teks[-1]` = 'u' → **berbeda** ✗\n",
    "   - **return False**\n",
    "\n",
    "Hasil akhir: **False** (\"aku\" bukan palindrom)"
   ]
  },
  {
   "cell_type": "markdown",
   "id": "c703b1bc",
   "metadata": {},
   "source": [
    "### Test Tambahan dengan String Lain"
   ]
  },
  {
   "cell_type": "code",
   "execution_count": 8,
   "id": "5f662146",
   "metadata": {},
   "outputs": [
    {
     "name": "stdout",
     "output_type": "stream",
     "text": [
      "\n",
      "Test tambahan:\n",
      "'radar' -> True\n",
      "'level' -> True\n",
      "'python' -> False\n",
      "'malam' -> True\n",
      "'siang' -> False\n"
     ]
    }
   ],
   "source": [
    "# Test dengan string tambahan\n",
    "test_tambahan = [\"radar\", \"level\", \"python\", \"malam\", \"siang\"]\n",
    "\n",
    "print(\"\\nTest tambahan:\")\n",
    "for kata in test_tambahan:\n",
    "    hasil = cek_palindrom(kata)\n",
    "    print(f\"'{kata}' -> {hasil}\")"
   ]
  }
 ],
 "metadata": {
  "kernelspec": {
   "display_name": ".venv",
   "language": "python",
   "name": "python3"
  },
  "language_info": {
   "codemirror_mode": {
    "name": "ipython",
    "version": 3
   },
   "file_extension": ".py",
   "mimetype": "text/x-python",
   "name": "python",
   "nbconvert_exporter": "python",
   "pygments_lexer": "ipython3",
   "version": "3.13.2"
  }
 },
 "nbformat": 4,
 "nbformat_minor": 5
}
